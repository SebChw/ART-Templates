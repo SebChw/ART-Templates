{
 "cells": [
  {
   "cell_type": "markdown",
   "metadata": {},
   "source": [
    "# ART tutorial for MNIST dataset"
   ]
  },
  {
   "cell_type": "markdown",
   "metadata": {},
   "source": [
    "Welcome to the **ART** tutorial for the MNIST dataset. In this tutorial, we will demonstrate how to perform a deep learning experiment using ART.\n",
    "\n",
    "The tutorial is divided into the following sections:\n",
    "1. Introduction to ART\n",
    "2. Installation of required packages\n",
    "3. Basic usage of ART "
   ]
  },
  {
   "cell_type": "markdown",
   "metadata": {},
   "source": [
    "## 1. Introduction to ART"
   ]
  },
  {
   "cell_type": "markdown",
   "metadata": {},
   "source": [
    "ART is designed to support deep learning researchers providing a special pipeline to perform all experments in a unified way. Each experiment is defined of the following components:\n",
    "- **Dataset**: Each Project is supposed to deal with one dataset. ART supports every LightningDataModule from PyTorch Lightning, and every torch Dataset with its own dataloader.\n",
    "- **Model**: While exploring different models, ART provides a unified way to define and train models. ART uses **ArtModule** that inherits from PyTorch Lightning's LightningModule. ArtModules are designed to be easily configurable and to support different model architectures.\n",
    "- **Step**: Unitary process that takes you closer to your final goal - good Deep Learning model. **In this tutorial we present you steps that were inspired by Andrej Karpathy's** [Recipe for Training Neural Networks](http://karpathy.github.io/2019/04/25/recipe/):\n",
    "    1. EvaluateBaseline - before starting a new project it is good to know with whom we compete.\n",
    "    2. CheckLossOnInit - Checking Loss right after network initialization is a very good debug step\n",
    "    3. OverfitOneBatch - If you can't Overfit single batch, it is very unlikely that your network will work any good.\n",
    "    4. Overfit - By reducing wanted metric on training set you can observe `theoreticall` achievable minimum if this value doesn't satisfy you it is very unlikely it will be better on the test set.\n",
    "    5. Regularize - Usually gap between training and validation score is quite big and we need to introduce regularization techniques to achieve satisfactory validation accuracy.\n",
    "- **Metrics**: To make you write less code we implemented `MetricCalculator`, a special object that takes care of metric calculation between all steps. The only thing you have to do is to `register` metrics that you want to compute.\n",
    "- **Check**: For every step you must pass a list of `Check` objects that must be fulfilled for the step to be passed. You may encounter checks like `CheckScoreExists` or `CheckCloseTo`. Every check takes at least 3 arguments:\n",
    "  - Metric, which value at the end of a step will be checked. This may be e.g `nn.CrossEntropyLoss` object.\n",
    "  - Stage, During different steps you'll be interested in performance at either Training or Validation. You must pass information about this too.\n",
    "  - value, wanted value of the check\n",
    "- **Art Project**: Every project consists of many steps. You can add them to `ArtProject` which is responsible for running them. `ArtProject` also saves metadata about your steps that you can later see in `Dasboard`. \n",
    "\n"
   ]
  },
  {
   "cell_type": "markdown",
   "metadata": {},
   "source": [
    "## 2. Install dependencies"
   ]
  },
  {
   "cell_type": "markdown",
   "metadata": {},
   "source": [
    "At this stage we assume that you have already installed the ART package. If not, please refer to the [ART README](https://github.com/SebChw/art#readme)\n",
    "\n",
    "We will also need to install the following packages:"
   ]
  },
  {
   "cell_type": "code",
   "execution_count": 2,
   "metadata": {
    "ExecuteTime": {
     "start_time": "2023-10-08T11:19:21.866669Z",
     "end_time": "2023-10-08T11:19:27.813167Z"
    }
   },
   "outputs": [
    {
     "name": "stdout",
     "output_type": "stream",
     "text": [
      "Requirement already satisfied: transformers in /home/kacper/anaconda3/envs/art/lib/python3.8/site-packages (4.34.0)\r\n",
      "Requirement already satisfied: albumentations in /home/kacper/anaconda3/envs/art/lib/python3.8/site-packages (1.3.1)\r\n",
      "Requirement already satisfied: torchvision in /home/kacper/anaconda3/envs/art/lib/python3.8/site-packages (0.16.0)\r\n",
      "Requirement already satisfied: einops in /home/kacper/anaconda3/envs/art/lib/python3.8/site-packages (0.7.0)\r\n",
      "Requirement already satisfied: filelock in /home/kacper/anaconda3/envs/art/lib/python3.8/site-packages (from transformers) (3.12.4)\r\n",
      "Requirement already satisfied: huggingface-hub<1.0,>=0.16.4 in /home/kacper/anaconda3/envs/art/lib/python3.8/site-packages (from transformers) (0.17.3)\r\n",
      "Requirement already satisfied: numpy>=1.17 in /home/kacper/anaconda3/envs/art/lib/python3.8/site-packages (from transformers) (1.24.4)\r\n",
      "Requirement already satisfied: packaging>=20.0 in /home/kacper/anaconda3/envs/art/lib/python3.8/site-packages (from transformers) (23.2)\r\n",
      "Requirement already satisfied: pyyaml>=5.1 in /home/kacper/anaconda3/envs/art/lib/python3.8/site-packages (from transformers) (6.0.1)\r\n",
      "Requirement already satisfied: regex!=2019.12.17 in /home/kacper/anaconda3/envs/art/lib/python3.8/site-packages (from transformers) (2023.10.3)\r\n",
      "Requirement already satisfied: requests in /home/kacper/anaconda3/envs/art/lib/python3.8/site-packages (from transformers) (2.31.0)\r\n",
      "Requirement already satisfied: tokenizers<0.15,>=0.14 in /home/kacper/anaconda3/envs/art/lib/python3.8/site-packages (from transformers) (0.14.1)\r\n",
      "Requirement already satisfied: safetensors>=0.3.1 in /home/kacper/anaconda3/envs/art/lib/python3.8/site-packages (from transformers) (0.4.0)\r\n",
      "Requirement already satisfied: tqdm>=4.27 in /home/kacper/anaconda3/envs/art/lib/python3.8/site-packages (from transformers) (4.66.1)\r\n",
      "Requirement already satisfied: scipy>=1.1.0 in /home/kacper/anaconda3/envs/art/lib/python3.8/site-packages (from albumentations) (1.10.1)\r\n",
      "Requirement already satisfied: scikit-image>=0.16.1 in /home/kacper/anaconda3/envs/art/lib/python3.8/site-packages (from albumentations) (0.21.0)\r\n",
      "Requirement already satisfied: qudida>=0.0.4 in /home/kacper/anaconda3/envs/art/lib/python3.8/site-packages (from albumentations) (0.0.4)\r\n",
      "Requirement already satisfied: opencv-python-headless>=4.1.1 in /home/kacper/anaconda3/envs/art/lib/python3.8/site-packages (from albumentations) (4.8.1.78)\r\n",
      "Requirement already satisfied: torch==2.1.0 in /home/kacper/anaconda3/envs/art/lib/python3.8/site-packages (from torchvision) (2.1.0)\r\n",
      "Requirement already satisfied: pillow!=8.3.*,>=5.3.0 in /home/kacper/anaconda3/envs/art/lib/python3.8/site-packages (from torchvision) (10.0.1)\r\n",
      "Requirement already satisfied: typing-extensions in /home/kacper/anaconda3/envs/art/lib/python3.8/site-packages (from torch==2.1.0->torchvision) (4.8.0)\r\n",
      "Requirement already satisfied: sympy in /home/kacper/anaconda3/envs/art/lib/python3.8/site-packages (from torch==2.1.0->torchvision) (1.12)\r\n",
      "Requirement already satisfied: networkx in /home/kacper/anaconda3/envs/art/lib/python3.8/site-packages (from torch==2.1.0->torchvision) (3.1)\r\n",
      "Requirement already satisfied: jinja2 in /home/kacper/anaconda3/envs/art/lib/python3.8/site-packages (from torch==2.1.0->torchvision) (3.1.2)\r\n",
      "Requirement already satisfied: fsspec in /home/kacper/anaconda3/envs/art/lib/python3.8/site-packages (from torch==2.1.0->torchvision) (2023.6.0)\r\n",
      "Requirement already satisfied: nvidia-cuda-nvrtc-cu12==12.1.105 in /home/kacper/anaconda3/envs/art/lib/python3.8/site-packages (from torch==2.1.0->torchvision) (12.1.105)\r\n",
      "Requirement already satisfied: nvidia-cuda-runtime-cu12==12.1.105 in /home/kacper/anaconda3/envs/art/lib/python3.8/site-packages (from torch==2.1.0->torchvision) (12.1.105)\r\n",
      "Requirement already satisfied: nvidia-cuda-cupti-cu12==12.1.105 in /home/kacper/anaconda3/envs/art/lib/python3.8/site-packages (from torch==2.1.0->torchvision) (12.1.105)\r\n",
      "Requirement already satisfied: nvidia-cudnn-cu12==8.9.2.26 in /home/kacper/anaconda3/envs/art/lib/python3.8/site-packages (from torch==2.1.0->torchvision) (8.9.2.26)\r\n",
      "Requirement already satisfied: nvidia-cublas-cu12==12.1.3.1 in /home/kacper/anaconda3/envs/art/lib/python3.8/site-packages (from torch==2.1.0->torchvision) (12.1.3.1)\r\n",
      "Requirement already satisfied: nvidia-cufft-cu12==11.0.2.54 in /home/kacper/anaconda3/envs/art/lib/python3.8/site-packages (from torch==2.1.0->torchvision) (11.0.2.54)\r\n",
      "Requirement already satisfied: nvidia-curand-cu12==10.3.2.106 in /home/kacper/anaconda3/envs/art/lib/python3.8/site-packages (from torch==2.1.0->torchvision) (10.3.2.106)\r\n",
      "Requirement already satisfied: nvidia-cusolver-cu12==11.4.5.107 in /home/kacper/anaconda3/envs/art/lib/python3.8/site-packages (from torch==2.1.0->torchvision) (11.4.5.107)\r\n",
      "Requirement already satisfied: nvidia-cusparse-cu12==12.1.0.106 in /home/kacper/anaconda3/envs/art/lib/python3.8/site-packages (from torch==2.1.0->torchvision) (12.1.0.106)\r\n",
      "Requirement already satisfied: nvidia-nccl-cu12==2.18.1 in /home/kacper/anaconda3/envs/art/lib/python3.8/site-packages (from torch==2.1.0->torchvision) (2.18.1)\r\n",
      "Requirement already satisfied: nvidia-nvtx-cu12==12.1.105 in /home/kacper/anaconda3/envs/art/lib/python3.8/site-packages (from torch==2.1.0->torchvision) (12.1.105)\r\n",
      "Requirement already satisfied: triton==2.1.0 in /home/kacper/anaconda3/envs/art/lib/python3.8/site-packages (from torch==2.1.0->torchvision) (2.1.0)\r\n",
      "Requirement already satisfied: nvidia-nvjitlink-cu12 in /home/kacper/anaconda3/envs/art/lib/python3.8/site-packages (from nvidia-cusolver-cu12==11.4.5.107->torch==2.1.0->torchvision) (12.2.140)\r\n",
      "Requirement already satisfied: scikit-learn>=0.19.1 in /home/kacper/anaconda3/envs/art/lib/python3.8/site-packages (from qudida>=0.0.4->albumentations) (1.3.1)\r\n",
      "Requirement already satisfied: imageio>=2.27 in /home/kacper/anaconda3/envs/art/lib/python3.8/site-packages (from scikit-image>=0.16.1->albumentations) (2.31.5)\r\n",
      "Requirement already satisfied: tifffile>=2022.8.12 in /home/kacper/anaconda3/envs/art/lib/python3.8/site-packages (from scikit-image>=0.16.1->albumentations) (2023.7.10)\r\n",
      "Requirement already satisfied: PyWavelets>=1.1.1 in /home/kacper/anaconda3/envs/art/lib/python3.8/site-packages (from scikit-image>=0.16.1->albumentations) (1.4.1)\r\n",
      "Requirement already satisfied: lazy_loader>=0.2 in /home/kacper/anaconda3/envs/art/lib/python3.8/site-packages (from scikit-image>=0.16.1->albumentations) (0.3)\r\n",
      "Requirement already satisfied: charset-normalizer<4,>=2 in /home/kacper/anaconda3/envs/art/lib/python3.8/site-packages (from requests->transformers) (3.3.0)\r\n",
      "Requirement already satisfied: idna<4,>=2.5 in /home/kacper/anaconda3/envs/art/lib/python3.8/site-packages (from requests->transformers) (3.4)\r\n",
      "Requirement already satisfied: urllib3<3,>=1.21.1 in /home/kacper/anaconda3/envs/art/lib/python3.8/site-packages (from requests->transformers) (1.26.17)\r\n",
      "Requirement already satisfied: certifi>=2017.4.17 in /home/kacper/anaconda3/envs/art/lib/python3.8/site-packages (from requests->transformers) (2023.7.22)\r\n",
      "Requirement already satisfied: joblib>=1.1.1 in /home/kacper/anaconda3/envs/art/lib/python3.8/site-packages (from scikit-learn>=0.19.1->qudida>=0.0.4->albumentations) (1.3.2)\r\n",
      "Requirement already satisfied: threadpoolctl>=2.0.0 in /home/kacper/anaconda3/envs/art/lib/python3.8/site-packages (from scikit-learn>=0.19.1->qudida>=0.0.4->albumentations) (3.2.0)\r\n",
      "Requirement already satisfied: MarkupSafe>=2.0 in /home/kacper/anaconda3/envs/art/lib/python3.8/site-packages (from jinja2->torch==2.1.0->torchvision) (2.1.3)\r\n",
      "Requirement already satisfied: mpmath>=0.19 in /home/kacper/anaconda3/envs/art/lib/python3.8/site-packages (from sympy->torch==2.1.0->torchvision) (1.3.0)\r\n"
     ]
    }
   ],
   "source": [
    "!pip install transformers albumentations torchvision einops"
   ]
  },
  {
   "cell_type": "markdown",
   "metadata": {},
   "source": [
    "## 3. Basic usage of ART\n",
    "Normally after cloning the project template you would have to implement every code template inside `exp1` on your own. We would just provide the project skeleton with all classes and functions defined, but not implemented. For this tutorial, we implemented all the functions so that you can observe how to use art.\n",
    "\n",
    "Let's tackle this strong enemy with the art framework."
   ]
  },
  {
   "cell_type": "markdown",
   "metadata": {},
   "source": [
    "### Data preparation\n",
    "First, we need to download the data. We highly recommend using Huggingface datasets wrapped into the Lightning Data Module. You can also use Torch Datasets and DataLoaders. This time we prepared `MNISTDataModoule` for you. But if you work with your custom data you must implement it by yourself. Look inside `art_data.py` to see how we've done this\n"
   ]
  },
  {
   "cell_type": "code",
   "execution_count": 1,
   "metadata": {
    "ExecuteTime": {
     "start_time": "2023-10-08T13:31:48.703371Z",
     "end_time": "2023-10-08T13:31:48.708887Z"
    }
   },
   "outputs": [
    {
     "data": {
      "text/plain": "True"
     },
     "execution_count": 1,
     "metadata": {},
     "output_type": "execute_result"
    }
   ],
   "source": [
    "%load_ext autoreload\n",
    "%autoreload 2"
   ]
  },
  {
   "cell_type": "code",
   "execution_count": 2,
   "metadata": {
    "ExecuteTime": {
     "start_time": "2023-10-08T13:31:49.012698Z",
     "end_time": "2023-10-08T13:31:49.052130Z"
    },
    "collapsed": false
   },
   "outputs": [],
   "source": [
    "from lightning import  seed_everything\n",
    "seed_everything(23)"
   ]
  },
  {
   "cell_type": "code",
   "execution_count": 5,
   "metadata": {
    "ExecuteTime": {
     "start_time": "2023-10-08T13:32:08.939065Z",
     "end_time": "2023-10-08T13:32:09.015792Z"
    }
   },
   "outputs": [
    {
     "name": "stderr",
     "output_type": "stream",
     "text": [
      "Global seed set to 46\n"
     ]
    },
    {
     "data": {
      "text/plain": "46"
     },
     "execution_count": 5,
     "metadata": {},
     "output_type": "execute_result"
    }
   ],
   "source": [
    "import pytorch_lightning as pl\n",
    "\n",
    "pl.seed_everything(23)"
   ]
  },
  {
   "cell_type": "code",
   "execution_count": 6,
   "metadata": {
    "ExecuteTime": {
     "start_time": "2023-10-08T13:32:09.478139Z",
     "end_time": "2023-10-08T13:32:12.802965Z"
    }
   },
   "outputs": [],
   "source": [
    "import datasets\n",
    "from art_data import MNISTDataModule\n",
    "from art.utils.enums import INPUT, TARGET\n",
    "\n",
    "def get_data_module(n_train=200):\n",
    "    mnist_data = datasets.load_dataset(\"mnist\")\n",
    "\n",
    "    mnist_data = mnist_data.rename_columns({\"image\": INPUT, \"label\": TARGET})\n",
    "    mnist_data['train'] = mnist_data['train'].select(range(n_train))\n",
    "\n",
    "    return MNISTDataModule(mnist_data)\n",
    "\n",
    "\n",
    "mnist_data_module = get_data_module()"
   ]
  },
  {
   "cell_type": "markdown",
   "metadata": {
    "ExecuteTime": {
     "start_time": "2023-10-08T12:49:42.999079Z",
     "end_time": "2023-10-08T12:49:43.085689Z"
    }
   },
   "source": [
    "### Data analysis\n",
    "\n",
    "In every project we encourage you to start with a deep look into the data. Currently, we are working on a tool that will help you with this task. For now, we left this part for you to implement on your own."
   ],
   "outputs": [],
   "execution_count": 8
  },
  {
   "cell_type": "code",
   "execution_count": 7,
   "metadata": {
    "ExecuteTime": {
     "start_time": "2023-10-08T13:32:12.971375Z",
     "end_time": "2023-10-08T13:32:12.995531Z"
    }
   },
   "outputs": [],
   "source": [
    "# Data analisys code goes here"
   ]
  },
  {
   "cell_type": "markdown",
   "metadata": {
    "ExecuteTime": {
     "start_time": "2023-10-08T13:32:18.359397Z",
     "end_time": "2023-10-08T13:32:21.263496Z"
    }
   },
   "source": [
    "### Metrics & experiment definition\n",
    "\n",
    "1. We define the **Experiment** - the heart of art. Later we will add steps that will be performed for this particular experiment.\n",
    "2. We register some metrics in **MetricCalculator** - this class performs metric calculations for all models defined by you during every step. The only need you must provide is a consistent format of returned data from different models. You can easily add exceptions - we don't want to calculate the loss for the Evaluate Baseline Step. If some metrics are expensive to calculate you add an exception and it won't be calculated. You don't need to modify the code to modify metrics behavior."
   ],
   "outputs": [],
   "execution_count": 8
  },
  {
   "cell_type": "code",
   "execution_count": 10,
   "metadata": {
    "ExecuteTime": {
     "start_time": "2023-10-08T12:39:24.145894Z",
     "end_time": "2023-10-08T12:39:24.245822Z"
    }
   },
   "outputs": [],
   "source": [
    "from torchmetrics import Accuracy\n",
    "import torch.nn as nn\n",
    "from art.step.steps import EvaluateBaseline\n",
    "from art.experiment.Experiment import ArtProject\n",
    "\n",
    "project = ArtProject(\"exp1\", mnist_data_module)\n",
    "\n",
    "NUM_CLASSES = len(mnist_data_module.dataset['train']['target'].unique())\n",
    "accuracy_metric, ce_loss = Accuracy(task=\"multiclass\", num_classes = NUM_CLASSES), nn.CrossEntropyLoss()\n",
    "project.register_metrics([accuracy_metric, ce_loss])"
   ]
  },
  {
   "cell_type": "markdown",
   "metadata": {
    "ExecuteTime": {
     "start_time": "2023-10-08T13:32:28.675838Z",
     "end_time": "2023-10-08T13:32:28.778233Z"
    }
   },
   "source": [
    "### Baselines\n",
    "\n",
    "Starting any Machine Learning project it is good to have some baseline for comparison. Here in `ART` we try to encourage you to try at least one of those:\n",
    "* ML Baseline - Not for all problems we need Deep Learning. For tabular data or time series, there are ML models that you can take off the shelf and obtain very good results. \n",
    "* Heuristic Baseline - Sometimes you may have some intuition on how should be data regressed or classified. It is always worth to check how good these are.\n",
    "* Existing solution baseline - If the problem is already solved, checking existing solutions and pointing out their drawbacks to improve on is always worth doing.\n",
    "\n",
    "\n",
    "Another good habit is to separate your code into many smaller modules and don't do everything inside one gigantic Jupyter notebook. Look inside the `baselines.py` file where we have prepared everything for you.\n",
    "\n",
    "Have you observed plenty of small functions inside each of the classes? These will create pipelines of your ArtModule.\n",
    "\n",
    "E.g. `MlBaseline` has functions `parse_data_for_ml` and `baseline_train` that both create `ml_train_pipeline` that is defined inside art. As you become more familiar with `ART` you will be able to create your own pipelines and their building blocks.\n",
    "\n",
    "Finally, to offer you a high level of flexibility we pass data between all stages with the use of a dictionary (This will be changed into a better structure in the future).\n"
   ],
   "outputs": [],
   "execution_count": 9
  },
  {
   "cell_type": "code",
   "execution_count": 7,
   "metadata": {
    "ExecuteTime": {
     "start_time": "2023-10-08T11:25:13.274693Z",
     "end_time": "2023-10-08T11:25:14.213172Z"
    }
   },
   "outputs": [
    {
     "name": "stderr",
     "output_type": "stream",
     "text": [
      "GPU available: True (cuda), used: False\n",
      "TPU available: False, using: 0 TPU cores\n",
      "IPU available: False, using: 0 IPUs\n",
      "HPU available: False, using: 0 HPUs\n",
      "/home/kacper/anaconda3/envs/art/lib/python3.8/site-packages/lightning/pytorch/trainer/setup.py:176: PossibleUserWarning: GPU available but not used. Set `accelerator` and `devices` using `Trainer(accelerator='gpu', devices=1)`.\n",
      "  rank_zero_warn(\n",
      "/home/kacper/anaconda3/envs/art/lib/python3.8/site-packages/lightning/pytorch/trainer/connectors/logger_connector/logger_connector.py:67: UserWarning: Starting from v1.9.0, `tensorboardX` has been removed as a dependency of the `lightning.pytorch` package, due to potential conflicts with other packages in the ML ecosystem. For this reason, `logger=True` will use `CSVLogger` as the default logger, unless the `tensorboard` or `tensorboardX` packages are found. Please `pip install lightning[extra]` or one of them to enable TensorBoard support by default\n",
      "  warning_cache.warn(\n",
      "GPU available: True (cuda), used: False\n",
      "TPU available: False, using: 0 TPU cores\n",
      "IPU available: False, using: 0 IPUs\n",
      "HPU available: False, using: 0 HPUs\n",
      "GPU available: True (cuda), used: False\n",
      "TPU available: False, using: 0 TPU cores\n",
      "IPU available: False, using: 0 IPUs\n",
      "HPU available: False, using: 0 HPUs\n"
     ]
    }
   ],
   "source": [
    "from art.core.MetricCalculator import SkippedMetric\n",
    "from baselines import MlBaseline, HeuristicBaseline, AlreadyExistingSolutionBaseline\n",
    "from art.step.checks import CheckScoreExists\n",
    "from sklearn.linear_model import LogisticRegression\n",
    "from art.utils.enums import TrainingStage\n",
    "baselines = [HeuristicBaseline(), MlBaseline(\n",
    "    model=LogisticRegression()), \n",
    "    AlreadyExistingSolutionBaseline()\n",
    "    ]\n",
    "for baseline in baselines:\n",
    "    project.add_step(\n",
    "        step = EvaluateBaseline(baseline), \n",
    "        checks = [CheckScoreExists(metric=accuracy_metric)],\n",
    "        skipped_metrics=[SkippedMetric(metric=ce_loss)]\n",
    "    )"
   ]
  },
  {
   "cell_type": "markdown",
   "metadata": {
    "ExecuteTime": {
     "start_time": "2023-10-08T13:32:35.123832Z",
     "end_time": "2023-10-08T13:32:36.582993Z"
    }
   },
   "source": [
    "Here we defined our 3 baselines. You can check how these are structured in `baselines.py` file. Next we create our first step that will consist of their evaluation. We always add new steps in a form: `step to be performd`, `list_of_check_to_be_performed`"
   ],
   "outputs": [
    {
     "name": "stderr",
     "output_type": "stream",
     "text": [
      "GPU available: True (cuda), used: False\n",
      "TPU available: False, using: 0 TPU cores\n",
      "IPU available: False, using: 0 IPUs\n",
      "HPU available: False, using: 0 HPUs\n",
      "/home/kacper/anaconda3/envs/art/lib/python3.8/site-packages/lightning/pytorch/trainer/setup.py:176: PossibleUserWarning: GPU available but not used. Set `accelerator` and `devices` using `Trainer(accelerator='gpu', devices=1)`.\n",
      "  rank_zero_warn(\n",
      "/home/kacper/anaconda3/envs/art/lib/python3.8/site-packages/lightning/pytorch/trainer/connectors/logger_connector/logger_connector.py:67: UserWarning: Starting from v1.9.0, `tensorboardX` has been removed as a dependency of the `lightning.pytorch` package, due to potential conflicts with other packages in the ML ecosystem. For this reason, `logger=True` will use `CSVLogger` as the default logger, unless the `tensorboard` or `tensorboardX` packages are found. Please `pip install lightning[extra]` or one of them to enable TensorBoard support by default\n",
      "  warning_cache.warn(\n",
      "GPU available: True (cuda), used: False\n",
      "TPU available: False, using: 0 TPU cores\n",
      "IPU available: False, using: 0 IPUs\n",
      "HPU available: False, using: 0 HPUs\n",
      "GPU available: True (cuda), used: False\n",
      "TPU available: False, using: 0 TPU cores\n",
      "IPU available: False, using: 0 IPUs\n",
      "HPU available: False, using: 0 HPUs\n"
     ]
    }
   ],
   "execution_count": 10
  },
  {
   "cell_type": "markdown",
   "metadata": {},
   "source": [
    "### First run of the experiment"
   ]
  },
  {
   "cell_type": "code",
   "execution_count": 8,
   "metadata": {
    "ExecuteTime": {
     "start_time": "2023-10-08T11:25:32.012803Z",
     "end_time": "2023-10-08T11:25:50.959963Z"
    }
   },
   "outputs": [
    {
     "name": "stderr",
     "output_type": "stream",
     "text": [
      "/home/kacper/anaconda3/envs/art/lib/python3.8/site-packages/lightning/pytorch/trainer/connectors/data_connector.py:442: PossibleUserWarning: The dataloader, val_dataloader, does not have many workers which may be a bottleneck. Consider increasing the value of the `num_workers` argument` (try 12 which is the number of cpus on this machine) in the `DataLoader` init to improve performance.\n",
      "  rank_zero_warn(\n"
     ]
    },
    {
     "data": {
      "text/plain": "Validation: 0it [00:00, ?it/s]",
      "application/vnd.jupyter.widget-view+json": {
       "version_major": 2,
       "version_minor": 0,
       "model_id": "a09c13b940e1451a96257012ceaa9f88"
      }
     },
     "metadata": {},
     "output_type": "display_data"
    },
    {
     "data": {
      "text/plain": "┏━━━━━━━━━━━━━━━━━━━━━━━━━━━━━━━━━━━━━━━━━━━━━━━━━━━━━━━━┳━━━━━━━━━━━━━━━━━━━━━━━━━━━━━━━━━━━━━━━━━━━━━━━━━━━━━━━━┓\n┃\u001B[1m \u001B[0m\u001B[1m                   Validate metric                    \u001B[0m\u001B[1m \u001B[0m┃\u001B[1m \u001B[0m\u001B[1m                     DataLoader 0                     \u001B[0m\u001B[1m \u001B[0m┃\n┡━━━━━━━━━━━━━━━━━━━━━━━━━━━━━━━━━━━━━━━━━━━━━━━━━━━━━━━━╇━━━━━━━━━━━━━━━━━━━━━━━━━━━━━━━━━━━━━━━━━━━━━━━━━━━━━━━━┩\n│\u001B[36m \u001B[0m\u001B[36m CrossEntropyLoss-HeuristicBaseline-validate-Evaluate \u001B[0m\u001B[36m \u001B[0m│\u001B[35m \u001B[0m\u001B[35m                  368.8027648925781                   \u001B[0m\u001B[35m \u001B[0m│\n│\u001B[36m \u001B[0m\u001B[36m                       Baseline                       \u001B[0m\u001B[36m \u001B[0m│\u001B[35m                                                        \u001B[0m│\n│\u001B[36m \u001B[0m\u001B[36mMulticlassAccuracy-HeuristicBaseline-validate-Evaluate\u001B[0m\u001B[36m \u001B[0m│\u001B[35m \u001B[0m\u001B[35m                  0.5163999795913696                  \u001B[0m\u001B[35m \u001B[0m│\n│\u001B[36m \u001B[0m\u001B[36m                       Baseline                       \u001B[0m\u001B[36m \u001B[0m│\u001B[35m                                                        \u001B[0m│\n└────────────────────────────────────────────────────────┴────────────────────────────────────────────────────────┘\n",
      "text/html": "<pre style=\"white-space:pre;overflow-x:auto;line-height:normal;font-family:Menlo,'DejaVu Sans Mono',consolas,'Courier New',monospace\">┏━━━━━━━━━━━━━━━━━━━━━━━━━━━━━━━━━━━━━━━━━━━━━━━━━━━━━━━━┳━━━━━━━━━━━━━━━━━━━━━━━━━━━━━━━━━━━━━━━━━━━━━━━━━━━━━━━━┓\n┃<span style=\"font-weight: bold\">                    Validate metric                     </span>┃<span style=\"font-weight: bold\">                      DataLoader 0                      </span>┃\n┡━━━━━━━━━━━━━━━━━━━━━━━━━━━━━━━━━━━━━━━━━━━━━━━━━━━━━━━━╇━━━━━━━━━━━━━━━━━━━━━━━━━━━━━━━━━━━━━━━━━━━━━━━━━━━━━━━━┩\n│<span style=\"color: #008080; text-decoration-color: #008080\">  CrossEntropyLoss-HeuristicBaseline-validate-Evaluate  </span>│<span style=\"color: #800080; text-decoration-color: #800080\">                   368.8027648925781                    </span>│\n│<span style=\"color: #008080; text-decoration-color: #008080\">                        Baseline                        </span>│<span style=\"color: #800080; text-decoration-color: #800080\">                                                        </span>│\n│<span style=\"color: #008080; text-decoration-color: #008080\"> MulticlassAccuracy-HeuristicBaseline-validate-Evaluate </span>│<span style=\"color: #800080; text-decoration-color: #800080\">                   0.5163999795913696                   </span>│\n│<span style=\"color: #008080; text-decoration-color: #008080\">                        Baseline                        </span>│<span style=\"color: #800080; text-decoration-color: #800080\">                                                        </span>│\n└────────────────────────────────────────────────────────┴────────────────────────────────────────────────────────┘\n</pre>\n"
     },
     "metadata": {},
     "output_type": "display_data"
    },
    {
     "name": "stderr",
     "output_type": "stream",
     "text": [
      "/home/kacper/anaconda3/envs/art/lib/python3.8/site-packages/sklearn/linear_model/_logistic.py:460: ConvergenceWarning: lbfgs failed to converge (status=1):\n",
      "STOP: TOTAL NO. of ITERATIONS REACHED LIMIT.\n",
      "\n",
      "Increase the number of iterations (max_iter) or scale the data as shown in:\n",
      "    https://scikit-learn.org/stable/modules/preprocessing.html\n",
      "Please also refer to the documentation for alternative solver options:\n",
      "    https://scikit-learn.org/stable/modules/linear_model.html#logistic-regression\n",
      "  n_iter_i = _check_optimize_result(\n",
      "/home/kacper/anaconda3/envs/art/lib/python3.8/site-packages/lightning/pytorch/trainer/connectors/data_connector.py:442: PossibleUserWarning: The dataloader, val_dataloader, does not have many workers which may be a bottleneck. Consider increasing the value of the `num_workers` argument` (try 12 which is the number of cpus on this machine) in the `DataLoader` init to improve performance.\n",
      "  rank_zero_warn(\n"
     ]
    },
    {
     "data": {
      "text/plain": "Validation: 0it [00:00, ?it/s]",
      "application/vnd.jupyter.widget-view+json": {
       "version_major": 2,
       "version_minor": 0,
       "model_id": "5ff0ec86c4c44307a787e6e664d42a63"
      }
     },
     "metadata": {},
     "output_type": "display_data"
    },
    {
     "data": {
      "text/plain": "┏━━━━━━━━━━━━━━━━━━━━━━━━━━━━━━━━━━━━━━━━━━━━━━━━━━━━━━━━┳━━━━━━━━━━━━━━━━━━━━━━━━━━━━━━━━━━━━━━━━━━━━━━━━━━━━━━━━┓\n┃\u001B[1m \u001B[0m\u001B[1m                   Validate metric                    \u001B[0m\u001B[1m \u001B[0m┃\u001B[1m \u001B[0m\u001B[1m                     DataLoader 0                     \u001B[0m\u001B[1m \u001B[0m┃\n┡━━━━━━━━━━━━━━━━━━━━━━━━━━━━━━━━━━━━━━━━━━━━━━━━━━━━━━━━╇━━━━━━━━━━━━━━━━━━━━━━━━━━━━━━━━━━━━━━━━━━━━━━━━━━━━━━━━┩\n│\u001B[36m \u001B[0m\u001B[36mCrossEntropyLoss-MlBaseline-validate-Evaluate Baseline\u001B[0m\u001B[36m \u001B[0m│\u001B[35m \u001B[0m\u001B[35m                   304.530517578125                   \u001B[0m\u001B[35m \u001B[0m│\n│\u001B[36m \u001B[0m\u001B[36m   MulticlassAccuracy-MlBaseline-validate-Evaluate    \u001B[0m\u001B[36m \u001B[0m│\u001B[35m \u001B[0m\u001B[35m                  0.6563000082969666                  \u001B[0m\u001B[35m \u001B[0m│\n│\u001B[36m \u001B[0m\u001B[36m                       Baseline                       \u001B[0m\u001B[36m \u001B[0m│\u001B[35m                                                        \u001B[0m│\n└────────────────────────────────────────────────────────┴────────────────────────────────────────────────────────┘\n",
      "text/html": "<pre style=\"white-space:pre;overflow-x:auto;line-height:normal;font-family:Menlo,'DejaVu Sans Mono',consolas,'Courier New',monospace\">┏━━━━━━━━━━━━━━━━━━━━━━━━━━━━━━━━━━━━━━━━━━━━━━━━━━━━━━━━┳━━━━━━━━━━━━━━━━━━━━━━━━━━━━━━━━━━━━━━━━━━━━━━━━━━━━━━━━┓\n┃<span style=\"font-weight: bold\">                    Validate metric                     </span>┃<span style=\"font-weight: bold\">                      DataLoader 0                      </span>┃\n┡━━━━━━━━━━━━━━━━━━━━━━━━━━━━━━━━━━━━━━━━━━━━━━━━━━━━━━━━╇━━━━━━━━━━━━━━━━━━━━━━━━━━━━━━━━━━━━━━━━━━━━━━━━━━━━━━━━┩\n│<span style=\"color: #008080; text-decoration-color: #008080\"> CrossEntropyLoss-MlBaseline-validate-Evaluate Baseline </span>│<span style=\"color: #800080; text-decoration-color: #800080\">                    304.530517578125                    </span>│\n│<span style=\"color: #008080; text-decoration-color: #008080\">    MulticlassAccuracy-MlBaseline-validate-Evaluate     </span>│<span style=\"color: #800080; text-decoration-color: #800080\">                   0.6563000082969666                   </span>│\n│<span style=\"color: #008080; text-decoration-color: #008080\">                        Baseline                        </span>│<span style=\"color: #800080; text-decoration-color: #800080\">                                                        </span>│\n└────────────────────────────────────────────────────────┴────────────────────────────────────────────────────────┘\n</pre>\n"
     },
     "metadata": {},
     "output_type": "display_data"
    },
    {
     "name": "stderr",
     "output_type": "stream",
     "text": [
      "/home/kacper/anaconda3/envs/art/lib/python3.8/site-packages/lightning/pytorch/trainer/connectors/data_connector.py:442: PossibleUserWarning: The dataloader, val_dataloader, does not have many workers which may be a bottleneck. Consider increasing the value of the `num_workers` argument` (try 12 which is the number of cpus on this machine) in the `DataLoader` init to improve performance.\n",
      "  rank_zero_warn(\n"
     ]
    },
    {
     "data": {
      "text/plain": "Validation: 0it [00:00, ?it/s]",
      "application/vnd.jupyter.widget-view+json": {
       "version_major": 2,
       "version_minor": 0,
       "model_id": "0cdf17ca1948468d92a88f676cc93f71"
      }
     },
     "metadata": {},
     "output_type": "display_data"
    },
    {
     "data": {
      "text/plain": "┏━━━━━━━━━━━━━━━━━━━━━━━━━━━━━━━━━━━━━━━━━━━━━━━━━━━━━━━━┳━━━━━━━━━━━━━━━━━━━━━━━━━━━━━━━━━━━━━━━━━━━━━━━━━━━━━━━━┓\n┃\u001B[1m \u001B[0m\u001B[1m                   Validate metric                    \u001B[0m\u001B[1m \u001B[0m┃\u001B[1m \u001B[0m\u001B[1m                     DataLoader 0                     \u001B[0m\u001B[1m \u001B[0m┃\n┡━━━━━━━━━━━━━━━━━━━━━━━━━━━━━━━━━━━━━━━━━━━━━━━━━━━━━━━━╇━━━━━━━━━━━━━━━━━━━━━━━━━━━━━━━━━━━━━━━━━━━━━━━━━━━━━━━━┩\n│\u001B[36m \u001B[0m\u001B[36mCrossEntropyLoss-AlreadyExistingSolutionBaseline-vali…\u001B[0m\u001B[36m \u001B[0m│\u001B[35m \u001B[0m\u001B[35m                 0.04294896498322487                  \u001B[0m\u001B[35m \u001B[0m│\n│\u001B[36m \u001B[0m\u001B[36m                       Baseline                       \u001B[0m\u001B[36m \u001B[0m│\u001B[35m                                                        \u001B[0m│\n│\u001B[36m \u001B[0m\u001B[36mMulticlassAccuracy-AlreadyExistingSolutionBaseline-va…\u001B[0m\u001B[36m \u001B[0m│\u001B[35m \u001B[0m\u001B[35m                  0.9883000254631042                  \u001B[0m\u001B[35m \u001B[0m│\n│\u001B[36m \u001B[0m\u001B[36m                       Baseline                       \u001B[0m\u001B[36m \u001B[0m│\u001B[35m                                                        \u001B[0m│\n└────────────────────────────────────────────────────────┴────────────────────────────────────────────────────────┘\n",
      "text/html": "<pre style=\"white-space:pre;overflow-x:auto;line-height:normal;font-family:Menlo,'DejaVu Sans Mono',consolas,'Courier New',monospace\">┏━━━━━━━━━━━━━━━━━━━━━━━━━━━━━━━━━━━━━━━━━━━━━━━━━━━━━━━━┳━━━━━━━━━━━━━━━━━━━━━━━━━━━━━━━━━━━━━━━━━━━━━━━━━━━━━━━━┓\n┃<span style=\"font-weight: bold\">                    Validate metric                     </span>┃<span style=\"font-weight: bold\">                      DataLoader 0                      </span>┃\n┡━━━━━━━━━━━━━━━━━━━━━━━━━━━━━━━━━━━━━━━━━━━━━━━━━━━━━━━━╇━━━━━━━━━━━━━━━━━━━━━━━━━━━━━━━━━━━━━━━━━━━━━━━━━━━━━━━━┩\n│<span style=\"color: #008080; text-decoration-color: #008080\"> CrossEntropyLoss-AlreadyExistingSolutionBaseline-vali… </span>│<span style=\"color: #800080; text-decoration-color: #800080\">                  0.04294896498322487                   </span>│\n│<span style=\"color: #008080; text-decoration-color: #008080\">                        Baseline                        </span>│<span style=\"color: #800080; text-decoration-color: #800080\">                                                        </span>│\n│<span style=\"color: #008080; text-decoration-color: #008080\"> MulticlassAccuracy-AlreadyExistingSolutionBaseline-va… </span>│<span style=\"color: #800080; text-decoration-color: #800080\">                   0.9883000254631042                   </span>│\n│<span style=\"color: #008080; text-decoration-color: #008080\">                        Baseline                        </span>│<span style=\"color: #800080; text-decoration-color: #800080\">                                                        </span>│\n└────────────────────────────────────────────────────────┴────────────────────────────────────────────────────────┘\n</pre>\n"
     },
     "metadata": {},
     "output_type": "display_data"
    }
   ],
   "source": [
    "project.run_all()"
   ]
  },
  {
   "cell_type": "markdown",
   "metadata": {
    "ExecuteTime": {
     "start_time": "2023-10-08T13:32:46.145007Z",
     "end_time": "2023-10-08T13:33:01.735949Z"
    }
   },
   "source": [
    "Alright, a lot has happened. But in the end, we have validated three baselines successfully. We can see, that the already existing solution is a very strong competitor. If results obtained by these baselines are satisfactory. \n",
    "\n",
    "Please visit the checkpoints folder - results of this stage are saved here. `In version 2.0 you will be able to see all the results from the dashboard`.\n",
    "\n",
    "Having baselines we can move on and try to beat them. We will use CNN for this purpose which is defined inside `models.py`. The next step is to validate loss after network initialization. If it is off, we probably messed something up in our pipeline. We have 10 classes, so on average with random initialization loss should be -log(1/10) = 2.31\n"
   ],
   "outputs": [
    {
     "name": "stdout",
     "output_type": "stream",
     "text": [
      "Step Data analysis_data_analysis was already completed.\n"
     ]
    },
    {
     "name": "stderr",
     "output_type": "stream",
     "text": [
      "/home/kacper/anaconda3/envs/art/lib/python3.8/site-packages/lightning/pytorch/trainer/connectors/data_connector.py:442: PossibleUserWarning: The dataloader, val_dataloader, does not have many workers which may be a bottleneck. Consider increasing the value of the `num_workers` argument` (try 12 which is the number of cpus on this machine) in the `DataLoader` init to improve performance.\n",
      "  rank_zero_warn(\n"
     ]
    },
    {
     "data": {
      "text/plain": "Validation: 0it [00:00, ?it/s]",
      "application/vnd.jupyter.widget-view+json": {
       "version_major": 2,
       "version_minor": 0,
       "model_id": "06bda9f2a26a4fd4992ff3ea29bf8be7"
      }
     },
     "metadata": {},
     "output_type": "display_data"
    },
    {
     "data": {
      "text/plain": "┏━━━━━━━━━━━━━━━━━━━━━━━━━━━━━━━━━━━━━━━━━━━━━━━━━━━━━━━━┳━━━━━━━━━━━━━━━━━━━━━━━━━━━━━━━━━━━━━━━━━━━━━━━━━━━━━━━━┓\n┃\u001B[1m \u001B[0m\u001B[1m                   Validate metric                    \u001B[0m\u001B[1m \u001B[0m┃\u001B[1m \u001B[0m\u001B[1m                     DataLoader 0                     \u001B[0m\u001B[1m \u001B[0m┃\n┡━━━━━━━━━━━━━━━━━━━━━━━━━━━━━━━━━━━━━━━━━━━━━━━━━━━━━━━━╇━━━━━━━━━━━━━━━━━━━━━━━━━━━━━━━━━━━━━━━━━━━━━━━━━━━━━━━━┩\n│\u001B[36m \u001B[0m\u001B[36m CrossEntropyLoss-HeuristicBaseline-validate-Evaluate \u001B[0m\u001B[36m \u001B[0m│\u001B[35m \u001B[0m\u001B[35m                  368.8027648925781                   \u001B[0m\u001B[35m \u001B[0m│\n│\u001B[36m \u001B[0m\u001B[36m                       Baseline                       \u001B[0m\u001B[36m \u001B[0m│\u001B[35m                                                        \u001B[0m│\n│\u001B[36m \u001B[0m\u001B[36mMulticlassAccuracy-HeuristicBaseline-validate-Evaluate\u001B[0m\u001B[36m \u001B[0m│\u001B[35m \u001B[0m\u001B[35m                  0.5163999795913696                  \u001B[0m\u001B[35m \u001B[0m│\n│\u001B[36m \u001B[0m\u001B[36m                       Baseline                       \u001B[0m\u001B[36m \u001B[0m│\u001B[35m                                                        \u001B[0m│\n└────────────────────────────────────────────────────────┴────────────────────────────────────────────────────────┘\n",
      "text/html": "<pre style=\"white-space:pre;overflow-x:auto;line-height:normal;font-family:Menlo,'DejaVu Sans Mono',consolas,'Courier New',monospace\">┏━━━━━━━━━━━━━━━━━━━━━━━━━━━━━━━━━━━━━━━━━━━━━━━━━━━━━━━━┳━━━━━━━━━━━━━━━━━━━━━━━━━━━━━━━━━━━━━━━━━━━━━━━━━━━━━━━━┓\n┃<span style=\"font-weight: bold\">                    Validate metric                     </span>┃<span style=\"font-weight: bold\">                      DataLoader 0                      </span>┃\n┡━━━━━━━━━━━━━━━━━━━━━━━━━━━━━━━━━━━━━━━━━━━━━━━━━━━━━━━━╇━━━━━━━━━━━━━━━━━━━━━━━━━━━━━━━━━━━━━━━━━━━━━━━━━━━━━━━━┩\n│<span style=\"color: #008080; text-decoration-color: #008080\">  CrossEntropyLoss-HeuristicBaseline-validate-Evaluate  </span>│<span style=\"color: #800080; text-decoration-color: #800080\">                   368.8027648925781                    </span>│\n│<span style=\"color: #008080; text-decoration-color: #008080\">                        Baseline                        </span>│<span style=\"color: #800080; text-decoration-color: #800080\">                                                        </span>│\n│<span style=\"color: #008080; text-decoration-color: #008080\"> MulticlassAccuracy-HeuristicBaseline-validate-Evaluate </span>│<span style=\"color: #800080; text-decoration-color: #800080\">                   0.5163999795913696                   </span>│\n│<span style=\"color: #008080; text-decoration-color: #008080\">                        Baseline                        </span>│<span style=\"color: #800080; text-decoration-color: #800080\">                                                        </span>│\n└────────────────────────────────────────────────────────┴────────────────────────────────────────────────────────┘\n</pre>\n"
     },
     "metadata": {},
     "output_type": "display_data"
    },
    {
     "name": "stderr",
     "output_type": "stream",
     "text": [
      "/home/kacper/anaconda3/envs/art/lib/python3.8/site-packages/sklearn/linear_model/_logistic.py:460: ConvergenceWarning: lbfgs failed to converge (status=1):\n",
      "STOP: TOTAL NO. of ITERATIONS REACHED LIMIT.\n",
      "\n",
      "Increase the number of iterations (max_iter) or scale the data as shown in:\n",
      "    https://scikit-learn.org/stable/modules/preprocessing.html\n",
      "Please also refer to the documentation for alternative solver options:\n",
      "    https://scikit-learn.org/stable/modules/linear_model.html#logistic-regression\n",
      "  n_iter_i = _check_optimize_result(\n",
      "/home/kacper/anaconda3/envs/art/lib/python3.8/site-packages/lightning/pytorch/trainer/connectors/data_connector.py:442: PossibleUserWarning: The dataloader, val_dataloader, does not have many workers which may be a bottleneck. Consider increasing the value of the `num_workers` argument` (try 12 which is the number of cpus on this machine) in the `DataLoader` init to improve performance.\n",
      "  rank_zero_warn(\n"
     ]
    },
    {
     "data": {
      "text/plain": "Validation: 0it [00:00, ?it/s]",
      "application/vnd.jupyter.widget-view+json": {
       "version_major": 2,
       "version_minor": 0,
       "model_id": "a45cb0cd7eaa45a9ac61160753d45c37"
      }
     },
     "metadata": {},
     "output_type": "display_data"
    },
    {
     "data": {
      "text/plain": "┏━━━━━━━━━━━━━━━━━━━━━━━━━━━━━━━━━━━━━━━━━━━━━━━━━━━━━━━━┳━━━━━━━━━━━━━━━━━━━━━━━━━━━━━━━━━━━━━━━━━━━━━━━━━━━━━━━━┓\n┃\u001B[1m \u001B[0m\u001B[1m                   Validate metric                    \u001B[0m\u001B[1m \u001B[0m┃\u001B[1m \u001B[0m\u001B[1m                     DataLoader 0                     \u001B[0m\u001B[1m \u001B[0m┃\n┡━━━━━━━━━━━━━━━━━━━━━━━━━━━━━━━━━━━━━━━━━━━━━━━━━━━━━━━━╇━━━━━━━━━━━━━━━━━━━━━━━━━━━━━━━━━━━━━━━━━━━━━━━━━━━━━━━━┩\n│\u001B[36m \u001B[0m\u001B[36mCrossEntropyLoss-MlBaseline-validate-Evaluate Baseline\u001B[0m\u001B[36m \u001B[0m│\u001B[35m \u001B[0m\u001B[35m                   304.530517578125                   \u001B[0m\u001B[35m \u001B[0m│\n│\u001B[36m \u001B[0m\u001B[36m   MulticlassAccuracy-MlBaseline-validate-Evaluate    \u001B[0m\u001B[36m \u001B[0m│\u001B[35m \u001B[0m\u001B[35m                  0.6563000082969666                  \u001B[0m\u001B[35m \u001B[0m│\n│\u001B[36m \u001B[0m\u001B[36m                       Baseline                       \u001B[0m\u001B[36m \u001B[0m│\u001B[35m                                                        \u001B[0m│\n└────────────────────────────────────────────────────────┴────────────────────────────────────────────────────────┘\n",
      "text/html": "<pre style=\"white-space:pre;overflow-x:auto;line-height:normal;font-family:Menlo,'DejaVu Sans Mono',consolas,'Courier New',monospace\">┏━━━━━━━━━━━━━━━━━━━━━━━━━━━━━━━━━━━━━━━━━━━━━━━━━━━━━━━━┳━━━━━━━━━━━━━━━━━━━━━━━━━━━━━━━━━━━━━━━━━━━━━━━━━━━━━━━━┓\n┃<span style=\"font-weight: bold\">                    Validate metric                     </span>┃<span style=\"font-weight: bold\">                      DataLoader 0                      </span>┃\n┡━━━━━━━━━━━━━━━━━━━━━━━━━━━━━━━━━━━━━━━━━━━━━━━━━━━━━━━━╇━━━━━━━━━━━━━━━━━━━━━━━━━━━━━━━━━━━━━━━━━━━━━━━━━━━━━━━━┩\n│<span style=\"color: #008080; text-decoration-color: #008080\"> CrossEntropyLoss-MlBaseline-validate-Evaluate Baseline </span>│<span style=\"color: #800080; text-decoration-color: #800080\">                    304.530517578125                    </span>│\n│<span style=\"color: #008080; text-decoration-color: #008080\">    MulticlassAccuracy-MlBaseline-validate-Evaluate     </span>│<span style=\"color: #800080; text-decoration-color: #800080\">                   0.6563000082969666                   </span>│\n│<span style=\"color: #008080; text-decoration-color: #008080\">                        Baseline                        </span>│<span style=\"color: #800080; text-decoration-color: #800080\">                                                        </span>│\n└────────────────────────────────────────────────────────┴────────────────────────────────────────────────────────┘\n</pre>\n"
     },
     "metadata": {},
     "output_type": "display_data"
    },
    {
     "name": "stderr",
     "output_type": "stream",
     "text": [
      "/home/kacper/anaconda3/envs/art/lib/python3.8/site-packages/lightning/pytorch/trainer/connectors/data_connector.py:442: PossibleUserWarning: The dataloader, val_dataloader, does not have many workers which may be a bottleneck. Consider increasing the value of the `num_workers` argument` (try 12 which is the number of cpus on this machine) in the `DataLoader` init to improve performance.\n",
      "  rank_zero_warn(\n"
     ]
    },
    {
     "data": {
      "text/plain": "Validation: 0it [00:00, ?it/s]",
      "application/vnd.jupyter.widget-view+json": {
       "version_major": 2,
       "version_minor": 0,
       "model_id": "2d709cbed29d4a4695c617b25b53e21c"
      }
     },
     "metadata": {},
     "output_type": "display_data"
    },
    {
     "data": {
      "text/plain": "┏━━━━━━━━━━━━━━━━━━━━━━━━━━━━━━━━━━━━━━━━━━━━━━━━━━━━━━━━┳━━━━━━━━━━━━━━━━━━━━━━━━━━━━━━━━━━━━━━━━━━━━━━━━━━━━━━━━┓\n┃\u001B[1m \u001B[0m\u001B[1m                   Validate metric                    \u001B[0m\u001B[1m \u001B[0m┃\u001B[1m \u001B[0m\u001B[1m                     DataLoader 0                     \u001B[0m\u001B[1m \u001B[0m┃\n┡━━━━━━━━━━━━━━━━━━━━━━━━━━━━━━━━━━━━━━━━━━━━━━━━━━━━━━━━╇━━━━━━━━━━━━━━━━━━━━━━━━━━━━━━━━━━━━━━━━━━━━━━━━━━━━━━━━┩\n│\u001B[36m \u001B[0m\u001B[36mCrossEntropyLoss-AlreadyExistingSolutionBaseline-vali…\u001B[0m\u001B[36m \u001B[0m│\u001B[35m \u001B[0m\u001B[35m                 0.04294896498322487                  \u001B[0m\u001B[35m \u001B[0m│\n│\u001B[36m \u001B[0m\u001B[36m                       Baseline                       \u001B[0m\u001B[36m \u001B[0m│\u001B[35m                                                        \u001B[0m│\n│\u001B[36m \u001B[0m\u001B[36mMulticlassAccuracy-AlreadyExistingSolutionBaseline-va…\u001B[0m\u001B[36m \u001B[0m│\u001B[35m \u001B[0m\u001B[35m                  0.9883000254631042                  \u001B[0m\u001B[35m \u001B[0m│\n│\u001B[36m \u001B[0m\u001B[36m                       Baseline                       \u001B[0m\u001B[36m \u001B[0m│\u001B[35m                                                        \u001B[0m│\n└────────────────────────────────────────────────────────┴────────────────────────────────────────────────────────┘\n",
      "text/html": "<pre style=\"white-space:pre;overflow-x:auto;line-height:normal;font-family:Menlo,'DejaVu Sans Mono',consolas,'Courier New',monospace\">┏━━━━━━━━━━━━━━━━━━━━━━━━━━━━━━━━━━━━━━━━━━━━━━━━━━━━━━━━┳━━━━━━━━━━━━━━━━━━━━━━━━━━━━━━━━━━━━━━━━━━━━━━━━━━━━━━━━┓\n┃<span style=\"font-weight: bold\">                    Validate metric                     </span>┃<span style=\"font-weight: bold\">                      DataLoader 0                      </span>┃\n┡━━━━━━━━━━━━━━━━━━━━━━━━━━━━━━━━━━━━━━━━━━━━━━━━━━━━━━━━╇━━━━━━━━━━━━━━━━━━━━━━━━━━━━━━━━━━━━━━━━━━━━━━━━━━━━━━━━┩\n│<span style=\"color: #008080; text-decoration-color: #008080\"> CrossEntropyLoss-AlreadyExistingSolutionBaseline-vali… </span>│<span style=\"color: #800080; text-decoration-color: #800080\">                  0.04294896498322487                   </span>│\n│<span style=\"color: #008080; text-decoration-color: #008080\">                        Baseline                        </span>│<span style=\"color: #800080; text-decoration-color: #800080\">                                                        </span>│\n│<span style=\"color: #008080; text-decoration-color: #008080\"> MulticlassAccuracy-AlreadyExistingSolutionBaseline-va… </span>│<span style=\"color: #800080; text-decoration-color: #800080\">                   0.9883000254631042                   </span>│\n│<span style=\"color: #008080; text-decoration-color: #008080\">                        Baseline                        </span>│<span style=\"color: #800080; text-decoration-color: #800080\">                                                        </span>│\n└────────────────────────────────────────────────────────┴────────────────────────────────────────────────────────┘\n</pre>\n"
     },
     "metadata": {},
     "output_type": "display_data"
    }
   ],
   "execution_count": 11
  },
  {
   "cell_type": "markdown",
   "metadata": {},
   "source": [
    "### Adding CheckLossOnInitStep"
   ]
  },
  {
   "cell_type": "code",
   "execution_count": 9,
   "metadata": {
    "ExecuteTime": {
     "start_time": "2023-10-08T11:25:50.959591Z",
     "end_time": "2023-10-08T11:25:51.007619Z"
    }
   },
   "outputs": [],
   "source": [
    "import math\n",
    "EXPECTED_LOSS = - math.log(1 / NUM_CLASSES)"
   ]
  },
  {
   "cell_type": "code",
   "execution_count": 12,
   "metadata": {
    "ExecuteTime": {
     "start_time": "2023-10-08T13:33:19.944517Z",
     "end_time": "2023-10-08T13:33:19.995231Z"
    }
   },
   "outputs": [],
   "source": [
    "from models import MNISTModel\n",
    "from art.step.steps import CheckLossOnInit\n",
    "from art.step.checks import CheckScoreCloseTo\n",
    "project.to(\"cuda\")\n",
    "my_model = MNISTModel()\n",
    "\n",
    "project.add_step(\n",
    "    CheckLossOnInit(my_model),\n",
    "    [CheckScoreCloseTo(metric=ce_loss, value=2.3, rel_tol=0.1)]) \n",
    "project.run_all()"
   ]
  },
  {
   "cell_type": "markdown",
   "metadata": {},
   "source": [
    "And here we are, something must be wrong in our pipeline - loss is off by big amount. Observe, two things:\n",
    "1. We didn't perform baselines evaluations again this step is already passed\n",
    "2. We added a check to our step. We want our loss to be close to 2.3 we failed to provide this result so we obtained an exception. We can't go further until we pass this stage.\n",
    "\n",
    "Let's discover another feature of art that helps you to debug the code and find problems with your pipeline - Decorators."
   ],
   "outputs": [
    {
     "name": "stderr",
     "output_type": "stream",
     "text": [
      "GPU available: True (cuda), used: True\n",
      "TPU available: False, using: 0 TPU cores\n",
      "IPU available: False, using: 0 IPUs\n",
      "HPU available: False, using: 0 HPUs\n",
      "LOCAL_RANK: 0 - CUDA_VISIBLE_DEVICES: [0]\n"
     ]
    },
    {
     "name": "stdout",
     "output_type": "stream",
     "text": [
      "Step Data analysis_data_analysis was already completed.\n",
      "Step Evaluate Baseline_HeuristicBaseline_2 was already completed.\n",
      "Step Evaluate Baseline_MlBaseline_3 was already completed.\n",
      "Step Evaluate Baseline_AlreadyExistingSolutionBaseline_4 was already completed.\n"
     ]
    },
    {
     "data": {
      "text/plain": "Validation: 0it [00:00, ?it/s]",
      "application/vnd.jupyter.widget-view+json": {
       "version_major": 2,
       "version_minor": 0,
       "model_id": "f5baf302ba994dec94e7c60faf3a76cb"
      }
     },
     "metadata": {},
     "output_type": "display_data"
    },
    {
     "data": {
      "text/plain": "┏━━━━━━━━━━━━━━━━━━━━━━━━━━━━━━━━━━━━━━━━━━━━━━━━━━━━━━━━┳━━━━━━━━━━━━━━━━━━━━━━━━━━━━━━━━━━━━━━━━━━━━━━━━━━━━━━━━┓\n┃\u001B[1m \u001B[0m\u001B[1m                   Validate metric                    \u001B[0m\u001B[1m \u001B[0m┃\u001B[1m \u001B[0m\u001B[1m                     DataLoader 0                     \u001B[0m\u001B[1m \u001B[0m┃\n┡━━━━━━━━━━━━━━━━━━━━━━━━━━━━━━━━━━━━━━━━━━━━━━━━━━━━━━━━╇━━━━━━━━━━━━━━━━━━━━━━━━━━━━━━━━━━━━━━━━━━━━━━━━━━━━━━━━┩\n│\u001B[36m \u001B[0m\u001B[36m  CrossEntropyLoss-MNISTModel-validate-Check Loss On  \u001B[0m\u001B[36m \u001B[0m│\u001B[35m \u001B[0m\u001B[35m                  15.631749153137207                  \u001B[0m\u001B[35m \u001B[0m│\n│\u001B[36m \u001B[0m\u001B[36m                         Init                         \u001B[0m\u001B[36m \u001B[0m│\u001B[35m                                                        \u001B[0m│\n│\u001B[36m \u001B[0m\u001B[36m MulticlassAccuracy-MNISTModel-validate-Check Loss On \u001B[0m\u001B[36m \u001B[0m│\u001B[35m \u001B[0m\u001B[35m                 0.10499999672174454                  \u001B[0m\u001B[35m \u001B[0m│\n│\u001B[36m \u001B[0m\u001B[36m                         Init                         \u001B[0m\u001B[36m \u001B[0m│\u001B[35m                                                        \u001B[0m│\n└────────────────────────────────────────────────────────┴────────────────────────────────────────────────────────┘\n",
      "text/html": "<pre style=\"white-space:pre;overflow-x:auto;line-height:normal;font-family:Menlo,'DejaVu Sans Mono',consolas,'Courier New',monospace\">┏━━━━━━━━━━━━━━━━━━━━━━━━━━━━━━━━━━━━━━━━━━━━━━━━━━━━━━━━┳━━━━━━━━━━━━━━━━━━━━━━━━━━━━━━━━━━━━━━━━━━━━━━━━━━━━━━━━┓\n┃<span style=\"font-weight: bold\">                    Validate metric                     </span>┃<span style=\"font-weight: bold\">                      DataLoader 0                      </span>┃\n┡━━━━━━━━━━━━━━━━━━━━━━━━━━━━━━━━━━━━━━━━━━━━━━━━━━━━━━━━╇━━━━━━━━━━━━━━━━━━━━━━━━━━━━━━━━━━━━━━━━━━━━━━━━━━━━━━━━┩\n│<span style=\"color: #008080; text-decoration-color: #008080\">   CrossEntropyLoss-MNISTModel-validate-Check Loss On   </span>│<span style=\"color: #800080; text-decoration-color: #800080\">                   15.631749153137207                   </span>│\n│<span style=\"color: #008080; text-decoration-color: #008080\">                          Init                          </span>│<span style=\"color: #800080; text-decoration-color: #800080\">                                                        </span>│\n│<span style=\"color: #008080; text-decoration-color: #008080\">  MulticlassAccuracy-MNISTModel-validate-Check Loss On  </span>│<span style=\"color: #800080; text-decoration-color: #800080\">                  0.10499999672174454                   </span>│\n│<span style=\"color: #008080; text-decoration-color: #008080\">                          Init                          </span>│<span style=\"color: #800080; text-decoration-color: #800080\">                                                        </span>│\n└────────────────────────────────────────────────────────┴────────────────────────────────────────────────────────┘\n</pre>\n"
     },
     "metadata": {},
     "output_type": "display_data"
    },
    {
     "ename": "Exception",
     "evalue": "Check failed for step: Check Loss On Init. Reason: Score 15.631749153137207 is not equal to 2.3",
     "output_type": "error",
     "traceback": [
      "\u001B[0;31m---------------------------------------------------------------------------\u001B[0m",
      "\u001B[0;31mException\u001B[0m                                 Traceback (most recent call last)",
      "Cell \u001B[0;32mIn[13], line 10\u001B[0m\n\u001B[1;32m      5\u001B[0m my_model \u001B[38;5;241m=\u001B[39m MNISTModel()\n\u001B[1;32m      7\u001B[0m project\u001B[38;5;241m.\u001B[39madd_step(\n\u001B[1;32m      8\u001B[0m     CheckLossOnInit(my_model),\n\u001B[1;32m      9\u001B[0m     [CheckScoreCloseTo(metric\u001B[38;5;241m=\u001B[39mce_loss, value\u001B[38;5;241m=\u001B[39m\u001B[38;5;241m2.3\u001B[39m, rel_tol\u001B[38;5;241m=\u001B[39m\u001B[38;5;241m0.1\u001B[39m)]) \n\u001B[0;32m---> 10\u001B[0m \u001B[43mproject\u001B[49m\u001B[38;5;241;43m.\u001B[39;49m\u001B[43mrun_all\u001B[49m\u001B[43m(\u001B[49m\u001B[43m)\u001B[49m\n",
      "File \u001B[0;32m~/Documents/study/AI-PP/Inz/audio-research-toolkit/art/experiment/Experiment.py:94\u001B[0m, in \u001B[0;36mArtProject.run_all\u001B[0;34m(self)\u001B[0m\n\u001B[1;32m     90\u001B[0m step\u001B[38;5;241m.\u001B[39madd_result(\u001B[38;5;124m\"\u001B[39m\u001B[38;5;124mhash\u001B[39m\u001B[38;5;124m\"\u001B[39m, step\u001B[38;5;241m.\u001B[39mget_hash())\n\u001B[1;32m     92\u001B[0m step(\u001B[38;5;28mself\u001B[39m\u001B[38;5;241m.\u001B[39mstate\u001B[38;5;241m.\u001B[39mstep_states, \u001B[38;5;28mself\u001B[39m\u001B[38;5;241m.\u001B[39mdatamodule, \u001B[38;5;28mself\u001B[39m\u001B[38;5;241m.\u001B[39mmetric_calculator)\n\u001B[0;32m---> 94\u001B[0m \u001B[38;5;28;43mself\u001B[39;49m\u001B[38;5;241;43m.\u001B[39;49m\u001B[43mcheck_checks\u001B[49m\u001B[43m(\u001B[49m\u001B[43mstep\u001B[49m\u001B[43m,\u001B[49m\u001B[43m \u001B[49m\u001B[43mchecks\u001B[49m\u001B[43m)\u001B[49m\n\u001B[1;32m     95\u001B[0m \u001B[38;5;28mself\u001B[39m\u001B[38;5;241m.\u001B[39mfill_step_states(step)\n",
      "File \u001B[0;32m~/Documents/study/AI-PP/Inz/audio-research-toolkit/art/experiment/Experiment.py:52\u001B[0m, in \u001B[0;36mArtProject.check_checks\u001B[0;34m(self, step, checks)\u001B[0m\n\u001B[1;32m     50\u001B[0m result \u001B[38;5;241m=\u001B[39m check\u001B[38;5;241m.\u001B[39mcheck(step)\n\u001B[1;32m     51\u001B[0m \u001B[38;5;28;01mif\u001B[39;00m \u001B[38;5;129;01mnot\u001B[39;00m result\u001B[38;5;241m.\u001B[39mis_positive:\n\u001B[0;32m---> 52\u001B[0m     \u001B[38;5;28;01mraise\u001B[39;00m \u001B[38;5;167;01mException\u001B[39;00m(\n\u001B[1;32m     53\u001B[0m         \u001B[38;5;124mf\u001B[39m\u001B[38;5;124m\"\u001B[39m\u001B[38;5;124mCheck failed for step: \u001B[39m\u001B[38;5;132;01m{\u001B[39;00mstep\u001B[38;5;241m.\u001B[39mname\u001B[38;5;132;01m}\u001B[39;00m\u001B[38;5;124m. Reason: \u001B[39m\u001B[38;5;132;01m{\u001B[39;00mresult\u001B[38;5;241m.\u001B[39merror\u001B[38;5;132;01m}\u001B[39;00m\u001B[38;5;124m\"\u001B[39m\n\u001B[1;32m     54\u001B[0m     )\n",
      "\u001B[0;31mException\u001B[0m: Check failed for step: Check Loss On Init. Reason: Score 15.631749153137207 is not equal to 2.3"
     ]
    }
   ],
   "execution_count": 13
  },
  {
   "cell_type": "markdown",
   "metadata": {},
   "source": [
    "### Decorators"
   ]
  },
  {
   "cell_type": "markdown",
   "metadata": {},
   "source": [
    "`TODO`: make an introduction what is `set visualization`"
   ]
  },
  {
   "cell_type": "code",
   "execution_count": 11,
   "metadata": {
    "ExecuteTime": {
     "start_time": "2023-10-08T11:18:27.163302Z",
     "end_time": "2023-10-08T11:18:27.253590Z"
    }
   },
   "outputs": [
    {
     "name": "stderr",
     "output_type": "stream",
     "text": [
      "LOCAL_RANK: 0 - CUDA_VISIBLE_DEVICES: [0]\n"
     ]
    },
    {
     "name": "stdout",
     "output_type": "stream",
     "text": [
      "Step Evaluate Baseline_HeuristicBaseline_1 was already completed.\n",
      "Step Evaluate Baseline_MlBaseline_2 was already completed.\n",
      "Step Evaluate Baseline_AlreadyExistingSolutionBaseline_3 was already completed.\n"
     ]
    },
    {
     "data": {
      "text/plain": "Validation: 0it [00:00, ?it/s]",
      "application/vnd.jupyter.widget-view+json": {
       "version_major": 2,
       "version_minor": 0,
       "model_id": "8312637ee7b041df865caf03bb808a7a"
      }
     },
     "metadata": {},
     "output_type": "display_data"
    },
    {
     "data": {
      "text/plain": "┏━━━━━━━━━━━━━━━━━━━━━━━━━━━━━━━━━━━━━━━━━━━━━━━━━━━━━━━━┳━━━━━━━━━━━━━━━━━━━━━━━━━━━━━━━━━━━━━━━━━━━━━━━━━━━━━━━━┓\n┃\u001B[1m \u001B[0m\u001B[1m                   Validate metric                    \u001B[0m\u001B[1m \u001B[0m┃\u001B[1m \u001B[0m\u001B[1m                     DataLoader 0                     \u001B[0m\u001B[1m \u001B[0m┃\n┡━━━━━━━━━━━━━━━━━━━━━━━━━━━━━━━━━━━━━━━━━━━━━━━━━━━━━━━━╇━━━━━━━━━━━━━━━━━━━━━━━━━━━━━━━━━━━━━━━━━━━━━━━━━━━━━━━━┩\n│\u001B[36m \u001B[0m\u001B[36m  CrossEntropyLoss-MNISTModel-validate-Check Loss On  \u001B[0m\u001B[36m \u001B[0m│\u001B[35m \u001B[0m\u001B[35m                   8.3414888381958                    \u001B[0m\u001B[35m \u001B[0m│\n│\u001B[36m \u001B[0m\u001B[36m                         Init                         \u001B[0m\u001B[36m \u001B[0m│\u001B[35m                                                        \u001B[0m│\n│\u001B[36m \u001B[0m\u001B[36m MulticlassAccuracy-MNISTModel-validate-Check Loss On \u001B[0m\u001B[36m \u001B[0m│\u001B[35m \u001B[0m\u001B[35m                 0.10499999672174454                  \u001B[0m\u001B[35m \u001B[0m│\n│\u001B[36m \u001B[0m\u001B[36m                         Init                         \u001B[0m\u001B[36m \u001B[0m│\u001B[35m                                                        \u001B[0m│\n└────────────────────────────────────────────────────────┴────────────────────────────────────────────────────────┘\n",
      "text/html": "<pre style=\"white-space:pre;overflow-x:auto;line-height:normal;font-family:Menlo,'DejaVu Sans Mono',consolas,'Courier New',monospace\">┏━━━━━━━━━━━━━━━━━━━━━━━━━━━━━━━━━━━━━━━━━━━━━━━━━━━━━━━━┳━━━━━━━━━━━━━━━━━━━━━━━━━━━━━━━━━━━━━━━━━━━━━━━━━━━━━━━━┓\n┃<span style=\"font-weight: bold\">                    Validate metric                     </span>┃<span style=\"font-weight: bold\">                      DataLoader 0                      </span>┃\n┡━━━━━━━━━━━━━━━━━━━━━━━━━━━━━━━━━━━━━━━━━━━━━━━━━━━━━━━━╇━━━━━━━━━━━━━━━━━━━━━━━━━━━━━━━━━━━━━━━━━━━━━━━━━━━━━━━━┩\n│<span style=\"color: #008080; text-decoration-color: #008080\">   CrossEntropyLoss-MNISTModel-validate-Check Loss On   </span>│<span style=\"color: #800080; text-decoration-color: #800080\">                    8.3414888381958                     </span>│\n│<span style=\"color: #008080; text-decoration-color: #008080\">                          Init                          </span>│<span style=\"color: #800080; text-decoration-color: #800080\">                                                        </span>│\n│<span style=\"color: #008080; text-decoration-color: #008080\">  MulticlassAccuracy-MNISTModel-validate-Check Loss On  </span>│<span style=\"color: #800080; text-decoration-color: #800080\">                  0.10499999672174454                   </span>│\n│<span style=\"color: #008080; text-decoration-color: #008080\">                          Init                          </span>│<span style=\"color: #800080; text-decoration-color: #800080\">                                                        </span>│\n└────────────────────────────────────────────────────────┴────────────────────────────────────────────────────────┘\n</pre>\n"
     },
     "metadata": {},
     "output_type": "display_data"
    },
    {
     "ename": "Exception",
     "evalue": "Check failed for step: Check Loss On Init. Reason: Score 8.3414888381958 is not equal to 2.3",
     "output_type": "error",
     "traceback": [
      "\u001B[0;31m---------------------------------------------------------------------------\u001B[0m",
      "\u001B[0;31mException\u001B[0m                                 Traceback (most recent call last)",
      "Cell \u001B[0;32mIn[11], line 12\u001B[0m\n\u001B[1;32m      8\u001B[0m     logging\u001B[38;5;241m.\u001B[39mwarning(data)\n\u001B[1;32m     11\u001B[0m set_visualization([(my_model, \u001B[38;5;124m\"\u001B[39m\u001B[38;5;124mpredict\u001B[39m\u001B[38;5;124m\"\u001B[39m)], first_logging_func)\n\u001B[0;32m---> 12\u001B[0m \u001B[43mproject\u001B[49m\u001B[38;5;241;43m.\u001B[39;49m\u001B[43mrun_all\u001B[49m\u001B[43m(\u001B[49m\u001B[43m)\u001B[49m\n",
      "File \u001B[0;32m~/Documents/study/AI-PP/Inz/audio-research-toolkit/art/experiment/Experiment.py:94\u001B[0m, in \u001B[0;36mArtProject.run_all\u001B[0;34m(self)\u001B[0m\n\u001B[1;32m     90\u001B[0m step\u001B[38;5;241m.\u001B[39madd_result(\u001B[38;5;124m\"\u001B[39m\u001B[38;5;124mhash\u001B[39m\u001B[38;5;124m\"\u001B[39m, step\u001B[38;5;241m.\u001B[39mget_hash())\n\u001B[1;32m     92\u001B[0m step(\u001B[38;5;28mself\u001B[39m\u001B[38;5;241m.\u001B[39mstate\u001B[38;5;241m.\u001B[39mstep_states, \u001B[38;5;28mself\u001B[39m\u001B[38;5;241m.\u001B[39mdatamodule, \u001B[38;5;28mself\u001B[39m\u001B[38;5;241m.\u001B[39mmetric_calculator)\n\u001B[0;32m---> 94\u001B[0m \u001B[38;5;28;43mself\u001B[39;49m\u001B[38;5;241;43m.\u001B[39;49m\u001B[43mcheck_checks\u001B[49m\u001B[43m(\u001B[49m\u001B[43mstep\u001B[49m\u001B[43m,\u001B[49m\u001B[43m \u001B[49m\u001B[43mchecks\u001B[49m\u001B[43m)\u001B[49m\n\u001B[1;32m     95\u001B[0m \u001B[38;5;28mself\u001B[39m\u001B[38;5;241m.\u001B[39mfill_step_states(step)\n",
      "File \u001B[0;32m~/Documents/study/AI-PP/Inz/audio-research-toolkit/art/experiment/Experiment.py:52\u001B[0m, in \u001B[0;36mArtProject.check_checks\u001B[0;34m(self, step, checks)\u001B[0m\n\u001B[1;32m     50\u001B[0m result \u001B[38;5;241m=\u001B[39m check\u001B[38;5;241m.\u001B[39mcheck(step)\n\u001B[1;32m     51\u001B[0m \u001B[38;5;28;01mif\u001B[39;00m \u001B[38;5;129;01mnot\u001B[39;00m result\u001B[38;5;241m.\u001B[39mis_positive:\n\u001B[0;32m---> 52\u001B[0m     \u001B[38;5;28;01mraise\u001B[39;00m \u001B[38;5;167;01mException\u001B[39;00m(\n\u001B[1;32m     53\u001B[0m         \u001B[38;5;124mf\u001B[39m\u001B[38;5;124m\"\u001B[39m\u001B[38;5;124mCheck failed for step: \u001B[39m\u001B[38;5;132;01m{\u001B[39;00mstep\u001B[38;5;241m.\u001B[39mname\u001B[38;5;132;01m}\u001B[39;00m\u001B[38;5;124m. Reason: \u001B[39m\u001B[38;5;132;01m{\u001B[39;00mresult\u001B[38;5;241m.\u001B[39merror\u001B[38;5;132;01m}\u001B[39;00m\u001B[38;5;124m\"\u001B[39m\n\u001B[1;32m     54\u001B[0m     )\n",
      "\u001B[0;31mException\u001B[0m: Check failed for step: Check Loss On Init. Reason: Score 8.3414888381958 is not equal to 2.3"
     ]
    }
   ],
   "source": [
    "import lovely_tensors as lt\n",
    "from art.core.visualizer.visualization_decorators import set_visualization\n",
    "import logging\n",
    "lt.monkey_patch()\n",
    "\n",
    "logging.basicConfig(filename='debug_art.log', level=logging.WARNING)\n",
    "def first_logging_func(data):\n",
    "    logging.warning(data)\n",
    "\n",
    "\n",
    "set_visualization([(my_model, \"predict\")], first_logging_func)\n",
    "project.run_all()"
   ]
  },
  {
   "cell_type": "markdown",
   "metadata": {},
   "source": [
    "You may decorate any function in your pipeline with any logging function. Here it is a simple log, but in practice, you can do much, much more, which you will see later. Please visit the `debug_art.log` file. \n",
    "\n",
    "Can you spot what is wrong? Yes! We do not normalize images to the [0,1] range."
   ],
   "outputs": [
    {
     "name": "stderr",
     "output_type": "stream",
     "text": [
      "LOCAL_RANK: 0 - CUDA_VISIBLE_DEVICES: [0]\n"
     ]
    },
    {
     "name": "stdout",
     "output_type": "stream",
     "text": [
      "Step Data analysis_data_analysis was already completed.\n",
      "Step Evaluate Baseline_HeuristicBaseline_2 was already completed.\n",
      "Step Evaluate Baseline_MlBaseline_3 was already completed.\n",
      "Step Evaluate Baseline_AlreadyExistingSolutionBaseline_4 was already completed.\n"
     ]
    },
    {
     "data": {
      "text/plain": "Validation: 0it [00:00, ?it/s]",
      "application/vnd.jupyter.widget-view+json": {
       "version_major": 2,
       "version_minor": 0,
       "model_id": "471b7011cfa6480096394ef6fdce474b"
      }
     },
     "metadata": {},
     "output_type": "display_data"
    },
    {
     "data": {
      "text/plain": "┏━━━━━━━━━━━━━━━━━━━━━━━━━━━━━━━━━━━━━━━━━━━━━━━━━━━━━━━━┳━━━━━━━━━━━━━━━━━━━━━━━━━━━━━━━━━━━━━━━━━━━━━━━━━━━━━━━━┓\n┃\u001B[1m \u001B[0m\u001B[1m                   Validate metric                    \u001B[0m\u001B[1m \u001B[0m┃\u001B[1m \u001B[0m\u001B[1m                     DataLoader 0                     \u001B[0m\u001B[1m \u001B[0m┃\n┡━━━━━━━━━━━━━━━━━━━━━━━━━━━━━━━━━━━━━━━━━━━━━━━━━━━━━━━━╇━━━━━━━━━━━━━━━━━━━━━━━━━━━━━━━━━━━━━━━━━━━━━━━━━━━━━━━━┩\n│\u001B[36m \u001B[0m\u001B[36m  CrossEntropyLoss-MNISTModel-validate-Check Loss On  \u001B[0m\u001B[36m \u001B[0m│\u001B[35m \u001B[0m\u001B[35m                  15.631749153137207                  \u001B[0m\u001B[35m \u001B[0m│\n│\u001B[36m \u001B[0m\u001B[36m                         Init                         \u001B[0m\u001B[36m \u001B[0m│\u001B[35m                                                        \u001B[0m│\n│\u001B[36m \u001B[0m\u001B[36m MulticlassAccuracy-MNISTModel-validate-Check Loss On \u001B[0m\u001B[36m \u001B[0m│\u001B[35m \u001B[0m\u001B[35m                 0.10499999672174454                  \u001B[0m\u001B[35m \u001B[0m│\n│\u001B[36m \u001B[0m\u001B[36m                         Init                         \u001B[0m\u001B[36m \u001B[0m│\u001B[35m                                                        \u001B[0m│\n└────────────────────────────────────────────────────────┴────────────────────────────────────────────────────────┘\n",
      "text/html": "<pre style=\"white-space:pre;overflow-x:auto;line-height:normal;font-family:Menlo,'DejaVu Sans Mono',consolas,'Courier New',monospace\">┏━━━━━━━━━━━━━━━━━━━━━━━━━━━━━━━━━━━━━━━━━━━━━━━━━━━━━━━━┳━━━━━━━━━━━━━━━━━━━━━━━━━━━━━━━━━━━━━━━━━━━━━━━━━━━━━━━━┓\n┃<span style=\"font-weight: bold\">                    Validate metric                     </span>┃<span style=\"font-weight: bold\">                      DataLoader 0                      </span>┃\n┡━━━━━━━━━━━━━━━━━━━━━━━━━━━━━━━━━━━━━━━━━━━━━━━━━━━━━━━━╇━━━━━━━━━━━━━━━━━━━━━━━━━━━━━━━━━━━━━━━━━━━━━━━━━━━━━━━━┩\n│<span style=\"color: #008080; text-decoration-color: #008080\">   CrossEntropyLoss-MNISTModel-validate-Check Loss On   </span>│<span style=\"color: #800080; text-decoration-color: #800080\">                   15.631749153137207                   </span>│\n│<span style=\"color: #008080; text-decoration-color: #008080\">                          Init                          </span>│<span style=\"color: #800080; text-decoration-color: #800080\">                                                        </span>│\n│<span style=\"color: #008080; text-decoration-color: #008080\">  MulticlassAccuracy-MNISTModel-validate-Check Loss On  </span>│<span style=\"color: #800080; text-decoration-color: #800080\">                  0.10499999672174454                   </span>│\n│<span style=\"color: #008080; text-decoration-color: #008080\">                          Init                          </span>│<span style=\"color: #800080; text-decoration-color: #800080\">                                                        </span>│\n└────────────────────────────────────────────────────────┴────────────────────────────────────────────────────────┘\n</pre>\n"
     },
     "metadata": {},
     "output_type": "display_data"
    },
    {
     "ename": "Exception",
     "evalue": "Check failed for step: Check Loss On Init. Reason: Score 15.631749153137207 is not equal to 2.3",
     "output_type": "error",
     "traceback": [
      "\u001B[0;31m---------------------------------------------------------------------------\u001B[0m",
      "\u001B[0;31mException\u001B[0m                                 Traceback (most recent call last)",
      "Cell \u001B[0;32mIn[14], line 12\u001B[0m\n\u001B[1;32m      8\u001B[0m     logging\u001B[38;5;241m.\u001B[39mwarning(data)\n\u001B[1;32m     11\u001B[0m set_visualization([(my_model, \u001B[38;5;124m\"\u001B[39m\u001B[38;5;124mpredict\u001B[39m\u001B[38;5;124m\"\u001B[39m)], first_logging_func)\n\u001B[0;32m---> 12\u001B[0m \u001B[43mproject\u001B[49m\u001B[38;5;241;43m.\u001B[39;49m\u001B[43mrun_all\u001B[49m\u001B[43m(\u001B[49m\u001B[43m)\u001B[49m\n",
      "File \u001B[0;32m~/Documents/study/AI-PP/Inz/audio-research-toolkit/art/experiment/Experiment.py:94\u001B[0m, in \u001B[0;36mArtProject.run_all\u001B[0;34m(self)\u001B[0m\n\u001B[1;32m     90\u001B[0m step\u001B[38;5;241m.\u001B[39madd_result(\u001B[38;5;124m\"\u001B[39m\u001B[38;5;124mhash\u001B[39m\u001B[38;5;124m\"\u001B[39m, step\u001B[38;5;241m.\u001B[39mget_hash())\n\u001B[1;32m     92\u001B[0m step(\u001B[38;5;28mself\u001B[39m\u001B[38;5;241m.\u001B[39mstate\u001B[38;5;241m.\u001B[39mstep_states, \u001B[38;5;28mself\u001B[39m\u001B[38;5;241m.\u001B[39mdatamodule, \u001B[38;5;28mself\u001B[39m\u001B[38;5;241m.\u001B[39mmetric_calculator)\n\u001B[0;32m---> 94\u001B[0m \u001B[38;5;28;43mself\u001B[39;49m\u001B[38;5;241;43m.\u001B[39;49m\u001B[43mcheck_checks\u001B[49m\u001B[43m(\u001B[49m\u001B[43mstep\u001B[49m\u001B[43m,\u001B[49m\u001B[43m \u001B[49m\u001B[43mchecks\u001B[49m\u001B[43m)\u001B[49m\n\u001B[1;32m     95\u001B[0m \u001B[38;5;28mself\u001B[39m\u001B[38;5;241m.\u001B[39mfill_step_states(step)\n",
      "File \u001B[0;32m~/Documents/study/AI-PP/Inz/audio-research-toolkit/art/experiment/Experiment.py:52\u001B[0m, in \u001B[0;36mArtProject.check_checks\u001B[0;34m(self, step, checks)\u001B[0m\n\u001B[1;32m     50\u001B[0m result \u001B[38;5;241m=\u001B[39m check\u001B[38;5;241m.\u001B[39mcheck(step)\n\u001B[1;32m     51\u001B[0m \u001B[38;5;28;01mif\u001B[39;00m \u001B[38;5;129;01mnot\u001B[39;00m result\u001B[38;5;241m.\u001B[39mis_positive:\n\u001B[0;32m---> 52\u001B[0m     \u001B[38;5;28;01mraise\u001B[39;00m \u001B[38;5;167;01mException\u001B[39;00m(\n\u001B[1;32m     53\u001B[0m         \u001B[38;5;124mf\u001B[39m\u001B[38;5;124m\"\u001B[39m\u001B[38;5;124mCheck failed for step: \u001B[39m\u001B[38;5;132;01m{\u001B[39;00mstep\u001B[38;5;241m.\u001B[39mname\u001B[38;5;132;01m}\u001B[39;00m\u001B[38;5;124m. Reason: \u001B[39m\u001B[38;5;132;01m{\u001B[39;00mresult\u001B[38;5;241m.\u001B[39merror\u001B[38;5;132;01m}\u001B[39;00m\u001B[38;5;124m\"\u001B[39m\n\u001B[1;32m     54\u001B[0m     )\n",
      "\u001B[0;31mException\u001B[0m: Check failed for step: Check Loss On Init. Reason: Score 15.631749153137207 is not equal to 2.3"
     ]
    }
   ],
   "execution_count": 14
  },
  {
   "cell_type": "code",
   "execution_count": 12,
   "metadata": {
    "ExecuteTime": {
     "start_time": "2023-10-08T11:26:09.644602Z",
     "end_time": "2023-10-08T11:26:09.940186Z"
    }
   },
   "outputs": [
    {
     "name": "stderr",
     "output_type": "stream",
     "text": [
      "GPU available: True (cuda), used: True\n",
      "TPU available: False, using: 0 TPU cores\n",
      "IPU available: False, using: 0 IPUs\n",
      "HPU available: False, using: 0 HPUs\n",
      "LOCAL_RANK: 0 - CUDA_VISIBLE_DEVICES: [0]\n"
     ]
    },
    {
     "name": "stdout",
     "output_type": "stream",
     "text": [
      "Step Evaluate Baseline_HeuristicBaseline_1 was already completed.\n",
      "Step Evaluate Baseline_MlBaseline_2 was already completed.\n",
      "Step Evaluate Baseline_AlreadyExistingSolutionBaseline_3 was already completed.\n"
     ]
    },
    {
     "data": {
      "text/plain": "Validation: 0it [00:00, ?it/s]",
      "application/vnd.jupyter.widget-view+json": {
       "version_major": 2,
       "version_minor": 0,
       "model_id": "a7f651ba3f10417fa7620f88c1c0745f"
      }
     },
     "metadata": {},
     "output_type": "display_data"
    },
    {
     "data": {
      "text/plain": "┏━━━━━━━━━━━━━━━━━━━━━━━━━━━━━━━━━━━━━━━━━━━━━━━━━━━━━━━━┳━━━━━━━━━━━━━━━━━━━━━━━━━━━━━━━━━━━━━━━━━━━━━━━━━━━━━━━━┓\n┃\u001B[1m \u001B[0m\u001B[1m                   Validate metric                    \u001B[0m\u001B[1m \u001B[0m┃\u001B[1m \u001B[0m\u001B[1m                     DataLoader 0                     \u001B[0m\u001B[1m \u001B[0m┃\n┡━━━━━━━━━━━━━━━━━━━━━━━━━━━━━━━━━━━━━━━━━━━━━━━━━━━━━━━━╇━━━━━━━━━━━━━━━━━━━━━━━━━━━━━━━━━━━━━━━━━━━━━━━━━━━━━━━━┩\n│\u001B[36m \u001B[0m\u001B[36m  CrossEntropyLoss-MNISTModel-validate-Check Loss On  \u001B[0m\u001B[36m \u001B[0m│\u001B[35m \u001B[0m\u001B[35m                  2.3018980026245117                  \u001B[0m\u001B[35m \u001B[0m│\n│\u001B[36m \u001B[0m\u001B[36m                         Init                         \u001B[0m\u001B[36m \u001B[0m│\u001B[35m                                                        \u001B[0m│\n│\u001B[36m \u001B[0m\u001B[36m MulticlassAccuracy-MNISTModel-validate-Check Loss On \u001B[0m\u001B[36m \u001B[0m│\u001B[35m \u001B[0m\u001B[35m                 0.07500000298023224                  \u001B[0m\u001B[35m \u001B[0m│\n│\u001B[36m \u001B[0m\u001B[36m                         Init                         \u001B[0m\u001B[36m \u001B[0m│\u001B[35m                                                        \u001B[0m│\n└────────────────────────────────────────────────────────┴────────────────────────────────────────────────────────┘\n",
      "text/html": "<pre style=\"white-space:pre;overflow-x:auto;line-height:normal;font-family:Menlo,'DejaVu Sans Mono',consolas,'Courier New',monospace\">┏━━━━━━━━━━━━━━━━━━━━━━━━━━━━━━━━━━━━━━━━━━━━━━━━━━━━━━━━┳━━━━━━━━━━━━━━━━━━━━━━━━━━━━━━━━━━━━━━━━━━━━━━━━━━━━━━━━┓\n┃<span style=\"font-weight: bold\">                    Validate metric                     </span>┃<span style=\"font-weight: bold\">                      DataLoader 0                      </span>┃\n┡━━━━━━━━━━━━━━━━━━━━━━━━━━━━━━━━━━━━━━━━━━━━━━━━━━━━━━━━╇━━━━━━━━━━━━━━━━━━━━━━━━━━━━━━━━━━━━━━━━━━━━━━━━━━━━━━━━┩\n│<span style=\"color: #008080; text-decoration-color: #008080\">   CrossEntropyLoss-MNISTModel-validate-Check Loss On   </span>│<span style=\"color: #800080; text-decoration-color: #800080\">                   2.3018980026245117                   </span>│\n│<span style=\"color: #008080; text-decoration-color: #008080\">                          Init                          </span>│<span style=\"color: #800080; text-decoration-color: #800080\">                                                        </span>│\n│<span style=\"color: #008080; text-decoration-color: #008080\">  MulticlassAccuracy-MNISTModel-validate-Check Loss On  </span>│<span style=\"color: #800080; text-decoration-color: #800080\">                  0.07500000298023224                   </span>│\n│<span style=\"color: #008080; text-decoration-color: #008080\">                          Init                          </span>│<span style=\"color: #800080; text-decoration-color: #800080\">                                                        </span>│\n└────────────────────────────────────────────────────────┴────────────────────────────────────────────────────────┘\n</pre>\n"
     },
     "metadata": {},
     "output_type": "display_data"
    }
   ],
   "source": [
    "new_model = MNISTModel(normalize_img=True) \n",
    "project.replace_step(CheckLossOnInit(new_model))\n",
    "project.run_all()"
   ]
  },
  {
   "cell_type": "markdown",
   "metadata": {
    "ExecuteTime": {
     "start_time": "2023-10-08T13:33:39.328397Z",
     "end_time": "2023-10-08T13:33:39.601475Z"
    }
   },
   "source": [
    "And we've done it! We gained a little more confidence in our pipeline. Let's move further. The next step is to overfit just a single batch. If you can't do this there is for sure something wrong. From now procedure for everything else is very similar. So we import the next step and add it to our experiment with the appropriate check."
   ],
   "outputs": [
    {
     "name": "stderr",
     "output_type": "stream",
     "text": [
      "GPU available: True (cuda), used: True\n",
      "TPU available: False, using: 0 TPU cores\n",
      "IPU available: False, using: 0 IPUs\n",
      "HPU available: False, using: 0 HPUs\n",
      "LOCAL_RANK: 0 - CUDA_VISIBLE_DEVICES: [0]\n"
     ]
    },
    {
     "name": "stdout",
     "output_type": "stream",
     "text": [
      "Step Data analysis_data_analysis was already completed.\n",
      "Step Evaluate Baseline_HeuristicBaseline_2 was already completed.\n",
      "Step Evaluate Baseline_MlBaseline_3 was already completed.\n",
      "Step Evaluate Baseline_AlreadyExistingSolutionBaseline_4 was already completed.\n"
     ]
    },
    {
     "data": {
      "text/plain": "Validation: 0it [00:00, ?it/s]",
      "application/vnd.jupyter.widget-view+json": {
       "version_major": 2,
       "version_minor": 0,
       "model_id": "c7fcca2902674d2989173b53bf834e56"
      }
     },
     "metadata": {},
     "output_type": "display_data"
    },
    {
     "data": {
      "text/plain": "┏━━━━━━━━━━━━━━━━━━━━━━━━━━━━━━━━━━━━━━━━━━━━━━━━━━━━━━━━┳━━━━━━━━━━━━━━━━━━━━━━━━━━━━━━━━━━━━━━━━━━━━━━━━━━━━━━━━┓\n┃\u001B[1m \u001B[0m\u001B[1m                   Validate metric                    \u001B[0m\u001B[1m \u001B[0m┃\u001B[1m \u001B[0m\u001B[1m                     DataLoader 0                     \u001B[0m\u001B[1m \u001B[0m┃\n┡━━━━━━━━━━━━━━━━━━━━━━━━━━━━━━━━━━━━━━━━━━━━━━━━━━━━━━━━╇━━━━━━━━━━━━━━━━━━━━━━━━━━━━━━━━━━━━━━━━━━━━━━━━━━━━━━━━┩\n│\u001B[36m \u001B[0m\u001B[36m  CrossEntropyLoss-MNISTModel-validate-Check Loss On  \u001B[0m\u001B[36m \u001B[0m│\u001B[35m \u001B[0m\u001B[35m                  2.309532880783081                   \u001B[0m\u001B[35m \u001B[0m│\n│\u001B[36m \u001B[0m\u001B[36m                         Init                         \u001B[0m\u001B[36m \u001B[0m│\u001B[35m                                                        \u001B[0m│\n│\u001B[36m \u001B[0m\u001B[36m MulticlassAccuracy-MNISTModel-validate-Check Loss On \u001B[0m\u001B[36m \u001B[0m│\u001B[35m \u001B[0m\u001B[35m                 0.10499999672174454                  \u001B[0m\u001B[35m \u001B[0m│\n│\u001B[36m \u001B[0m\u001B[36m                         Init                         \u001B[0m\u001B[36m \u001B[0m│\u001B[35m                                                        \u001B[0m│\n└────────────────────────────────────────────────────────┴────────────────────────────────────────────────────────┘\n",
      "text/html": "<pre style=\"white-space:pre;overflow-x:auto;line-height:normal;font-family:Menlo,'DejaVu Sans Mono',consolas,'Courier New',monospace\">┏━━━━━━━━━━━━━━━━━━━━━━━━━━━━━━━━━━━━━━━━━━━━━━━━━━━━━━━━┳━━━━━━━━━━━━━━━━━━━━━━━━━━━━━━━━━━━━━━━━━━━━━━━━━━━━━━━━┓\n┃<span style=\"font-weight: bold\">                    Validate metric                     </span>┃<span style=\"font-weight: bold\">                      DataLoader 0                      </span>┃\n┡━━━━━━━━━━━━━━━━━━━━━━━━━━━━━━━━━━━━━━━━━━━━━━━━━━━━━━━━╇━━━━━━━━━━━━━━━━━━━━━━━━━━━━━━━━━━━━━━━━━━━━━━━━━━━━━━━━┩\n│<span style=\"color: #008080; text-decoration-color: #008080\">   CrossEntropyLoss-MNISTModel-validate-Check Loss On   </span>│<span style=\"color: #800080; text-decoration-color: #800080\">                   2.309532880783081                    </span>│\n│<span style=\"color: #008080; text-decoration-color: #008080\">                          Init                          </span>│<span style=\"color: #800080; text-decoration-color: #800080\">                                                        </span>│\n│<span style=\"color: #008080; text-decoration-color: #008080\">  MulticlassAccuracy-MNISTModel-validate-Check Loss On  </span>│<span style=\"color: #800080; text-decoration-color: #800080\">                  0.10499999672174454                   </span>│\n│<span style=\"color: #008080; text-decoration-color: #008080\">                          Init                          </span>│<span style=\"color: #800080; text-decoration-color: #800080\">                                                        </span>│\n└────────────────────────────────────────────────────────┴────────────────────────────────────────────────────────┘\n</pre>\n"
     },
     "metadata": {},
     "output_type": "display_data"
    }
   ],
   "execution_count": 15
  },
  {
   "cell_type": "markdown",
   "metadata": {},
   "source": [
    "### Another step - overfitting one batch"
   ]
  },
  {
   "cell_type": "code",
   "execution_count": 13,
   "metadata": {
    "ExecuteTime": {
     "start_time": "2023-10-08T11:18:39.999761Z",
     "end_time": "2023-10-08T11:18:40.153139Z"
    }
   },
   "outputs": [
    {
     "name": "stderr",
     "output_type": "stream",
     "text": [
      "GPU available: True (cuda), used: True\n",
      "TPU available: False, using: 0 TPU cores\n",
      "IPU available: False, using: 0 IPUs\n",
      "HPU available: False, using: 0 HPUs\n",
      "`Trainer(overfit_batches=1)` was configured so 1 batch will be used.\n",
      "/home/kacper/anaconda3/envs/art/lib/python3.8/site-packages/lightning/pytorch/trainer/configuration_validator.py:71: PossibleUserWarning: You defined a `validation_step` but have no `val_dataloader`. Skipping val loop.\n",
      "  rank_zero_warn(\n",
      "LOCAL_RANK: 0 - CUDA_VISIBLE_DEVICES: [0]\n",
      "\n",
      "  | Name    | Type             | Params\n",
      "---------------------------------------------\n",
      "0 | model   | Sequential       | 2.7 K \n",
      "1 | loss_fn | CrossEntropyLoss | 0     \n",
      "---------------------------------------------\n",
      "2.7 K     Trainable params\n",
      "0         Non-trainable params\n",
      "2.7 K     Total params\n",
      "0.011     Total estimated model params size (MB)\n"
     ]
    },
    {
     "name": "stdout",
     "output_type": "stream",
     "text": [
      "Step Evaluate Baseline_HeuristicBaseline_1 was already completed.\n",
      "Step Evaluate Baseline_MlBaseline_2 was already completed.\n",
      "Step Evaluate Baseline_AlreadyExistingSolutionBaseline_3 was already completed.\n",
      "Step Check Loss On Init_MNISTModel_4 was already completed.\n"
     ]
    },
    {
     "name": "stderr",
     "output_type": "stream",
     "text": [
      "/home/kacper/anaconda3/envs/art/lib/python3.8/site-packages/lightning/pytorch/trainer/connectors/data_connector.py:442: PossibleUserWarning: The dataloader, train_dataloader, does not have many workers which may be a bottleneck. Consider increasing the value of the `num_workers` argument` (try 12 which is the number of cpus on this machine) in the `DataLoader` init to improve performance.\n",
      "  rank_zero_warn(\n",
      "/home/kacper/anaconda3/envs/art/lib/python3.8/site-packages/lightning/pytorch/loops/fit_loop.py:281: PossibleUserWarning: The number of training batches (1) is smaller than the logging interval Trainer(log_every_n_steps=50). Set a lower value for log_every_n_steps if you want to see logs for the training epoch.\n",
      "  rank_zero_warn(\n"
     ]
    },
    {
     "data": {
      "text/plain": "Training: 0it [00:00, ?it/s]",
      "application/vnd.jupyter.widget-view+json": {
       "version_major": 2,
       "version_minor": 0,
       "model_id": "e912f3230a0249089bcecdaa24ebfacd"
      }
     },
     "metadata": {},
     "output_type": "display_data"
    },
    {
     "name": "stderr",
     "output_type": "stream",
     "text": [
      "`Trainer.fit` stopped: `max_epochs=100` reached.\n"
     ]
    },
    {
     "ename": "Exception",
     "evalue": "Check failed for step: Overfit One Batch. Reason: Score 0.11578508466482162 is not less than 0.01",
     "output_type": "error",
     "traceback": [
      "\u001B[0;31m---------------------------------------------------------------------------\u001B[0m",
      "\u001B[0;31mException\u001B[0m                                 Traceback (most recent call last)",
      "Cell \u001B[0;32mIn[13], line 6\u001B[0m\n\u001B[1;32m      2\u001B[0m \u001B[38;5;28;01mfrom\u001B[39;00m \u001B[38;5;21;01mart\u001B[39;00m\u001B[38;5;21;01m.\u001B[39;00m\u001B[38;5;21;01mstep\u001B[39;00m\u001B[38;5;21;01m.\u001B[39;00m\u001B[38;5;21;01mchecks\u001B[39;00m \u001B[38;5;28;01mimport\u001B[39;00m CheckScoreLessThan\n\u001B[1;32m      4\u001B[0m project\u001B[38;5;241m.\u001B[39madd_step(OverfitOneBatch(MNISTModel()),\n\u001B[1;32m      5\u001B[0m             [CheckScoreLessThan(metric\u001B[38;5;241m=\u001B[39mce_loss, value\u001B[38;5;241m=\u001B[39m\u001B[38;5;241m0.01\u001B[39m)])\n\u001B[0;32m----> 6\u001B[0m \u001B[43mproject\u001B[49m\u001B[38;5;241;43m.\u001B[39;49m\u001B[43mrun_all\u001B[49m\u001B[43m(\u001B[49m\u001B[43m)\u001B[49m\n",
      "File \u001B[0;32m~/Documents/study/AI-PP/Inz/audio-research-toolkit/art/experiment/Experiment.py:94\u001B[0m, in \u001B[0;36mArtProject.run_all\u001B[0;34m(self)\u001B[0m\n\u001B[1;32m     90\u001B[0m step\u001B[38;5;241m.\u001B[39madd_result(\u001B[38;5;124m\"\u001B[39m\u001B[38;5;124mhash\u001B[39m\u001B[38;5;124m\"\u001B[39m, step\u001B[38;5;241m.\u001B[39mget_hash())\n\u001B[1;32m     92\u001B[0m step(\u001B[38;5;28mself\u001B[39m\u001B[38;5;241m.\u001B[39mstate\u001B[38;5;241m.\u001B[39mstep_states, \u001B[38;5;28mself\u001B[39m\u001B[38;5;241m.\u001B[39mdatamodule, \u001B[38;5;28mself\u001B[39m\u001B[38;5;241m.\u001B[39mmetric_calculator)\n\u001B[0;32m---> 94\u001B[0m \u001B[38;5;28;43mself\u001B[39;49m\u001B[38;5;241;43m.\u001B[39;49m\u001B[43mcheck_checks\u001B[49m\u001B[43m(\u001B[49m\u001B[43mstep\u001B[49m\u001B[43m,\u001B[49m\u001B[43m \u001B[49m\u001B[43mchecks\u001B[49m\u001B[43m)\u001B[49m\n\u001B[1;32m     95\u001B[0m \u001B[38;5;28mself\u001B[39m\u001B[38;5;241m.\u001B[39mfill_step_states(step)\n",
      "File \u001B[0;32m~/Documents/study/AI-PP/Inz/audio-research-toolkit/art/experiment/Experiment.py:52\u001B[0m, in \u001B[0;36mArtProject.check_checks\u001B[0;34m(self, step, checks)\u001B[0m\n\u001B[1;32m     50\u001B[0m result \u001B[38;5;241m=\u001B[39m check\u001B[38;5;241m.\u001B[39mcheck(step)\n\u001B[1;32m     51\u001B[0m \u001B[38;5;28;01mif\u001B[39;00m \u001B[38;5;129;01mnot\u001B[39;00m result\u001B[38;5;241m.\u001B[39mis_positive:\n\u001B[0;32m---> 52\u001B[0m     \u001B[38;5;28;01mraise\u001B[39;00m \u001B[38;5;167;01mException\u001B[39;00m(\n\u001B[1;32m     53\u001B[0m         \u001B[38;5;124mf\u001B[39m\u001B[38;5;124m\"\u001B[39m\u001B[38;5;124mCheck failed for step: \u001B[39m\u001B[38;5;132;01m{\u001B[39;00mstep\u001B[38;5;241m.\u001B[39mname\u001B[38;5;132;01m}\u001B[39;00m\u001B[38;5;124m. Reason: \u001B[39m\u001B[38;5;132;01m{\u001B[39;00mresult\u001B[38;5;241m.\u001B[39merror\u001B[38;5;132;01m}\u001B[39;00m\u001B[38;5;124m\"\u001B[39m\n\u001B[1;32m     54\u001B[0m     )\n",
      "\u001B[0;31mException\u001B[0m: Check failed for step: Overfit One Batch. Reason: Score 0.11578508466482162 is not less than 0.01"
     ]
    }
   ],
   "source": [
    "from art.step.steps import OverfitOneBatch\n",
    "from art.step.checks import CheckScoreLessThan\n",
    "\n",
    "project.add_step(OverfitOneBatch(MNISTModel()),\n",
    "            [CheckScoreLessThan(metric=ce_loss, value=0.01)])\n",
    "project.run_all()"
   ]
  },
  {
   "cell_type": "markdown",
   "metadata": {},
   "source": [
    "Oh no... we can't overfit. Is this an issue with the model? Maybe but at first let's see another powerful use case of art. We will debug the prediction dynamics to see how our model is evolving. We will calculate the average logit value for all images that should be classified as 1. For this purpose we create a class with memory and make it callable, later we decorate our model prediction function and casually run the experiment."
   ],
   "outputs": [
    {
     "name": "stderr",
     "output_type": "stream",
     "text": [
      "GPU available: True (cuda), used: True\n",
      "TPU available: False, using: 0 TPU cores\n",
      "IPU available: False, using: 0 IPUs\n",
      "HPU available: False, using: 0 HPUs\n",
      "`Trainer(overfit_batches=1)` was configured so 1 batch will be used.\n",
      "/home/kacper/anaconda3/envs/art/lib/python3.8/site-packages/lightning/pytorch/trainer/configuration_validator.py:71: PossibleUserWarning: You defined a `validation_step` but have no `val_dataloader`. Skipping val loop.\n",
      "  rank_zero_warn(\n",
      "LOCAL_RANK: 0 - CUDA_VISIBLE_DEVICES: [0]\n",
      "\n",
      "  | Name    | Type             | Params\n",
      "---------------------------------------------\n",
      "0 | model   | Sequential       | 2.7 K \n",
      "1 | loss_fn | CrossEntropyLoss | 0     \n",
      "---------------------------------------------\n",
      "2.7 K     Trainable params\n",
      "0         Non-trainable params\n",
      "2.7 K     Total params\n",
      "0.011     Total estimated model params size (MB)\n"
     ]
    },
    {
     "name": "stdout",
     "output_type": "stream",
     "text": [
      "Step Data analysis_data_analysis was already completed.\n",
      "Step Evaluate Baseline_HeuristicBaseline_2 was already completed.\n",
      "Step Evaluate Baseline_MlBaseline_3 was already completed.\n",
      "Step Evaluate Baseline_AlreadyExistingSolutionBaseline_4 was already completed.\n",
      "Step Check Loss On Init_MNISTModel_5 was already completed.\n"
     ]
    },
    {
     "name": "stderr",
     "output_type": "stream",
     "text": [
      "/home/kacper/anaconda3/envs/art/lib/python3.8/site-packages/lightning/pytorch/trainer/connectors/data_connector.py:442: PossibleUserWarning: The dataloader, train_dataloader, does not have many workers which may be a bottleneck. Consider increasing the value of the `num_workers` argument` (try 12 which is the number of cpus on this machine) in the `DataLoader` init to improve performance.\n",
      "  rank_zero_warn(\n",
      "/home/kacper/anaconda3/envs/art/lib/python3.8/site-packages/lightning/pytorch/loops/fit_loop.py:281: PossibleUserWarning: The number of training batches (1) is smaller than the logging interval Trainer(log_every_n_steps=50). Set a lower value for log_every_n_steps if you want to see logs for the training epoch.\n",
      "  rank_zero_warn(\n"
     ]
    },
    {
     "data": {
      "text/plain": "Training: 0it [00:00, ?it/s]",
      "application/vnd.jupyter.widget-view+json": {
       "version_major": 2,
       "version_minor": 0,
       "model_id": "7b4edf7e984a4253bb6f789d57358714"
      }
     },
     "metadata": {},
     "output_type": "display_data"
    },
    {
     "name": "stderr",
     "output_type": "stream",
     "text": [
      "`Trainer.fit` stopped: `max_epochs=100` reached.\n"
     ]
    },
    {
     "ename": "Exception",
     "evalue": "Check failed for step: Overfit One Batch. Reason: Score 0.4284631907939911 is not less than 0.01",
     "output_type": "error",
     "traceback": [
      "\u001B[0;31m---------------------------------------------------------------------------\u001B[0m",
      "\u001B[0;31mException\u001B[0m                                 Traceback (most recent call last)",
      "Cell \u001B[0;32mIn[16], line 6\u001B[0m\n\u001B[1;32m      2\u001B[0m \u001B[38;5;28;01mfrom\u001B[39;00m \u001B[38;5;21;01mart\u001B[39;00m\u001B[38;5;21;01m.\u001B[39;00m\u001B[38;5;21;01mstep\u001B[39;00m\u001B[38;5;21;01m.\u001B[39;00m\u001B[38;5;21;01mchecks\u001B[39;00m \u001B[38;5;28;01mimport\u001B[39;00m CheckScoreLessThan\n\u001B[1;32m      4\u001B[0m project\u001B[38;5;241m.\u001B[39madd_step(OverfitOneBatch(MNISTModel()),\n\u001B[1;32m      5\u001B[0m             [CheckScoreLessThan(metric\u001B[38;5;241m=\u001B[39mce_loss, value\u001B[38;5;241m=\u001B[39m\u001B[38;5;241m0.01\u001B[39m)])\n\u001B[0;32m----> 6\u001B[0m \u001B[43mproject\u001B[49m\u001B[38;5;241;43m.\u001B[39;49m\u001B[43mrun_all\u001B[49m\u001B[43m(\u001B[49m\u001B[43m)\u001B[49m\n",
      "File \u001B[0;32m~/Documents/study/AI-PP/Inz/audio-research-toolkit/art/experiment/Experiment.py:94\u001B[0m, in \u001B[0;36mArtProject.run_all\u001B[0;34m(self)\u001B[0m\n\u001B[1;32m     90\u001B[0m step\u001B[38;5;241m.\u001B[39madd_result(\u001B[38;5;124m\"\u001B[39m\u001B[38;5;124mhash\u001B[39m\u001B[38;5;124m\"\u001B[39m, step\u001B[38;5;241m.\u001B[39mget_hash())\n\u001B[1;32m     92\u001B[0m step(\u001B[38;5;28mself\u001B[39m\u001B[38;5;241m.\u001B[39mstate\u001B[38;5;241m.\u001B[39mstep_states, \u001B[38;5;28mself\u001B[39m\u001B[38;5;241m.\u001B[39mdatamodule, \u001B[38;5;28mself\u001B[39m\u001B[38;5;241m.\u001B[39mmetric_calculator)\n\u001B[0;32m---> 94\u001B[0m \u001B[38;5;28;43mself\u001B[39;49m\u001B[38;5;241;43m.\u001B[39;49m\u001B[43mcheck_checks\u001B[49m\u001B[43m(\u001B[49m\u001B[43mstep\u001B[49m\u001B[43m,\u001B[49m\u001B[43m \u001B[49m\u001B[43mchecks\u001B[49m\u001B[43m)\u001B[49m\n\u001B[1;32m     95\u001B[0m \u001B[38;5;28mself\u001B[39m\u001B[38;5;241m.\u001B[39mfill_step_states(step)\n",
      "File \u001B[0;32m~/Documents/study/AI-PP/Inz/audio-research-toolkit/art/experiment/Experiment.py:52\u001B[0m, in \u001B[0;36mArtProject.check_checks\u001B[0;34m(self, step, checks)\u001B[0m\n\u001B[1;32m     50\u001B[0m result \u001B[38;5;241m=\u001B[39m check\u001B[38;5;241m.\u001B[39mcheck(step)\n\u001B[1;32m     51\u001B[0m \u001B[38;5;28;01mif\u001B[39;00m \u001B[38;5;129;01mnot\u001B[39;00m result\u001B[38;5;241m.\u001B[39mis_positive:\n\u001B[0;32m---> 52\u001B[0m     \u001B[38;5;28;01mraise\u001B[39;00m \u001B[38;5;167;01mException\u001B[39;00m(\n\u001B[1;32m     53\u001B[0m         \u001B[38;5;124mf\u001B[39m\u001B[38;5;124m\"\u001B[39m\u001B[38;5;124mCheck failed for step: \u001B[39m\u001B[38;5;132;01m{\u001B[39;00mstep\u001B[38;5;241m.\u001B[39mname\u001B[38;5;132;01m}\u001B[39;00m\u001B[38;5;124m. Reason: \u001B[39m\u001B[38;5;132;01m{\u001B[39;00mresult\u001B[38;5;241m.\u001B[39merror\u001B[38;5;132;01m}\u001B[39;00m\u001B[38;5;124m\"\u001B[39m\n\u001B[1;32m     54\u001B[0m     )\n",
      "\u001B[0;31mException\u001B[0m: Check failed for step: Overfit One Batch. Reason: Score 0.4284631907939911 is not less than 0.01"
     ]
    }
   ],
   "execution_count": 16
  },
  {
   "cell_type": "code",
   "execution_count": 14,
   "metadata": {
    "ExecuteTime": {
     "start_time": "2023-10-08T11:18:42.783243Z",
     "end_time": "2023-10-08T11:18:42.959200Z"
    }
   },
   "outputs": [
    {
     "name": "stderr",
     "output_type": "stream",
     "text": [
      "GPU available: True (cuda), used: True\n",
      "TPU available: False, using: 0 TPU cores\n",
      "IPU available: False, using: 0 IPUs\n",
      "HPU available: False, using: 0 HPUs\n",
      "`Trainer(overfit_batches=1)` was configured so 1 batch will be used.\n",
      "LOCAL_RANK: 0 - CUDA_VISIBLE_DEVICES: [0]\n",
      "\n",
      "  | Name    | Type             | Params\n",
      "---------------------------------------------\n",
      "0 | model   | Sequential       | 2.7 K \n",
      "1 | loss_fn | CrossEntropyLoss | 0     \n",
      "---------------------------------------------\n",
      "2.7 K     Trainable params\n",
      "0         Non-trainable params\n",
      "2.7 K     Total params\n",
      "0.011     Total estimated model params size (MB)\n"
     ]
    },
    {
     "name": "stdout",
     "output_type": "stream",
     "text": [
      "Step Evaluate Baseline_HeuristicBaseline_1 was already completed.\n",
      "Step Evaluate Baseline_MlBaseline_2 was already completed.\n",
      "Step Evaluate Baseline_AlreadyExistingSolutionBaseline_3 was already completed.\n",
      "Step Check Loss On Init_MNISTModel_4 was already completed.\n"
     ]
    },
    {
     "data": {
      "text/plain": "Training: 0it [00:00, ?it/s]",
      "application/vnd.jupyter.widget-view+json": {
       "version_major": 2,
       "version_minor": 0,
       "model_id": "7f5b923ef76a4a01baf09155053191f5"
      }
     },
     "metadata": {},
     "output_type": "display_data"
    },
    {
     "name": "stderr",
     "output_type": "stream",
     "text": [
      "`Trainer.fit` stopped: `max_epochs=100` reached.\n"
     ]
    },
    {
     "ename": "Exception",
     "evalue": "Check failed for step: Overfit One Batch. Reason: Score 0.3475848436355591 is not less than 0.01",
     "output_type": "error",
     "traceback": [
      "\u001B[0;31m---------------------------------------------------------------------------\u001B[0m",
      "\u001B[0;31mException\u001B[0m                                 Traceback (most recent call last)",
      "Cell \u001B[0;32mIn[14], line 34\u001B[0m\n\u001B[1;32m     32\u001B[0m set_visualization([(my_model, \u001B[38;5;124m\"\u001B[39m\u001B[38;5;124mpredict\u001B[39m\u001B[38;5;124m\"\u001B[39m)], \u001B[38;5;28;01mNone\u001B[39;00m, evolution_saver)\n\u001B[1;32m     33\u001B[0m project\u001B[38;5;241m.\u001B[39mreplace_step(OverfitOneBatch(my_model))\n\u001B[0;32m---> 34\u001B[0m \u001B[43mproject\u001B[49m\u001B[38;5;241;43m.\u001B[39;49m\u001B[43mrun_all\u001B[49m\u001B[43m(\u001B[49m\u001B[43m)\u001B[49m\n",
      "File \u001B[0;32m~/Documents/study/AI-PP/Inz/audio-research-toolkit/art/experiment/Experiment.py:94\u001B[0m, in \u001B[0;36mArtProject.run_all\u001B[0;34m(self)\u001B[0m\n\u001B[1;32m     90\u001B[0m step\u001B[38;5;241m.\u001B[39madd_result(\u001B[38;5;124m\"\u001B[39m\u001B[38;5;124mhash\u001B[39m\u001B[38;5;124m\"\u001B[39m, step\u001B[38;5;241m.\u001B[39mget_hash())\n\u001B[1;32m     92\u001B[0m step(\u001B[38;5;28mself\u001B[39m\u001B[38;5;241m.\u001B[39mstate\u001B[38;5;241m.\u001B[39mstep_states, \u001B[38;5;28mself\u001B[39m\u001B[38;5;241m.\u001B[39mdatamodule, \u001B[38;5;28mself\u001B[39m\u001B[38;5;241m.\u001B[39mmetric_calculator)\n\u001B[0;32m---> 94\u001B[0m \u001B[38;5;28;43mself\u001B[39;49m\u001B[38;5;241;43m.\u001B[39;49m\u001B[43mcheck_checks\u001B[49m\u001B[43m(\u001B[49m\u001B[43mstep\u001B[49m\u001B[43m,\u001B[49m\u001B[43m \u001B[49m\u001B[43mchecks\u001B[49m\u001B[43m)\u001B[49m\n\u001B[1;32m     95\u001B[0m \u001B[38;5;28mself\u001B[39m\u001B[38;5;241m.\u001B[39mfill_step_states(step)\n",
      "File \u001B[0;32m~/Documents/study/AI-PP/Inz/audio-research-toolkit/art/experiment/Experiment.py:52\u001B[0m, in \u001B[0;36mArtProject.check_checks\u001B[0;34m(self, step, checks)\u001B[0m\n\u001B[1;32m     50\u001B[0m result \u001B[38;5;241m=\u001B[39m check\u001B[38;5;241m.\u001B[39mcheck(step)\n\u001B[1;32m     51\u001B[0m \u001B[38;5;28;01mif\u001B[39;00m \u001B[38;5;129;01mnot\u001B[39;00m result\u001B[38;5;241m.\u001B[39mis_positive:\n\u001B[0;32m---> 52\u001B[0m     \u001B[38;5;28;01mraise\u001B[39;00m \u001B[38;5;167;01mException\u001B[39;00m(\n\u001B[1;32m     53\u001B[0m         \u001B[38;5;124mf\u001B[39m\u001B[38;5;124m\"\u001B[39m\u001B[38;5;124mCheck failed for step: \u001B[39m\u001B[38;5;132;01m{\u001B[39;00mstep\u001B[38;5;241m.\u001B[39mname\u001B[38;5;132;01m}\u001B[39;00m\u001B[38;5;124m. Reason: \u001B[39m\u001B[38;5;132;01m{\u001B[39;00mresult\u001B[38;5;241m.\u001B[39merror\u001B[38;5;132;01m}\u001B[39;00m\u001B[38;5;124m\"\u001B[39m\n\u001B[1;32m     54\u001B[0m     )\n",
      "\u001B[0;31mException\u001B[0m: Check failed for step: Overfit One Batch. Reason: Score 0.3475848436355591 is not less than 0.01"
     ]
    }
   ],
   "source": [
    "class EvolutionSaver:\n",
    "    def __init__(self):\n",
    "        self.logits = []\n",
    "        self.time = 0\n",
    "\n",
    "    def __call__(self, data):\n",
    "        targets = data['target'] == 1\n",
    "        logits = data['prediction']\n",
    "        \n",
    "        wanted_logits = logits[targets].mean(dim=0)\n",
    "        for i, logit in enumerate(wanted_logits):\n",
    "            self.logits.append({\n",
    "                \"time\": self.time,\n",
    "                \"logit\": logit.item(),\n",
    "                \"class\": i\n",
    "            })\n",
    "\n",
    "        self.time += 1    \n",
    "\n",
    "    def visualize(self):\n",
    "        import pandas as pd\n",
    "        if len(self.logits) == 0:\n",
    "            print(\"Step was not run and logits are empty\")\n",
    "            return\n",
    "\n",
    "        df = pd.DataFrame(self.logits)\n",
    "        df = df.pivot(index='time', columns='class', values='logit')\n",
    "        return df.plot(xlabel=\"epoch number\", ylabel=\"logit value\", title=\"Evolution of logits values when digit 1 is a target\")\n",
    "\n",
    "my_model = MNISTModel()\n",
    "evolution_saver = EvolutionSaver()\n",
    "set_visualization([(my_model, \"predict\")], None, evolution_saver)\n",
    "project.replace_step(OverfitOneBatch(my_model))\n",
    "project.run_all()"
   ]
  },
  {
   "cell_type": "markdown",
   "metadata": {},
   "source": [
    "The experiment fails, we know that. But what about the visualization?"
   ],
   "outputs": [
    {
     "name": "stderr",
     "output_type": "stream",
     "text": [
      "GPU available: True (cuda), used: True\n",
      "TPU available: False, using: 0 TPU cores\n",
      "IPU available: False, using: 0 IPUs\n",
      "HPU available: False, using: 0 HPUs\n",
      "`Trainer(overfit_batches=1)` was configured so 1 batch will be used.\n",
      "LOCAL_RANK: 0 - CUDA_VISIBLE_DEVICES: [0]\n",
      "\n",
      "  | Name    | Type             | Params\n",
      "---------------------------------------------\n",
      "0 | model   | Sequential       | 2.7 K \n",
      "1 | loss_fn | CrossEntropyLoss | 0     \n",
      "---------------------------------------------\n",
      "2.7 K     Trainable params\n",
      "0         Non-trainable params\n",
      "2.7 K     Total params\n",
      "0.011     Total estimated model params size (MB)\n"
     ]
    },
    {
     "name": "stdout",
     "output_type": "stream",
     "text": [
      "Step Data analysis_data_analysis was already completed.\n",
      "Step Evaluate Baseline_HeuristicBaseline_2 was already completed.\n",
      "Step Evaluate Baseline_MlBaseline_3 was already completed.\n",
      "Step Evaluate Baseline_AlreadyExistingSolutionBaseline_4 was already completed.\n",
      "Step Check Loss On Init_MNISTModel_5 was already completed.\n"
     ]
    },
    {
     "data": {
      "text/plain": "Training: 0it [00:00, ?it/s]",
      "application/vnd.jupyter.widget-view+json": {
       "version_major": 2,
       "version_minor": 0,
       "model_id": "7b3daa159d4441f180312e7e88724fbc"
      }
     },
     "metadata": {},
     "output_type": "display_data"
    },
    {
     "name": "stderr",
     "output_type": "stream",
     "text": [
      "`Trainer.fit` stopped: `max_epochs=100` reached.\n"
     ]
    },
    {
     "ename": "Exception",
     "evalue": "Check failed for step: Overfit One Batch. Reason: Score 0.5824318528175354 is not less than 0.01",
     "output_type": "error",
     "traceback": [
      "\u001B[0;31m---------------------------------------------------------------------------\u001B[0m",
      "\u001B[0;31mException\u001B[0m                                 Traceback (most recent call last)",
      "Cell \u001B[0;32mIn[17], line 34\u001B[0m\n\u001B[1;32m     32\u001B[0m set_visualization([(my_model, \u001B[38;5;124m\"\u001B[39m\u001B[38;5;124mpredict\u001B[39m\u001B[38;5;124m\"\u001B[39m)], \u001B[38;5;28;01mNone\u001B[39;00m, evolution_saver)\n\u001B[1;32m     33\u001B[0m project\u001B[38;5;241m.\u001B[39mreplace_step(OverfitOneBatch(my_model))\n\u001B[0;32m---> 34\u001B[0m \u001B[43mproject\u001B[49m\u001B[38;5;241;43m.\u001B[39;49m\u001B[43mrun_all\u001B[49m\u001B[43m(\u001B[49m\u001B[43m)\u001B[49m\n",
      "File \u001B[0;32m~/Documents/study/AI-PP/Inz/audio-research-toolkit/art/experiment/Experiment.py:94\u001B[0m, in \u001B[0;36mArtProject.run_all\u001B[0;34m(self)\u001B[0m\n\u001B[1;32m     90\u001B[0m step\u001B[38;5;241m.\u001B[39madd_result(\u001B[38;5;124m\"\u001B[39m\u001B[38;5;124mhash\u001B[39m\u001B[38;5;124m\"\u001B[39m, step\u001B[38;5;241m.\u001B[39mget_hash())\n\u001B[1;32m     92\u001B[0m step(\u001B[38;5;28mself\u001B[39m\u001B[38;5;241m.\u001B[39mstate\u001B[38;5;241m.\u001B[39mstep_states, \u001B[38;5;28mself\u001B[39m\u001B[38;5;241m.\u001B[39mdatamodule, \u001B[38;5;28mself\u001B[39m\u001B[38;5;241m.\u001B[39mmetric_calculator)\n\u001B[0;32m---> 94\u001B[0m \u001B[38;5;28;43mself\u001B[39;49m\u001B[38;5;241;43m.\u001B[39;49m\u001B[43mcheck_checks\u001B[49m\u001B[43m(\u001B[49m\u001B[43mstep\u001B[49m\u001B[43m,\u001B[49m\u001B[43m \u001B[49m\u001B[43mchecks\u001B[49m\u001B[43m)\u001B[49m\n\u001B[1;32m     95\u001B[0m \u001B[38;5;28mself\u001B[39m\u001B[38;5;241m.\u001B[39mfill_step_states(step)\n",
      "File \u001B[0;32m~/Documents/study/AI-PP/Inz/audio-research-toolkit/art/experiment/Experiment.py:52\u001B[0m, in \u001B[0;36mArtProject.check_checks\u001B[0;34m(self, step, checks)\u001B[0m\n\u001B[1;32m     50\u001B[0m result \u001B[38;5;241m=\u001B[39m check\u001B[38;5;241m.\u001B[39mcheck(step)\n\u001B[1;32m     51\u001B[0m \u001B[38;5;28;01mif\u001B[39;00m \u001B[38;5;129;01mnot\u001B[39;00m result\u001B[38;5;241m.\u001B[39mis_positive:\n\u001B[0;32m---> 52\u001B[0m     \u001B[38;5;28;01mraise\u001B[39;00m \u001B[38;5;167;01mException\u001B[39;00m(\n\u001B[1;32m     53\u001B[0m         \u001B[38;5;124mf\u001B[39m\u001B[38;5;124m\"\u001B[39m\u001B[38;5;124mCheck failed for step: \u001B[39m\u001B[38;5;132;01m{\u001B[39;00mstep\u001B[38;5;241m.\u001B[39mname\u001B[38;5;132;01m}\u001B[39;00m\u001B[38;5;124m. Reason: \u001B[39m\u001B[38;5;132;01m{\u001B[39;00mresult\u001B[38;5;241m.\u001B[39merror\u001B[38;5;132;01m}\u001B[39;00m\u001B[38;5;124m\"\u001B[39m\n\u001B[1;32m     54\u001B[0m     )\n",
      "\u001B[0;31mException\u001B[0m: Check failed for step: Overfit One Batch. Reason: Score 0.5824318528175354 is not less than 0.01"
     ]
    }
   ],
   "execution_count": 17
  },
  {
   "cell_type": "code",
   "execution_count": 15,
   "metadata": {
    "ExecuteTime": {
     "start_time": "2023-10-08T11:26:24.734171Z",
     "end_time": "2023-10-08T11:26:25.461360Z"
    }
   },
   "outputs": [
    {
     "data": {
      "text/plain": "<Figure size 640x480 with 1 Axes>",
      "image/png": "[encoded data removed]"
     },
     "metadata": {},
     "output_type": "display_data"
    }
   ],
   "source": [
    "plot = evolution_saver.visualize()"
   ]
  },
  {
   "cell_type": "markdown",
   "metadata": {
    "ExecuteTime": {
     "start_time": "2023-10-08T13:34:05.443258Z",
     "end_time": "2023-10-08T13:34:06.158401Z"
    }
   },
   "source": [
    "But how about saving this plot to a logging service like Neptune?\n",
    "\n",
    "Here comes yet another help from art called logger adapter.\n",
    "Thanks to this, you can always get back to the visualization you have created at any time - even if you use an external computing unit.\n",
    "\n",
    "Create a Neptune project, paste your api_token and project name, and use the logger as easy as it is."
   ],
   "outputs": [
    {
     "data": {
      "text/plain": "<Figure size 640x480 with 1 Axes>",
      "image/png": "[encoded data removed]"
     },
     "metadata": {},
     "output_type": "display_data"
    }
   ],
   "execution_count": 18
  },
  {
   "cell_type": "code",
   "execution_count": 16,
   "metadata": {
    "ExecuteTime": {
     "start_time": "2023-10-08T11:26:29.418989Z",
     "end_time": "2023-10-08T11:26:36.828804Z"
    }
   },
   "outputs": [
    {
     "name": "stderr",
     "output_type": "stream",
     "text": [
      "/home/kacper/anaconda3/envs/art/lib/python3.8/site-packages/lightning/pytorch/loggers/neptune.py:376: NeptuneWarning: The following monitoring options are disabled by default in interactive sessions: 'capture_stdout', 'capture_stderr', 'capture_traceback', and 'capture_hardware_metrics'. To enable them, set each parameter to 'True' when initializing the run. The monitoring will continue until you call run.stop() or the kernel stops. Also note: Your source files can only be tracked if you pass the path(s) to the 'source_code' argument. For help, see the Neptune docs: https://docs.neptune.ai/logging/source_code/\n",
      "  self._run_instance = neptune.init_run(**self._neptune_init_args)\n"
     ]
    },
    {
     "name": "stdout",
     "output_type": "stream",
     "text": [
      "https://app.neptune.ai/trebacz.kacper/temp3/e/TEM-1\n"
     ]
    }
   ],
   "source": [
    "from art.utils.LoggerAdapter import NeptuneLoggerAdapter\n",
    "from neptune.exceptions import NeptuneMissingApiTokenException\n",
    "\n",
    "project_name = input(\"Provide neptune project name\")\n",
    "experiment_name = \"art-overfitting-one-batch\"\n",
    "try:\n",
    "    logger = NeptuneLoggerAdapter(project=project_name, custom_run_id=experiment_name)\n",
    "    if plot is not None:\n",
    "        logger.log_figure(plot.get_figure(), \"logit_evolution\")\n",
    "except NeptuneMissingApiTokenException as e:\n",
    "    print(\"To enable logging, please set your NEPTUNE_API_TOKEN environment variable and reset the notebook, or pass your token and project name directly to NeptuneLoggerAdapter like:\\n    NeptuneLoggerAdapter(api_token=your_token, project=project_name)\\n\")\n",
    "    print(\"For more information, please visit https://docs.neptune.ai/setup/setting_api_token/.\")\n"
   ]
  },
  {
   "cell_type": "markdown",
   "metadata": {
    "ExecuteTime": {
     "start_time": "2023-10-08T13:34:11.663540Z",
     "end_time": "2023-10-08T13:34:19.407096Z"
    }
   },
   "source": [
    "Let's get back to debugging.\n",
    "\n",
    "So, as you can see we are moving in the correct direction. 1 has the biggest logist very soon but the difference is not big enough yet - Probably we should just wait a little bit longer. Moreover, we see how powerful decorators can be. This helps us make our code more modular and fulfill the Open-Closed principle.\n",
    "\n",
    "We can solve our problem in two ways:\n",
    "* Either increase the learning rate.\n",
    "* Or train for longer."
   ],
   "outputs": [
    {
     "name": "stderr",
     "output_type": "stream",
     "text": [
      "/home/kacper/anaconda3/envs/art/lib/python3.8/site-packages/lightning/pytorch/loggers/neptune.py:376: NeptuneWarning: The following monitoring options are disabled by default in interactive sessions: 'capture_stdout', 'capture_stderr', 'capture_traceback', and 'capture_hardware_metrics'. To enable them, set each parameter to 'True' when initializing the run. The monitoring will continue until you call run.stop() or the kernel stops. Also note: Your source files can only be tracked if you pass the path(s) to the 'source_code' argument. For help, see the Neptune docs: https://docs.neptune.ai/logging/source_code/\n",
      "  self._run_instance = neptune.init_run(**self._neptune_init_args)\n"
     ]
    },
    {
     "name": "stdout",
     "output_type": "stream",
     "text": [
      "https://app.neptune.ai/trebacz.kacper/temp3/e/TEM-1\n"
     ]
    }
   ],
   "execution_count": 19
  },
  {
   "cell_type": "code",
   "execution_count": 17,
   "metadata": {
    "ExecuteTime": {
     "start_time": "2023-10-08T11:26:36.830089Z",
     "end_time": "2023-10-08T11:26:51.294630Z"
    }
   },
   "outputs": [
    {
     "name": "stderr",
     "output_type": "stream",
     "text": [
      "GPU available: True (cuda), used: True\n",
      "TPU available: False, using: 0 TPU cores\n",
      "IPU available: False, using: 0 IPUs\n",
      "HPU available: False, using: 0 HPUs\n",
      "`Trainer(overfit_batches=1)` was configured so 1 batch will be used.\n",
      "/home/kacper/anaconda3/envs/art/lib/python3.8/site-packages/lightning/pytorch/trainer/configuration_validator.py:71: PossibleUserWarning: You defined a `validation_step` but have no `val_dataloader`. Skipping val loop.\n",
      "  rank_zero_warn(\n",
      "LOCAL_RANK: 0 - CUDA_VISIBLE_DEVICES: [0]\n",
      "\n",
      "  | Name    | Type             | Params\n",
      "---------------------------------------------\n",
      "0 | model   | Sequential       | 2.7 K \n",
      "1 | loss_fn | CrossEntropyLoss | 0     \n",
      "---------------------------------------------\n",
      "2.7 K     Trainable params\n",
      "0         Non-trainable params\n",
      "2.7 K     Total params\n",
      "0.011     Total estimated model params size (MB)\n"
     ]
    },
    {
     "name": "stdout",
     "output_type": "stream",
     "text": [
      "Step Evaluate Baseline_HeuristicBaseline_1 was already completed.\n",
      "Step Evaluate Baseline_MlBaseline_2 was already completed.\n",
      "Step Evaluate Baseline_AlreadyExistingSolutionBaseline_3 was already completed.\n",
      "Step Check Loss On Init_MNISTModel_4 was already completed.\n"
     ]
    },
    {
     "name": "stderr",
     "output_type": "stream",
     "text": [
      "/home/kacper/anaconda3/envs/art/lib/python3.8/site-packages/lightning/pytorch/trainer/connectors/data_connector.py:442: PossibleUserWarning: The dataloader, train_dataloader, does not have many workers which may be a bottleneck. Consider increasing the value of the `num_workers` argument` (try 12 which is the number of cpus on this machine) in the `DataLoader` init to improve performance.\n",
      "  rank_zero_warn(\n",
      "/home/kacper/anaconda3/envs/art/lib/python3.8/site-packages/lightning/pytorch/loops/fit_loop.py:281: PossibleUserWarning: The number of training batches (1) is smaller than the logging interval Trainer(log_every_n_steps=50). Set a lower value for log_every_n_steps if you want to see logs for the training epoch.\n",
      "  rank_zero_warn(\n"
     ]
    },
    {
     "data": {
      "text/plain": "Training: 0it [00:00, ?it/s]",
      "application/vnd.jupyter.widget-view+json": {
       "version_major": 2,
       "version_minor": 0,
       "model_id": "25ba0bad80d249bb831bb21dbb83dd99"
      }
     },
     "metadata": {},
     "output_type": "display_data"
    },
    {
     "name": "stderr",
     "output_type": "stream",
     "text": [
      "`Trainer.fit` stopped: `max_epochs=500` reached.\n"
     ]
    },
    {
     "data": {
      "text/plain": "<Figure size 640x480 with 1 Axes>",
      "image/png": "[encoded data removed]"
     },
     "metadata": {},
     "output_type": "display_data"
    }
   ],
   "source": [
    "my_model = MNISTModel()\n",
    "evolution_saver = EvolutionSaver()\n",
    "set_visualization([(my_model, \"predict\")], None, evolution_saver)\n",
    "project.replace_step(OverfitOneBatch(my_model, number_of_steps=500))\n",
    "project.run_all()\n",
    "plot = evolution_saver.visualize()\n",
    "if plot is not None:\n",
    "    logger.log_figure(plot.get_figure(), \"logit_evolution2\")"
   ]
  },
  {
   "cell_type": "code",
   "execution_count": 20,
   "metadata": {
    "ExecuteTime": {
     "start_time": "2023-10-08T13:34:25.038535Z",
     "end_time": "2023-10-08T13:34:39.012796Z"
    }
   },
   "outputs": [
    {
     "name": "stderr",
     "output_type": "stream",
     "text": [
      "GPU available: True (cuda), used: True\n",
      "TPU available: False, using: 0 TPU cores\n",
      "IPU available: False, using: 0 IPUs\n",
      "HPU available: False, using: 0 HPUs\n",
      "`Trainer(overfit_batches=1)` was configured so 1 batch will be used.\n",
      "/home/kacper/anaconda3/envs/art/lib/python3.8/site-packages/lightning/pytorch/trainer/configuration_validator.py:71: PossibleUserWarning: You defined a `validation_step` but have no `val_dataloader`. Skipping val loop.\n",
      "  rank_zero_warn(\n",
      "LOCAL_RANK: 0 - CUDA_VISIBLE_DEVICES: [0]\n",
      "\n",
      "  | Name    | Type             | Params\n",
      "---------------------------------------------\n",
      "0 | model   | Sequential       | 2.7 K \n",
      "1 | loss_fn | CrossEntropyLoss | 0     \n",
      "---------------------------------------------\n",
      "2.7 K     Trainable params\n",
      "0         Non-trainable params\n",
      "2.7 K     Total params\n",
      "0.011     Total estimated model params size (MB)\n"
     ]
    },
    {
     "name": "stdout",
     "output_type": "stream",
     "text": [
      "Step Data analysis_data_analysis was already completed.\n",
      "Step Evaluate Baseline_HeuristicBaseline_2 was already completed.\n",
      "Step Evaluate Baseline_MlBaseline_3 was already completed.\n",
      "Step Evaluate Baseline_AlreadyExistingSolutionBaseline_4 was already completed.\n",
      "Step Check Loss On Init_MNISTModel_5 was already completed.\n"
     ]
    },
    {
     "name": "stderr",
     "output_type": "stream",
     "text": [
      "/home/kacper/anaconda3/envs/art/lib/python3.8/site-packages/lightning/pytorch/trainer/connectors/data_connector.py:442: PossibleUserWarning: The dataloader, train_dataloader, does not have many workers which may be a bottleneck. Consider increasing the value of the `num_workers` argument` (try 12 which is the number of cpus on this machine) in the `DataLoader` init to improve performance.\n",
      "  rank_zero_warn(\n",
      "/home/kacper/anaconda3/envs/art/lib/python3.8/site-packages/lightning/pytorch/loops/fit_loop.py:281: PossibleUserWarning: The number of training batches (1) is smaller than the logging interval Trainer(log_every_n_steps=50). Set a lower value for log_every_n_steps if you want to see logs for the training epoch.\n",
      "  rank_zero_warn(\n"
     ]
    },
    {
     "data": {
      "text/plain": "Training: 0it [00:00, ?it/s]",
      "application/vnd.jupyter.widget-view+json": {
       "version_major": 2,
       "version_minor": 0,
       "model_id": "7d81025a22e6445ea627733e5e471203"
      }
     },
     "metadata": {},
     "output_type": "display_data"
    },
    {
     "name": "stderr",
     "output_type": "stream",
     "text": [
      "`Trainer.fit` stopped: `max_epochs=500` reached.\n"
     ]
    },
    {
     "data": {
      "text/plain": "<Figure size 640x480 with 1 Axes>",
      "image/png": "[encoded data removed]"
     },
     "metadata": {},
     "output_type": "display_data"
    }
   ],
   "source": [
    "logger.stop()"
   ]
  },
  {
   "cell_type": "markdown",
   "metadata": {
    "ExecuteTime": {
     "start_time": "2023-10-08T13:34:44.344678Z",
     "end_time": "2023-10-08T13:34:44.533088Z"
    }
   },
   "source": [
    "Nice! At overfitting process we'd recommend not to play with learning rate and stick with default value. It is better to just wait for a little bit longer. Now another Step can be taken. Overfitting entire training set. This is also very important as this somehow approximates our best possible score that can be achieved. If it is much below our expected result this again may indicate problems."
   ],
   "outputs": [
    {
     "name": "stdout",
     "output_type": "stream",
     "text": [
      "Shutting down background jobs, please wait a moment...\n",
      "Done!\n",
      "All 0 operations synced, thanks for waiting!\n",
      "Explore the metadata in the Neptune app:\n",
      "https://app.neptune.ai/trebacz.kacper/temp3/e/TEM-1/metadata\n"
     ]
    }
   ],
   "execution_count": 21
  },
  {
   "cell_type": "markdown",
   "metadata": {},
   "source": [
    "### Overfitting entire training set"
   ]
  },
  {
   "cell_type": "code",
   "execution_count": 19,
   "metadata": {
    "ExecuteTime": {
     "start_time": "2023-10-08T11:28:18.121170Z",
     "end_time": "2023-10-08T11:28:18.207280Z"
    }
   },
   "outputs": [
    {
     "name": "stderr",
     "output_type": "stream",
     "text": [
      "GPU available: True (cuda), used: True\n",
      "TPU available: False, using: 0 TPU cores\n",
      "IPU available: False, using: 0 IPUs\n",
      "HPU available: False, using: 0 HPUs\n"
     ]
    }
   ],
   "source": [
    "from art.step.steps import Overfit\n",
    "from art.step.checks import CheckScoreGreaterThan\n",
    "\n",
    "experiment_name = \"overfitting-train-set\"\n",
    "logger = NeptuneLoggerAdapter(project=project_name, custom_run_id=experiment_name)\n",
    "\n",
    "my_model = MNISTModel()\n",
    "project.add_step(Overfit(my_model, max_epochs=50, logger=logger), \n",
    "            [CheckScoreGreaterThan(metric=accuracy_metric, value=0.88)])"
   ]
  },
  {
   "cell_type": "code",
   "execution_count": 22,
   "metadata": {
    "ExecuteTime": {
     "start_time": "2023-10-08T13:34:59.908205Z",
     "end_time": "2023-10-08T13:35:00.036291Z"
    }
   },
   "outputs": [
    {
     "name": "stderr",
     "output_type": "stream",
     "text": [
      "GPU available: True (cuda), used: True\n",
      "TPU available: False, using: 0 TPU cores\n",
      "IPU available: False, using: 0 IPUs\n",
      "HPU available: False, using: 0 HPUs\n"
     ]
    }
   ],
   "source": [
    "project.run_all()"
   ]
  },
  {
   "cell_type": "code",
   "execution_count": 23,
   "metadata": {
    "ExecuteTime": {
     "start_time": "2023-10-08T13:35:05.963745Z",
     "end_time": "2023-10-08T13:35:20.235985Z"
    }
   },
   "outputs": [
    {
     "name": "stdout",
     "output_type": "stream",
     "text": [
      "Step Data analysis_data_analysis was already completed.\n",
      "Step Evaluate Baseline_HeuristicBaseline_2 was already completed.\n",
      "Step Evaluate Baseline_MlBaseline_3 was already completed.\n",
      "Step Evaluate Baseline_AlreadyExistingSolutionBaseline_4 was already completed.\n",
      "Step Check Loss On Init_MNISTModel_5 was already completed.\n",
      "Step Overfit One Batch_MNISTModel_6 was already completed.\n"
     ]
    },
    {
     "name": "stderr",
     "output_type": "stream",
     "text": [
      "/home/kacper/anaconda3/envs/art/lib/python3.8/site-packages/lightning/pytorch/trainer/configuration_validator.py:71: PossibleUserWarning: You defined a `validation_step` but have no `val_dataloader`. Skipping val loop.\n",
      "  rank_zero_warn(\n"
     ]
    },
    {
     "name": "stdout",
     "output_type": "stream",
     "text": [
      "https://app.neptune.ai/trebacz.kacper/temp3/e/TEM-2\n"
     ]
    },
    {
     "name": "stderr",
     "output_type": "stream",
     "text": [
      "LOCAL_RANK: 0 - CUDA_VISIBLE_DEVICES: [0]\n",
      "\n",
      "  | Name    | Type             | Params\n",
      "---------------------------------------------\n",
      "0 | model   | Sequential       | 2.7 K \n",
      "1 | loss_fn | CrossEntropyLoss | 0     \n",
      "---------------------------------------------\n",
      "2.7 K     Trainable params\n",
      "0         Non-trainable params\n",
      "2.7 K     Total params\n",
      "0.011     Total estimated model params size (MB)\n",
      "/home/kacper/anaconda3/envs/art/lib/python3.8/site-packages/lightning/pytorch/trainer/connectors/data_connector.py:442: PossibleUserWarning: The dataloader, train_dataloader, does not have many workers which may be a bottleneck. Consider increasing the value of the `num_workers` argument` (try 12 which is the number of cpus on this machine) in the `DataLoader` init to improve performance.\n",
      "  rank_zero_warn(\n",
      "/home/kacper/anaconda3/envs/art/lib/python3.8/site-packages/lightning/pytorch/loops/fit_loop.py:281: PossibleUserWarning: The number of training batches (13) is smaller than the logging interval Trainer(log_every_n_steps=50). Set a lower value for log_every_n_steps if you want to see logs for the training epoch.\n",
      "  rank_zero_warn(\n"
     ]
    },
    {
     "data": {
      "text/plain": "Training: 0it [00:00, ?it/s]",
      "application/vnd.jupyter.widget-view+json": {
       "version_major": 2,
       "version_minor": 0,
       "model_id": "c70fcb34a456438ba12f8ed9d90c36d4"
      }
     },
     "metadata": {},
     "output_type": "display_data"
    },
    {
     "name": "stderr",
     "output_type": "stream",
     "text": [
      "`Trainer.fit` stopped: `max_epochs=50` reached.\n",
      "LOCAL_RANK: 0 - CUDA_VISIBLE_DEVICES: [0]\n",
      "/home/kacper/anaconda3/envs/art/lib/python3.8/site-packages/lightning/pytorch/trainer/connectors/data_connector.py:442: PossibleUserWarning: The dataloader, val_dataloader, does not have many workers which may be a bottleneck. Consider increasing the value of the `num_workers` argument` (try 12 which is the number of cpus on this machine) in the `DataLoader` init to improve performance.\n",
      "  rank_zero_warn(\n"
     ]
    },
    {
     "data": {
      "text/plain": "Validation: 0it [00:00, ?it/s]",
      "application/vnd.jupyter.widget-view+json": {
       "version_major": 2,
       "version_minor": 0,
       "model_id": "c03b5ad90cf742ae9803727b619bb7ea"
      }
     },
     "metadata": {},
     "output_type": "display_data"
    },
    {
     "data": {
      "text/plain": "┏━━━━━━━━━━━━━━━━━━━━━━━━━━━━━━━━━━━━━━━━━━━━━━━━┳━━━━━━━━━━━━━━━━━━━━━━━━━━━━━━━━━━━━━━━━━━━━━━━━┓\n┃\u001B[1m \u001B[0m\u001B[1m               Validate metric                \u001B[0m\u001B[1m \u001B[0m┃\u001B[1m \u001B[0m\u001B[1m                 DataLoader 0                 \u001B[0m\u001B[1m \u001B[0m┃\n┡━━━━━━━━━━━━━━━━━━━━━━━━━━━━━━━━━━━━━━━━━━━━━━━━╇━━━━━━━━━━━━━━━━━━━━━━━━━━━━━━━━━━━━━━━━━━━━━━━━┩\n│\u001B[36m \u001B[0m\u001B[36m CrossEntropyLoss-MNISTModel-validate-Overfit \u001B[0m\u001B[36m \u001B[0m│\u001B[35m \u001B[0m\u001B[35m              1.0084303617477417              \u001B[0m\u001B[35m \u001B[0m│\n│\u001B[36m \u001B[0m\u001B[36mMulticlassAccuracy-MNISTModel-validate-Overfit\u001B[0m\u001B[36m \u001B[0m│\u001B[35m \u001B[0m\u001B[35m              0.6723999977111816              \u001B[0m\u001B[35m \u001B[0m│\n└────────────────────────────────────────────────┴────────────────────────────────────────────────┘\n",
      "text/html": "<pre style=\"white-space:pre;overflow-x:auto;line-height:normal;font-family:Menlo,'DejaVu Sans Mono',consolas,'Courier New',monospace\">┏━━━━━━━━━━━━━━━━━━━━━━━━━━━━━━━━━━━━━━━━━━━━━━━━┳━━━━━━━━━━━━━━━━━━━━━━━━━━━━━━━━━━━━━━━━━━━━━━━━┓\n┃<span style=\"font-weight: bold\">                Validate metric                 </span>┃<span style=\"font-weight: bold\">                  DataLoader 0                  </span>┃\n┡━━━━━━━━━━━━━━━━━━━━━━━━━━━━━━━━━━━━━━━━━━━━━━━━╇━━━━━━━━━━━━━━━━━━━━━━━━━━━━━━━━━━━━━━━━━━━━━━━━┩\n│<span style=\"color: #008080; text-decoration-color: #008080\">  CrossEntropyLoss-MNISTModel-validate-Overfit  </span>│<span style=\"color: #800080; text-decoration-color: #800080\">               1.0084303617477417               </span>│\n│<span style=\"color: #008080; text-decoration-color: #008080\"> MulticlassAccuracy-MNISTModel-validate-Overfit </span>│<span style=\"color: #800080; text-decoration-color: #800080\">               0.6723999977111816               </span>│\n└────────────────────────────────────────────────┴────────────────────────────────────────────────┘\n</pre>\n"
     },
     "metadata": {},
     "output_type": "display_data"
    }
   ],
   "source": [
    "logger.stop()"
   ]
  },
  {
   "cell_type": "markdown",
   "metadata": {
    "ExecuteTime": {
     "start_time": "2023-10-08T13:35:23.791648Z",
     "end_time": "2023-10-08T13:35:24.896981Z"
    }
   },
   "source": [
    "Nice, We were able to pass the next stage in the first try. Hopefully you see another challenge that we have to face. We are able to obtain nice accuracy on the training stage. But on the validation it decreases by very much. We are overfitting the training set. For this tutorial training set was chosen to be very small so this problem was expected. But now let's try to pass the finals step of this tutorial, namely regularization. When regularizing the model you should start from the most powerful regularization technique and go to weaker. Here we will use:\n",
    "\n",
    "1. getting more data - definitely one of the most powerful techniques. If possible always prefer this one.\n",
    "2. augmentations - also very strong one\n",
    "\n",
    "When applying augmentations to the images it is crucial to verify how do they influence the image. We again can use our decoration possibilities. *Under the hood `Regularize` class runs turn_on_regularization of ArtModule and the DataModule you use*.\n",
    "\n",
    "You can see what we input to the network by checking `augmentations_i.png` files."
   ],
   "outputs": [
    {
     "name": "stdout",
     "output_type": "stream",
     "text": [
      "Shutting down background jobs, please wait a moment...\n",
      "Done!\n",
      "Waiting for the remaining 16 operations to synchronize with Neptune. Do not kill this process.\n",
      "All 16 operations synced, thanks for waiting!\n",
      "Explore the metadata in the Neptune app:\n",
      "https://app.neptune.ai/trebacz.kacper/temp3/e/TEM-2/metadata\n"
     ]
    }
   ],
   "execution_count": 24
  },
  {
   "cell_type": "code",
   "execution_count": 22,
   "metadata": {
    "ExecuteTime": {
     "start_time": "2023-10-08T11:29:46.477751Z",
     "end_time": "2023-10-08T11:31:14.912105Z"
    }
   },
   "outputs": [
    {
     "name": "stderr",
     "output_type": "stream",
     "text": [
      "GPU available: True (cuda), used: True\n",
      "TPU available: False, using: 0 TPU cores\n",
      "IPU available: False, using: 0 IPUs\n",
      "HPU available: False, using: 0 HPUs\n"
     ]
    },
    {
     "name": "stdout",
     "output_type": "stream",
     "text": [
      "Step Evaluate Baseline_HeuristicBaseline_1 was already completed.\n",
      "Step Evaluate Baseline_MlBaseline_2 was already completed.\n",
      "Step Evaluate Baseline_AlreadyExistingSolutionBaseline_3 was already completed.\n",
      "Step Check Loss On Init_MNISTModel_4 was already completed.\n",
      "Step Overfit One Batch_MNISTModel_5 was already completed.\n",
      "Step Overfit_MNISTModel_6 was already completed.\n",
      "https://app.neptune.ai/trebacz.kacper/temp3/e/TEM-3\n"
     ]
    },
    {
     "name": "stderr",
     "output_type": "stream",
     "text": [
      "LOCAL_RANK: 0 - CUDA_VISIBLE_DEVICES: [0]\n",
      "\n",
      "  | Name    | Type             | Params\n",
      "---------------------------------------------\n",
      "0 | model   | Sequential       | 2.7 K \n",
      "1 | loss_fn | CrossEntropyLoss | 0     \n",
      "---------------------------------------------\n",
      "2.7 K     Trainable params\n",
      "0         Non-trainable params\n",
      "2.7 K     Total params\n",
      "0.011     Total estimated model params size (MB)\n"
     ]
    },
    {
     "data": {
      "text/plain": "Sanity Checking: 0it [00:00, ?it/s]",
      "application/vnd.jupyter.widget-view+json": {
       "version_major": 2,
       "version_minor": 0,
       "model_id": "e503b6aaf17b45d78b0935a09120fba4"
      }
     },
     "metadata": {},
     "output_type": "display_data"
    },
    {
     "name": "stderr",
     "output_type": "stream",
     "text": [
      "/home/kacper/anaconda3/envs/art/lib/python3.8/site-packages/torch/utils/data/_utils/collate.py:171: UserWarning: The given NumPy array is not writable, and PyTorch does not support non-writable tensors. This means writing to this tensor will result in undefined behavior. You may want to copy the array to protect its data or make it writable before converting it to a tensor. This type of warning will be suppressed for the rest of this program. (Triggered internally at ../torch/csrc/utils/tensor_numpy.cpp:206.)\n",
      "  return collate([torch.as_tensor(b) for b in batch], collate_fn_map=collate_fn_map)\n"
     ]
    },
    {
     "data": {
      "text/plain": "Training: 0it [00:00, ?it/s]",
      "application/vnd.jupyter.widget-view+json": {
       "version_major": 2,
       "version_minor": 0,
       "model_id": "50e3e43533fa41af91cccc74caa7df99"
      }
     },
     "metadata": {},
     "output_type": "display_data"
    },
    {
     "data": {
      "text/plain": "Validation: 0it [00:00, ?it/s]",
      "application/vnd.jupyter.widget-view+json": {
       "version_major": 2,
       "version_minor": 0,
       "model_id": "1638197be1c446f9b0e7639b84eac58e"
      }
     },
     "metadata": {},
     "output_type": "display_data"
    },
    {
     "name": "stderr",
     "output_type": "stream",
     "text": [
      "`Trainer.fit` stopped: `max_epochs=50` reached.\n"
     ]
    }
   ],
   "source": [
    "from torchvision.utils import save_image\n",
    "from art.step.steps import Regularize\n",
    "\n",
    "class BatchSaver:\n",
    "    def __init__(self):\n",
    "        self.time = 0\n",
    "\n",
    "    def __call__(self, data):\n",
    "        if self.time < 10:\n",
    "            save_image(data['input'], f'augmentations_{self.time}.png')\n",
    "        self.time +=1\n",
    "\n",
    "experiment_name = \"regularization\"\n",
    "logger = NeptuneLoggerAdapter(project=project_name, custom_run_id=experiment_name)\n",
    "\n",
    "my_model = MNISTModel()\n",
    "mnist_data_module = get_data_module(n_train=2000)\n",
    "project.update_datamodule(mnist_data_module)\n",
    "set_visualization([(my_model, \"predict\")], BatchSaver())\n",
    "project.add_step(Regularize(my_model, logger=logger, trainer_kwargs={\"max_epochs\":50, \"check_val_every_n_epoch\":50}), \n",
    "        [CheckScoreGreaterThan(metric=accuracy_metric, value=0.80)])\n",
    "\n",
    "project.run_all()"
   ]
  },
  {
   "cell_type": "code",
   "execution_count": 25,
   "metadata": {
    "ExecuteTime": {
     "start_time": "2023-10-08T13:35:30.966334Z",
     "end_time": "2023-10-08T13:36:54.013221Z"
    }
   },
   "outputs": [
    {
     "name": "stderr",
     "output_type": "stream",
     "text": [
      "GPU available: True (cuda), used: True\n",
      "TPU available: False, using: 0 TPU cores\n",
      "IPU available: False, using: 0 IPUs\n",
      "HPU available: False, using: 0 HPUs\n"
     ]
    },
    {
     "name": "stdout",
     "output_type": "stream",
     "text": [
      "Step Data analysis_data_analysis was already completed.\n",
      "Step Evaluate Baseline_HeuristicBaseline_2 was already completed.\n",
      "Step Evaluate Baseline_MlBaseline_3 was already completed.\n",
      "Step Evaluate Baseline_AlreadyExistingSolutionBaseline_4 was already completed.\n",
      "Step Check Loss On Init_MNISTModel_5 was already completed.\n",
      "Step Overfit One Batch_MNISTModel_6 was already completed.\n",
      "Step Overfit_MNISTModel_7 was already completed.\n",
      "https://app.neptune.ai/trebacz.kacper/temp3/e/TEM-3\n"
     ]
    },
    {
     "name": "stderr",
     "output_type": "stream",
     "text": [
      "LOCAL_RANK: 0 - CUDA_VISIBLE_DEVICES: [0]\n",
      "\n",
      "  | Name    | Type             | Params\n",
      "---------------------------------------------\n",
      "0 | model   | Sequential       | 2.7 K \n",
      "1 | loss_fn | CrossEntropyLoss | 0     \n",
      "---------------------------------------------\n",
      "2.7 K     Trainable params\n",
      "0         Non-trainable params\n",
      "2.7 K     Total params\n",
      "0.011     Total estimated model params size (MB)\n"
     ]
    },
    {
     "data": {
      "text/plain": "Sanity Checking: 0it [00:00, ?it/s]",
      "application/vnd.jupyter.widget-view+json": {
       "version_major": 2,
       "version_minor": 0,
       "model_id": "50755bf02fcd468cbc03856b1d246ac0"
      }
     },
     "metadata": {},
     "output_type": "display_data"
    },
    {
     "name": "stderr",
     "output_type": "stream",
     "text": [
      "/home/kacper/anaconda3/envs/art/lib/python3.8/site-packages/torch/utils/data/_utils/collate.py:171: UserWarning: The given NumPy array is not writable, and PyTorch does not support non-writable tensors. This means writing to this tensor will result in undefined behavior. You may want to copy the array to protect its data or make it writable before converting it to a tensor. This type of warning will be suppressed for the rest of this program. (Triggered internally at ../torch/csrc/utils/tensor_numpy.cpp:206.)\n",
      "  return collate([torch.as_tensor(b) for b in batch], collate_fn_map=collate_fn_map)\n"
     ]
    },
    {
     "data": {
      "text/plain": "Training: 0it [00:00, ?it/s]",
      "application/vnd.jupyter.widget-view+json": {
       "version_major": 2,
       "version_minor": 0,
       "model_id": "5c5876f25bd149f6814ff0dd40faa4f5"
      }
     },
     "metadata": {},
     "output_type": "display_data"
    },
    {
     "data": {
      "text/plain": "Validation: 0it [00:00, ?it/s]",
      "application/vnd.jupyter.widget-view+json": {
       "version_major": 2,
       "version_minor": 0,
       "model_id": "77434f07d68944219570e487c5e9fb01"
      }
     },
     "metadata": {},
     "output_type": "display_data"
    },
    {
     "name": "stderr",
     "output_type": "stream",
     "text": [
      "`Trainer.fit` stopped: `max_epochs=50` reached.\n"
     ]
    }
   ],
   "source": [
    "logger.stop()"
   ]
  },
  {
   "cell_type": "markdown",
   "metadata": {
    "ExecuteTime": {
     "start_time": "2023-10-08T13:36:57.843198Z",
     "end_time": "2023-10-08T13:36:57.998144Z"
    }
   },
   "source": [
    "Here you are! Hopefully, now you have incentive to try ART for your next data science project.\n"
   ],
   "outputs": [
    {
     "name": "stdout",
     "output_type": "stream",
     "text": [
      "Shutting down background jobs, please wait a moment...\n",
      "Done!\n",
      "All 0 operations synced, thanks for waiting!\n",
      "Explore the metadata in the Neptune app:\n",
      "https://app.neptune.ai/trebacz.kacper/temp3/e/TEM-3/metadata\n"
     ]
    }
   ],
   "execution_count": 26
  },
  {
   "cell_type": "code",
   "execution_count": null,
   "outputs": [],
   "source": [],
   "metadata": {
    "collapsed": false
   }
  }
 ],
 "metadata": {
  "kernelspec": {
   "display_name": "Python 3 (ipykernel)",
   "language": "python",
   "name": "python3"
  },
  "language_info": {
   "codemirror_mode": {
    "name": "ipython",
    "version": 3
   },
   "file_extension": ".py",
   "mimetype": "text/x-python",
   "name": "python",
   "nbconvert_exporter": "python",
   "pygments_lexer": "ipython3",
   "version": "3.10.10"
  }
 },
 "nbformat": 4,
 "nbformat_minor": 4
}
