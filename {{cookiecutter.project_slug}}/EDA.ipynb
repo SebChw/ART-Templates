{
 "cells": [
  {
   "cell_type": "code",
   "execution_count": 1,
   "metadata": {},
   "outputs": [],
   "source": [
    "from MyDataset import CifarDataModule\n",
    "\n",
    "from art.project import ArtProject\n",
    "from art.checks import CheckResultExists, CheckScoreExists, CheckScoreLessThan, CheckScoreGreaterThan\n",
    "from art.steps import EvaluateBaseline, OverfitOneBatch, Overfit#, TransferLearning\n",
    "from torchmetrics import Accuracy, Precision, Recall\n",
    "import torch.nn as nn\n",
    "from lightning.pytorch.callbacks import EarlyStopping\n",
    "\n",
    "from MyDataset import CifarDataModule\n",
    "from checks import CheckClassImagesExist, CheckLenClassNamesEqualToNumClasses\n",
    "from steps import DataAnalysis\n",
    "import math"
   ]
  },
  {
   "cell_type": "code",
   "execution_count": 2,
   "metadata": {},
   "outputs": [
    {
     "name": "stderr",
     "output_type": "stream",
     "text": [
      "Global seed set to 23\n"
     ]
    },
    {
     "data": {
      "text/plain": [
       "23"
      ]
     },
     "execution_count": 2,
     "metadata": {},
     "output_type": "execute_result"
    }
   ],
   "source": [
    "%load_ext autoreload\n",
    "%autoreload 2\n",
    "from lightning import seed_everything\n",
    "seed_everything(23)"
   ]
  },
  {
   "cell_type": "markdown",
   "metadata": {},
   "source": [
    "# Proper data analysis"
   ]
  },
  {
   "cell_type": "code",
   "execution_count": 3,
   "metadata": {},
   "outputs": [
    {
     "name": "stdout",
     "output_type": "stream",
     "text": [
      "Summary: \n",
      "Step: Data analysis, Model: , Passed: True. Results:\n",
      "\n",
      "Code of the following steps was changed: Data analysis\n",
      " Rerun could be needed.\n"
     ]
    }
   ],
   "source": [
    "project = ArtProject(\"Cifar100\", CifarDataModule(batch_size=32))\n",
    "project.add_step(DataAnalysis(), [\n",
    "    CheckResultExists(\"number_of_classes\"),\n",
    "    CheckResultExists(\"class_names\"),\n",
    "    CheckResultExists(\"number_of_examples_in_each_class\"),\n",
    "    CheckResultExists(\"img_dimensions\"),\n",
    "    CheckClassImagesExist(),\n",
    "    CheckLenClassNamesEqualToNumClasses()])\n",
    "project.run_all()\n"
   ]
  },
  {
   "cell_type": "code",
   "execution_count": 4,
   "metadata": {},
   "outputs": [],
   "source": [
    "from torchmetrics import Accuracy\n",
    "import torch.nn as nn\n",
    "from art.steps import EvaluateBaseline\n",
    "\n",
    "NUM_CLASSES = project.get_step(0).get_latest_run()[\"number_of_classes\"]\n",
    "accuracy_metric, ce_loss = Accuracy(task=\"multiclass\", num_classes = NUM_CLASSES), nn.CrossEntropyLoss()\n",
    "project.register_metrics([accuracy_metric, ce_loss])"
   ]
  },
  {
   "cell_type": "code",
   "execution_count": 5,
   "metadata": {},
   "outputs": [],
   "source": [
    "from art.metrics import SkippedMetric\n",
    "from models.baselines import MlBaseline, HeuristicBaseline, AlreadyExistingResNet20Baseline\n",
    "from art.checks import CheckScoreExists\n",
    "baselines = [HeuristicBaseline, MlBaseline, AlreadyExistingResNet20Baseline]\n",
    "for baseline in baselines:\n",
    "    project.add_step(\n",
    "        step = EvaluateBaseline(baseline), \n",
    "        checks = [CheckScoreExists(metric=accuracy_metric)],\n",
    "        skipped_metrics=[SkippedMetric(metric=ce_loss)]\n",
    "    )\n"
   ]
  },
  {
   "cell_type": "code",
   "execution_count": 6,
   "metadata": {},
   "outputs": [
    {
     "name": "stdout",
     "output_type": "stream",
     "text": [
      "Summary: \n",
      "Step: Data analysis, Model: , Passed: True. Results:\n",
      "\n",
      "Step: Evaluate Baseline, Model: HeuristicBaseline, Passed: True. Results:\n",
      "\tMulticlassAccuracy-validate: 0.012299999594688416\n",
      "Step: Evaluate Baseline, Model: MlBaseline, Passed: True. Results:\n",
      "\tMulticlassAccuracy-validate: 0.15649999678134918\n",
      "Step: Evaluate Baseline, Model: AlreadyExistingResNet20Baseline, Passed: True. Results:\n",
      "\tMulticlassAccuracy-validate: 0.6883000135421753\n",
      "Code of the following steps was changed: Data analysis\n",
      " Rerun could be needed.\n"
     ]
    }
   ],
   "source": [
    "project.run_all()"
   ]
  },
  {
   "cell_type": "code",
   "execution_count": 7,
   "metadata": {},
   "outputs": [
    {
     "name": "stdout",
     "output_type": "stream",
     "text": [
      "4.605170185988091\n"
     ]
    }
   ],
   "source": [
    "from models.ResNet import ResNet18\n",
    "from art.steps import CheckLossOnInit\n",
    "from art.checks import CheckScoreCloseTo\n",
    "from torch.cuda import is_available\n",
    "\n",
    "EXPECTED_LOSS = -math.log(1/NUM_CLASSES)\n",
    "print(EXPECTED_LOSS)"
   ]
  },
  {
   "cell_type": "code",
   "execution_count": 8,
   "metadata": {},
   "outputs": [
    {
     "name": "stdout",
     "output_type": "stream",
     "text": [
      "Summary: \n",
      "Step: Data analysis, Model: , Passed: True. Results:\n",
      "\n",
      "Step: Evaluate Baseline, Model: HeuristicBaseline, Passed: True. Results:\n",
      "\tMulticlassAccuracy-validate: 0.012299999594688416\n",
      "Step: Evaluate Baseline, Model: MlBaseline, Passed: True. Results:\n",
      "\tMulticlassAccuracy-validate: 0.15649999678134918\n",
      "Step: Evaluate Baseline, Model: AlreadyExistingResNet20Baseline, Passed: True. Results:\n",
      "\tMulticlassAccuracy-validate: 0.6883000135421753\n",
      "Step: Check Loss On Init, Model: ResNet18, Passed: True. Results:\n",
      "\tMulticlassAccuracy-validate: 0.015399999916553497\n",
      "\tCrossEntropyLoss-validate: 5.087794780731201\n",
      "Code of the following steps was changed: Data analysis, ResNet18_Check Loss On Init\n",
      " Rerun could be needed.\n"
     ]
    }
   ],
   "source": [
    "project.add_step(\n",
    "        CheckLossOnInit(ResNet18),\n",
    "        [CheckScoreCloseTo(metric=ce_loss,\n",
    "                           value=EXPECTED_LOSS, rel_tol=0.1)]\n",
    "    )\n",
    "\n",
    "project.run_all()"
   ]
  },
  {
   "cell_type": "code",
   "execution_count": 9,
   "metadata": {},
   "outputs": [
    {
     "name": "stdout",
     "output_type": "stream",
     "text": [
      "Summary: \n",
      "Step: Data analysis, Model: , Passed: True. Results:\n",
      "\n",
      "Step: Evaluate Baseline, Model: HeuristicBaseline, Passed: True. Results:\n",
      "\tMulticlassAccuracy-validate: 0.012299999594688416\n",
      "Step: Evaluate Baseline, Model: MlBaseline, Passed: True. Results:\n",
      "\tMulticlassAccuracy-validate: 0.15649999678134918\n",
      "Step: Evaluate Baseline, Model: AlreadyExistingResNet20Baseline, Passed: True. Results:\n",
      "\tMulticlassAccuracy-validate: 0.6883000135421753\n",
      "Step: Check Loss On Init, Model: ResNet18, Passed: True. Results:\n",
      "\tMulticlassAccuracy-validate: 0.015399999916553497\n",
      "\tCrossEntropyLoss-validate: 5.087794780731201\n",
      "Step: Overfit One Batch, Model: ResNet18, Passed: True. Results:\n",
      "\tMulticlassAccuracy-train: 1.0\n",
      "\tCrossEntropyLoss-train: 0.00015361519763246179\n",
      "Code of the following steps was changed: Data analysis, ResNet18_Check Loss On Init, ResNet18_Overfit One Batch\n",
      " Rerun could be needed.\n"
     ]
    }
   ],
   "source": [
    "from art.steps import OverfitOneBatch\n",
    "from art.checks import CheckScoreLessThan\n",
    "project.add_step(OverfitOneBatch(ResNet18, number_of_steps=40),\n",
    "            [CheckScoreLessThan(metric=ce_loss, value=0.05)])\n",
    "project.run_all()"
   ]
  },
  {
   "cell_type": "code",
   "execution_count": null,
   "metadata": {},
   "outputs": [],
   "source": [
    "from art.steps import Overfit\n",
    "from art.checks import CheckScoreGreaterThan\n",
    "\n",
    "project.add_step(Overfit(ResNet18, max_epochs=10),\n",
    "            [CheckScoreGreaterThan(metric=accuracy_metric, value=0.8)])"
   ]
  },
  {
   "cell_type": "code",
   "execution_count": null,
   "metadata": {},
   "outputs": [],
   "source": [
    "project.run_all()"
   ]
  },
  {
   "cell_type": "code",
   "execution_count": 11,
   "metadata": {},
   "outputs": [
    {
     "name": "stderr",
     "output_type": "stream",
     "text": [
      "c:\\Users\\matri\\anaconda3\\envs\\art\\lib\\site-packages\\neptune\\common\\warnings.py:62: NeptuneWarning: The following monitoring options are disabled by default in interactive sessions: 'capture_stdout', 'capture_stderr', 'capture_traceback', and 'capture_hardware_metrics'. To enable them, set each parameter to 'True' when initializing the run. The monitoring will continue until you call run.stop() or the kernel stops. Also note: Your source files can only be tracked if you pass the path(s) to the 'source_code' argument. For help, see the Neptune docs: https://docs.neptune.ai/logging/source_code/\n",
      "  warnings.warn(\n"
     ]
    },
    {
     "name": "stdout",
     "output_type": "stream",
     "text": [
      "https://app.neptune.ai/mmaecki/transfer-learning/e/TRAN-5\n"
     ]
    }
   ],
   "source": [
    "from art.steps import TransferLearning\n",
    "from art.loggers import NeptuneLoggerAdapter\n",
    "\n",
    "logger = NeptuneLoggerAdapter(project=\"mmaecki/transfer-learning\", api_token=\"\")\n",
    "early_stopping = EarlyStopping('CrossEntropyLoss-validate', patience=6)\n",
    "project.add_step(TransferLearning(ResNet18,\n",
    "                                    freezed_trainer_kwargs={\"max_epochs\": 4,\n",
    "                                                            \"check_val_every_n_epoch\": 2,\n",
    "                                                            \"callbacks\": [early_stopping]},\n",
    "                                    unfreezed_trainer_kwargs={\"max_epochs\": 50,\n",
    "                                                            \"check_val_every_n_epoch\": 2,\n",
    "                                                            \"callbacks\": [early_stopping]},\n",
    "                                    keep_unfrozen=1,\n",
    "                                    logger = logger,\n",
    "                                    ),\n",
    "                    [CheckScoreGreaterThan(metric=accuracy_metric, value=0.70)])"
   ]
  },
  {
   "cell_type": "code",
   "execution_count": 12,
   "metadata": {},
   "outputs": [
    {
     "name": "stderr",
     "output_type": "stream",
     "text": [
      "GPU available: False, used: False\n",
      "TPU available: False, using: 0 TPU cores\n",
      "IPU available: False, using: 0 IPUs\n",
      "HPU available: False, using: 0 HPUs\n",
      "Using cache found in C:\\Users\\matri/.cache\\torch\\hub\\facebookresearch_semi-supervised-ImageNet1K-models_master\n",
      "c:\\Users\\matri\\anaconda3\\envs\\art\\lib\\site-packages\\torchvision\\models\\_utils.py:208: UserWarning: The parameter 'pretrained' is deprecated since 0.13 and may be removed in the future, please use 'weights' instead.\n",
      "  warnings.warn(\n",
      "c:\\Users\\matri\\anaconda3\\envs\\art\\lib\\site-packages\\torchvision\\models\\_utils.py:223: UserWarning: Arguments other than a weight enum or `None` for 'weights' are deprecated since 0.13 and may be removed in the future. The current behavior is equivalent to passing `weights=ResNet18_Weights.IMAGENET1K_V1`. You can also use `weights=ResNet18_Weights.DEFAULT` to get the most up-to-date weights.\n",
      "  warnings.warn(msg)\n",
      "\n",
      "  | Name  | Type             | Params\n",
      "-------------------------------------------\n",
      "0 | model | ResNet           | 11.2 M\n",
      "1 | loss  | CrossEntropyLoss | 0     \n",
      "-------------------------------------------\n",
      "100       Trainable params\n",
      "11.2 M    Non-trainable params\n",
      "11.2 M    Total params\n",
      "44.911    Total estimated model params size (MB)\n"
     ]
    },
    {
     "data": {
      "application/vnd.jupyter.widget-view+json": {
       "model_id": "8e251ec73820468f94bb4c83398d3c83",
       "version_major": 2,
       "version_minor": 0
      },
      "text/plain": [
       "Sanity Checking: 0it [00:00, ?it/s]"
      ]
     },
     "metadata": {},
     "output_type": "display_data"
    },
    {
     "name": "stderr",
     "output_type": "stream",
     "text": [
      "c:\\Users\\matri\\anaconda3\\envs\\art\\lib\\site-packages\\lightning\\pytorch\\trainer\\connectors\\data_connector.py:442: PossibleUserWarning: The dataloader, val_dataloader, does not have many workers which may be a bottleneck. Consider increasing the value of the `num_workers` argument` (try 8 which is the number of cpus on this machine) in the `DataLoader` init to improve performance.\n",
      "  rank_zero_warn(\n",
      "c:\\Users\\matri\\anaconda3\\envs\\art\\lib\\site-packages\\torchvision\\transforms\\functional.py:1603: UserWarning: The default value of the antialias parameter of all the resizing transforms (Resize(), RandomResizedCrop(), etc.) will change from None to True in v0.17, in order to be consistent across the PIL and Tensor backends. To suppress this warning, directly pass antialias=True (recommended, future default), antialias=None (current default, which means False for Tensors and True for PIL), or antialias=False (only works on Tensors - PIL will still use antialiasing). This also applies if you are using the inference transforms from the models weights: update the call to weights.transforms(antialias=True).\n",
      "  warnings.warn(\n",
      "c:\\Users\\matri\\anaconda3\\envs\\art\\lib\\site-packages\\lightning\\pytorch\\trainer\\connectors\\data_connector.py:442: PossibleUserWarning: The dataloader, train_dataloader, does not have many workers which may be a bottleneck. Consider increasing the value of the `num_workers` argument` (try 8 which is the number of cpus on this machine) in the `DataLoader` init to improve performance.\n",
      "  rank_zero_warn(\n"
     ]
    },
    {
     "data": {
      "application/vnd.jupyter.widget-view+json": {
       "model_id": "355a47ccd7b64123aeca48cb419480f3",
       "version_major": 2,
       "version_minor": 0
      },
      "text/plain": [
       "Training: 0it [00:00, ?it/s]"
      ]
     },
     "metadata": {},
     "output_type": "display_data"
    },
    {
     "data": {
      "application/vnd.jupyter.widget-view+json": {
       "model_id": "f3699618a688453c8a3fb3c6625424a6",
       "version_major": 2,
       "version_minor": 0
      },
      "text/plain": [
       "Validation: 0it [00:00, ?it/s]"
      ]
     },
     "metadata": {},
     "output_type": "display_data"
    },
    {
     "data": {
      "application/vnd.jupyter.widget-view+json": {
       "model_id": "216b851e36f0424daf4303df10a4d7b2",
       "version_major": 2,
       "version_minor": 0
      },
      "text/plain": [
       "Validation: 0it [00:00, ?it/s]"
      ]
     },
     "metadata": {},
     "output_type": "display_data"
    },
    {
     "data": {
      "application/vnd.jupyter.widget-view+json": {
       "model_id": "9250ceacdf704b8f83b84719781063f9",
       "version_major": 2,
       "version_minor": 0
      },
      "text/plain": [
       "Validation: 0it [00:00, ?it/s]"
      ]
     },
     "metadata": {},
     "output_type": "display_data"
    },
    {
     "data": {
      "application/vnd.jupyter.widget-view+json": {
       "model_id": "2b5ce9bc901d40d4b7c517dc989a358a",
       "version_major": 2,
       "version_minor": 0
      },
      "text/plain": [
       "Validation: 0it [00:00, ?it/s]"
      ]
     },
     "metadata": {},
     "output_type": "display_data"
    },
    {
     "data": {
      "application/vnd.jupyter.widget-view+json": {
       "model_id": "5f88c244f2fe4d93948f4fe25c641562",
       "version_major": 2,
       "version_minor": 0
      },
      "text/plain": [
       "Validation: 0it [00:00, ?it/s]"
      ]
     },
     "metadata": {},
     "output_type": "display_data"
    },
    {
     "data": {
      "application/vnd.jupyter.widget-view+json": {
       "model_id": "9672598ad6d54d0397c02d54b040b65c",
       "version_major": 2,
       "version_minor": 0
      },
      "text/plain": [
       "Validation: 0it [00:00, ?it/s]"
      ]
     },
     "metadata": {},
     "output_type": "display_data"
    },
    {
     "name": "stdout",
     "output_type": "stream",
     "text": [
      "Experiencing connection interruptions. Will try to reestablish communication with Neptune. Internal exception was: RequestsFutureAdapterTimeout\n",
      "Communication with Neptune restored!\n"
     ]
    },
    {
     "data": {
      "application/vnd.jupyter.widget-view+json": {
       "model_id": "7ff72e8e6e854a999c8f7c36ecc1473a",
       "version_major": 2,
       "version_minor": 0
      },
      "text/plain": [
       "Validation: 0it [00:00, ?it/s]"
      ]
     },
     "metadata": {},
     "output_type": "display_data"
    },
    {
     "data": {
      "application/vnd.jupyter.widget-view+json": {
       "model_id": "ec9bac2ba2d94fa69be326fc053b7ada",
       "version_major": 2,
       "version_minor": 0
      },
      "text/plain": [
       "Validation: 0it [00:00, ?it/s]"
      ]
     },
     "metadata": {},
     "output_type": "display_data"
    },
    {
     "data": {
      "application/vnd.jupyter.widget-view+json": {
       "model_id": "8e8186dc69a047109e3cb2ec79823312",
       "version_major": 2,
       "version_minor": 0
      },
      "text/plain": [
       "Validation: 0it [00:00, ?it/s]"
      ]
     },
     "metadata": {},
     "output_type": "display_data"
    },
    {
     "data": {
      "application/vnd.jupyter.widget-view+json": {
       "model_id": "e6e7c248acc04c6182b96ff095616e23",
       "version_major": 2,
       "version_minor": 0
      },
      "text/plain": [
       "Validation: 0it [00:00, ?it/s]"
      ]
     },
     "metadata": {},
     "output_type": "display_data"
    },
    {
     "data": {
      "application/vnd.jupyter.widget-view+json": {
       "model_id": "18881a8514e64557a5c4b612d318a7a1",
       "version_major": 2,
       "version_minor": 0
      },
      "text/plain": [
       "Validation: 0it [00:00, ?it/s]"
      ]
     },
     "metadata": {},
     "output_type": "display_data"
    },
    {
     "name": "stderr",
     "output_type": "stream",
     "text": [
      "c:\\Users\\matri\\anaconda3\\envs\\art\\lib\\site-packages\\lightning\\pytorch\\trainer\\call.py:53: UserWarning: Detected KeyboardInterrupt, attempting graceful shutdown...\n",
      "  rank_zero_warn(\"Detected KeyboardInterrupt, attempting graceful shutdown...\")\n",
      "GPU available: False, used: False\n",
      "TPU available: False, using: 0 TPU cores\n",
      "IPU available: False, using: 0 IPUs\n",
      "HPU available: False, using: 0 HPUs\n",
      "Using cache found in C:\\Users\\matri/.cache\\torch\\hub\\facebookresearch_semi-supervised-ImageNet1K-models_master\n",
      "c:\\Users\\matri\\anaconda3\\envs\\art\\lib\\site-packages\\lightning\\pytorch\\callbacks\\model_checkpoint.py:617: UserWarning: Checkpoint directory c:\\Users\\matri\\Polibuda\\diploma\\ART-Templates\\{{cookiecutter.project_slug}}\\.neptune\\Untitled\\TRAN-5\\checkpoints exists and is not empty.\n",
      "  rank_zero_warn(f\"Checkpoint directory {dirpath} exists and is not empty.\")\n",
      "\n",
      "  | Name  | Type             | Params\n",
      "-------------------------------------------\n",
      "0 | model | ResNet           | 11.2 M\n",
      "1 | loss  | CrossEntropyLoss | 0     \n",
      "-------------------------------------------\n",
      "11.2 M    Trainable params\n",
      "0         Non-trainable params\n",
      "11.2 M    Total params\n",
      "44.911    Total estimated model params size (MB)\n"
     ]
    },
    {
     "data": {
      "application/vnd.jupyter.widget-view+json": {
       "model_id": "0e51f689e33a44809e224ba265ea4323",
       "version_major": 2,
       "version_minor": 0
      },
      "text/plain": [
       "Sanity Checking: 0it [00:00, ?it/s]"
      ]
     },
     "metadata": {},
     "output_type": "display_data"
    },
    {
     "data": {
      "application/vnd.jupyter.widget-view+json": {
       "model_id": "5426b450053746578fa344a35f6cd4db",
       "version_major": 2,
       "version_minor": 0
      },
      "text/plain": [
       "Training: 0it [00:00, ?it/s]"
      ]
     },
     "metadata": {},
     "output_type": "display_data"
    }
   ],
   "source": [
    "project.run_all()"
   ]
  },
  {
   "cell_type": "code",
   "execution_count": null,
   "metadata": {},
   "outputs": [],
   "source": []
  }
 ],
 "metadata": {
  "kernelspec": {
   "display_name": "art",
   "language": "python",
   "name": "python3"
  },
  "language_info": {
   "codemirror_mode": {
    "name": "ipython",
    "version": 3
   },
   "file_extension": ".py",
   "mimetype": "text/x-python",
   "name": "python",
   "nbconvert_exporter": "python",
   "pygments_lexer": "ipython3",
   "version": "3.10.13"
  }
 },
 "nbformat": 4,
 "nbformat_minor": 2
}
