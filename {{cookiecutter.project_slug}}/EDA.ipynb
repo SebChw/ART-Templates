{
 "cells": [
  {
   "cell_type": "code",
   "execution_count": 1,
   "metadata": {},
   "outputs": [],
   "source": [
    "from dataset import CifarDataModule\n",
    "\n",
    "from art.project import ArtProject\n",
    "from art.checks import CheckResultExists, CheckScoreExists, CheckScoreLessThan, CheckScoreGreaterThan\n",
    "from art.steps import EvaluateBaseline, OverfitOneBatch, Overfit#, TransferLearning\n",
    "from torchmetrics import Accuracy, Precision, Recall\n",
    "import torch.nn as nn\n",
    "from lightning.pytorch.callbacks import EarlyStopping\n",
    "\n",
    "from dataset import CifarDataModule\n",
    "from checks import CheckClassImagesExist, CheckLenClassNamesEqualToNumClasses\n",
    "from steps import DataAnalysis"
   ]
  },
  {
   "cell_type": "code",
   "execution_count": 2,
   "metadata": {},
   "outputs": [
    {
     "name": "stderr",
     "output_type": "stream",
     "text": [
      "Global seed set to 23\n"
     ]
    },
    {
     "data": {
      "text/plain": [
       "23"
      ]
     },
     "execution_count": 2,
     "metadata": {},
     "output_type": "execute_result"
    }
   ],
   "source": [
    "%load_ext autoreload\n",
    "%autoreload 2\n",
    "from lightning import seed_everything\n",
    "seed_everything(23)"
   ]
  },
  {
   "cell_type": "markdown",
   "metadata": {},
   "source": [
    "# Proper data analysis"
   ]
  },
  {
   "cell_type": "code",
   "execution_count": 3,
   "metadata": {},
   "outputs": [
    {
     "name": "stdout",
     "output_type": "stream",
     "text": [
      "Summary: \n",
      "Step: Data analysis, Model: , Passed: False. Results:\n",
      "\n"
     ]
    }
   ],
   "source": [
    "project = ArtProject(\"Cifar100\", CifarDataModule(batch_size=32))\n",
    "project.add_step(DataAnalysis(), [\n",
    "    CheckResultExists(\"number_of_classes\"),\n",
    "    CheckResultExists(\"class_names\"),\n",
    "    CheckResultExists(\"number_of_examples_in_each_class\"),\n",
    "    CheckResultExists(\"img_dimensions\"),\n",
    "    CheckClassImagesExist(),\n",
    "    CheckLenClassNamesEqualToNumClasses()])\n",
    "project.run_all()\n"
   ]
  },
  {
   "cell_type": "code",
   "execution_count": 4,
   "metadata": {},
   "outputs": [],
   "source": [
    "from torchmetrics import Accuracy\n",
    "import torch.nn as nn\n",
    "from art.steps import EvaluateBaseline\n",
    "\n",
    "NUM_CLASSES = project.get_step(0).get_latest_run()[\"number_of_classes\"]\n",
    "accuracy_metric, ce_loss = Accuracy(task=\"multiclass\", num_classes = NUM_CLASSES), nn.CrossEntropyLoss()\n",
    "project.register_metrics([accuracy_metric, ce_loss])"
   ]
  },
  {
   "cell_type": "code",
   "execution_count": 5,
   "metadata": {},
   "outputs": [],
   "source": [
    "from art.metrics import SkippedMetric\n",
    "from models.baselines import MlBaseline, HeuristicBaseline, AlreadyExistingSolutionBaseline\n",
    "from art.checks import CheckScoreExists\n",
    "# baselines = [HeuristicBaseline, MlBaseline, AlreadyExistingSolutionBaseline]\n",
    "# for baseline in baselines:\n",
    "#     project.add_step(\n",
    "#         step = EvaluateBaseline(baseline), \n",
    "#         checks = [CheckScoreExists(metric=accuracy_metric)],\n",
    "#         skipped_metrics=[SkippedMetric(metric=ce_loss)]\n",
    "#     )\n",
    "project.add_step(\n",
    "    step = EvaluateBaseline(MlBaseline), \n",
    "    checks = [CheckScoreExists(metric=accuracy_metric)],\n",
    "    skipped_metrics=[SkippedMetric(metric=ce_loss)]\n",
    ")\n"
   ]
  },
  {
   "cell_type": "code",
   "execution_count": 6,
   "metadata": {},
   "outputs": [
    {
     "name": "stdout",
     "output_type": "stream",
     "text": [
      "Summary: \n",
      "Step: Data analysis, Model: , Passed: False. Results:\n",
      "\n"
     ]
    }
   ],
   "source": [
    "project.run_all()"
   ]
  },
  {
   "cell_type": "code",
   "execution_count": null,
   "metadata": {},
   "outputs": [],
   "source": []
  }
 ],
 "metadata": {
  "kernelspec": {
   "display_name": "art",
   "language": "python",
   "name": "python3"
  },
  "language_info": {
   "codemirror_mode": {
    "name": "ipython",
    "version": 3
   },
   "file_extension": ".py",
   "mimetype": "text/x-python",
   "name": "python",
   "nbconvert_exporter": "python",
   "pygments_lexer": "ipython3",
   "version": "3.10.13"
  }
 },
 "nbformat": 4,
 "nbformat_minor": 2
}
