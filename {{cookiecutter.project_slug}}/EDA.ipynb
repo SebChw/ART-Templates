{
 "cells": [
  {
   "cell_type": "code",
   "execution_count": 1,
   "metadata": {},
   "outputs": [],
   "source": [
    "from MyDataset import CifarDataModule\n",
    "\n",
    "from art.project import ArtProject\n",
    "from art.checks import CheckResultExists, CheckScoreExists, CheckScoreLessThan, CheckScoreGreaterThan\n",
    "from art.steps import EvaluateBaseline, OverfitOneBatch, Overfit#, TransferLearning\n",
    "from torchmetrics import Accuracy, Precision, Recall\n",
    "import torch.nn as nn\n",
    "from lightning.pytorch.callbacks import EarlyStopping\n",
    "\n",
    "from MyDataset import CifarDataModule\n",
    "from checks import CheckClassImagesExist, CheckLenClassNamesEqualToNumClasses\n",
    "from steps import DataAnalysis\n",
    "import math"
   ]
  },
  {
   "cell_type": "code",
   "execution_count": 2,
   "metadata": {},
   "outputs": [
    {
     "name": "stderr",
     "output_type": "stream",
     "text": [
      "Global seed set to 23\n"
     ]
    },
    {
     "data": {
      "text/plain": [
       "23"
      ]
     },
     "execution_count": 2,
     "metadata": {},
     "output_type": "execute_result"
    }
   ],
   "source": [
    "%load_ext autoreload\n",
    "%autoreload 2\n",
    "from lightning import seed_everything\n",
    "seed_everything(23)"
   ]
  },
  {
   "cell_type": "markdown",
   "metadata": {},
   "source": [
    "# Proper data analysis"
   ]
  },
  {
   "cell_type": "code",
   "execution_count": 3,
   "metadata": {},
   "outputs": [
    {
     "name": "stdout",
     "output_type": "stream",
     "text": [
      "Summary: \n",
      "Step: Data analysis, Model: , Passed: True. Results:\n",
      "\n"
     ]
    }
   ],
   "source": [
    "project = ArtProject(\"Cifar100\", CifarDataModule(batch_size=32))\n",
    "project.add_step(DataAnalysis(), [\n",
    "    CheckResultExists(\"number_of_classes\"),\n",
    "    CheckResultExists(\"class_names\"),\n",
    "    CheckResultExists(\"number_of_examples_in_each_class\"),\n",
    "    CheckResultExists(\"img_dimensions\"),\n",
    "    CheckClassImagesExist(),\n",
    "    CheckLenClassNamesEqualToNumClasses()])\n",
    "project.run_all()\n"
   ]
  },
  {
   "cell_type": "code",
   "execution_count": 4,
   "metadata": {},
   "outputs": [],
   "source": [
    "from torchmetrics import Accuracy\n",
    "import torch.nn as nn\n",
    "from art.steps import EvaluateBaseline\n",
    "\n",
    "NUM_CLASSES = project.get_step(0).get_latest_run()[\"number_of_classes\"]\n",
    "accuracy_metric, ce_loss = Accuracy(task=\"multiclass\", num_classes = NUM_CLASSES), nn.CrossEntropyLoss()\n",
    "project.register_metrics([accuracy_metric, ce_loss])"
   ]
  },
  {
   "cell_type": "code",
   "execution_count": 5,
   "metadata": {},
   "outputs": [],
   "source": [
    "from art.metrics import SkippedMetric\n",
    "from models.baselines import MlBaseline, HeuristicBaseline, AlreadyExistingResNet20Baseline\n",
    "from art.checks import CheckScoreExists\n",
    "baselines = [HeuristicBaseline, MlBaseline, AlreadyExistingResNet20Baseline]\n",
    "for baseline in baselines:\n",
    "    project.add_step(\n",
    "        step = EvaluateBaseline(baseline), \n",
    "        checks = [CheckScoreExists(metric=accuracy_metric)],\n",
    "        skipped_metrics=[SkippedMetric(metric=ce_loss)]\n",
    "    )\n"
   ]
  },
  {
   "cell_type": "code",
   "execution_count": 6,
   "metadata": {},
   "outputs": [
    {
     "name": "stdout",
     "output_type": "stream",
     "text": [
      "Summary: \n",
      "Step: Data analysis, Model: , Passed: True. Results:\n",
      "\n",
      "Step: Evaluate Baseline, Model: HeuristicBaseline, Passed: True. Results:\n",
      "\tMulticlassAccuracy-validate: 0.012299999594688416\n",
      "Step: Evaluate Baseline, Model: MlBaseline, Passed: True. Results:\n",
      "\tMulticlassAccuracy-validate: 0.15649999678134918\n",
      "Step: Evaluate Baseline, Model: AlreadyExistingResNet20Baseline, Passed: True. Results:\n",
      "\tMulticlassAccuracy-validate: 0.6883000135421753\n"
     ]
    }
   ],
   "source": [
    "project.run_all()"
   ]
  },
  {
   "cell_type": "code",
   "execution_count": 7,
   "metadata": {},
   "outputs": [
    {
     "name": "stdout",
     "output_type": "stream",
     "text": [
      "4.605170185988091\n"
     ]
    }
   ],
   "source": [
    "from models.ResNet import ResNet18\n",
    "from art.steps import CheckLossOnInit\n",
    "from art.checks import CheckScoreCloseTo\n",
    "from torch.cuda import is_available\n",
    "\n",
    "EXPECTED_LOSS = -math.log(1/NUM_CLASSES)\n",
    "print(EXPECTED_LOSS)"
   ]
  },
  {
   "cell_type": "code",
   "execution_count": 8,
   "metadata": {},
   "outputs": [
    {
     "name": "stdout",
     "output_type": "stream",
     "text": [
      "Summary: \n",
      "Step: Data analysis, Model: , Passed: True. Results:\n",
      "\n",
      "Step: Evaluate Baseline, Model: HeuristicBaseline, Passed: True. Results:\n",
      "\tMulticlassAccuracy-validate: 0.012299999594688416\n",
      "Step: Evaluate Baseline, Model: MlBaseline, Passed: True. Results:\n",
      "\tMulticlassAccuracy-validate: 0.15649999678134918\n",
      "Step: Evaluate Baseline, Model: AlreadyExistingResNet20Baseline, Passed: True. Results:\n",
      "\tMulticlassAccuracy-validate: 0.6883000135421753\n",
      "Step: Check Loss On Init, Model: ResNet18, Passed: True. Results:\n",
      "\tMulticlassAccuracy-validate: 0.015399999916553497\n",
      "\tCrossEntropyLoss-validate: 5.087794780731201\n",
      "Code of the following steps was changed: ResNet18_Check Loss On Init\n",
      " Rerun could be needed.\n"
     ]
    }
   ],
   "source": [
    "project.add_step(\n",
    "        CheckLossOnInit(ResNet18),\n",
    "        [CheckScoreCloseTo(metric=ce_loss,\n",
    "                           value=EXPECTED_LOSS, rel_tol=0.1)]\n",
    "    )\n",
    "\n",
    "project.run_all()"
   ]
  },
  {
   "cell_type": "code",
   "execution_count": 9,
   "metadata": {},
   "outputs": [
    {
     "name": "stdout",
     "output_type": "stream",
     "text": [
      "Summary: \n",
      "Step: Data analysis, Model: , Passed: True. Results:\n",
      "\n",
      "Step: Evaluate Baseline, Model: HeuristicBaseline, Passed: True. Results:\n",
      "\tMulticlassAccuracy-validate: 0.012299999594688416\n",
      "Step: Evaluate Baseline, Model: MlBaseline, Passed: True. Results:\n",
      "\tMulticlassAccuracy-validate: 0.15649999678134918\n",
      "Step: Evaluate Baseline, Model: AlreadyExistingResNet20Baseline, Passed: True. Results:\n",
      "\tMulticlassAccuracy-validate: 0.6883000135421753\n",
      "Step: Check Loss On Init, Model: ResNet18, Passed: True. Results:\n",
      "\tMulticlassAccuracy-validate: 0.015399999916553497\n",
      "\tCrossEntropyLoss-validate: 5.087794780731201\n",
      "Step: Overfit One Batch, Model: ResNet18, Passed: True. Results:\n",
      "\tMulticlassAccuracy-train: 1.0\n",
      "\tCrossEntropyLoss-train: 0.00015361519763246179\n",
      "Code of the following steps was changed: ResNet18_Check Loss On Init\n",
      " Rerun could be needed.\n"
     ]
    }
   ],
   "source": [
    "from art.steps import OverfitOneBatch\n",
    "from art.checks import CheckScoreLessThan\n",
    "project.add_step(OverfitOneBatch(ResNet18, number_of_steps=40),\n",
    "            [CheckScoreLessThan(metric=ce_loss, value=0.05)])\n",
    "project.run_all()"
   ]
  },
  {
   "cell_type": "code",
   "execution_count": 10,
   "metadata": {},
   "outputs": [],
   "source": [
    "from art.steps import Overfit\n",
    "from art.checks import CheckScoreGreaterThan\n",
    "\n",
    "project.add_step(Overfit(ResNet18, max_epochs=10),\n",
    "            [CheckScoreGreaterThan(metric=accuracy_metric, value=0.8)])"
   ]
  },
  {
   "cell_type": "code",
   "execution_count": 11,
   "metadata": {},
   "outputs": [
    {
     "name": "stderr",
     "output_type": "stream",
     "text": [
      "GPU available: False, used: False\n",
      "TPU available: False, using: 0 TPU cores\n",
      "IPU available: False, using: 0 IPUs\n",
      "HPU available: False, using: 0 HPUs\n"
     ]
    },
    {
     "name": "stdout",
     "output_type": "stream",
     "text": [
      "Overfitting model\n"
     ]
    },
    {
     "name": "stderr",
     "output_type": "stream",
     "text": [
      "c:\\Users\\matri\\anaconda3\\envs\\art\\lib\\site-packages\\lightning\\pytorch\\trainer\\connectors\\logger_connector\\logger_connector.py:67: UserWarning: Starting from v1.9.0, `tensorboardX` has been removed as a dependency of the `lightning.pytorch` package, due to potential conflicts with other packages in the ML ecosystem. For this reason, `logger=True` will use `CSVLogger` as the default logger, unless the `tensorboard` or `tensorboardX` packages are found. Please `pip install lightning[extra]` or one of them to enable TensorBoard support by default\n",
      "  warning_cache.warn(\n",
      "Using cache found in C:\\Users\\matri/.cache\\torch\\hub\\facebookresearch_semi-supervised-ImageNet1K-models_master\n",
      "c:\\Users\\matri\\anaconda3\\envs\\art\\lib\\site-packages\\torchvision\\models\\_utils.py:208: UserWarning: The parameter 'pretrained' is deprecated since 0.13 and may be removed in the future, please use 'weights' instead.\n",
      "  warnings.warn(\n",
      "c:\\Users\\matri\\anaconda3\\envs\\art\\lib\\site-packages\\torchvision\\models\\_utils.py:223: UserWarning: Arguments other than a weight enum or `None` for 'weights' are deprecated since 0.13 and may be removed in the future. The current behavior is equivalent to passing `weights=ResNet18_Weights.IMAGENET1K_V1`. You can also use `weights=ResNet18_Weights.DEFAULT` to get the most up-to-date weights.\n",
      "  warnings.warn(msg)\n",
      "c:\\Users\\matri\\anaconda3\\envs\\art\\lib\\site-packages\\lightning\\pytorch\\trainer\\configuration_validator.py:71: PossibleUserWarning: You defined a `validation_step` but have no `val_dataloader`. Skipping val loop.\n",
      "  rank_zero_warn(\n",
      "\n",
      "  | Name  | Type             | Params\n",
      "-------------------------------------------\n",
      "0 | model | ResNet           | 11.2 M\n",
      "1 | loss  | CrossEntropyLoss | 0     \n",
      "-------------------------------------------\n",
      "11.2 M    Trainable params\n",
      "0         Non-trainable params\n",
      "11.2 M    Total params\n",
      "44.911    Total estimated model params size (MB)\n",
      "c:\\Users\\matri\\anaconda3\\envs\\art\\lib\\site-packages\\lightning\\pytorch\\trainer\\connectors\\data_connector.py:442: PossibleUserWarning: The dataloader, train_dataloader, does not have many workers which may be a bottleneck. Consider increasing the value of the `num_workers` argument` (try 8 which is the number of cpus on this machine) in the `DataLoader` init to improve performance.\n",
      "  rank_zero_warn(\n"
     ]
    },
    {
     "data": {
      "application/vnd.jupyter.widget-view+json": {
       "model_id": "3e48f6451a2a4a5abcd9dc1a336620d0",
       "version_major": 2,
       "version_minor": 0
      },
      "text/plain": [
       "Training: 0it [00:00, ?it/s]"
      ]
     },
     "metadata": {},
     "output_type": "display_data"
    },
    {
     "name": "stderr",
     "output_type": "stream",
     "text": [
      "c:\\Users\\matri\\anaconda3\\envs\\art\\lib\\site-packages\\torchvision\\transforms\\functional.py:1603: UserWarning: The default value of the antialias parameter of all the resizing transforms (Resize(), RandomResizedCrop(), etc.) will change from None to True in v0.17, in order to be consistent across the PIL and Tensor backends. To suppress this warning, directly pass antialias=True (recommended, future default), antialias=None (current default, which means False for Tensors and True for PIL), or antialias=False (only works on Tensors - PIL will still use antialiasing). This also applies if you are using the inference transforms from the models weights: update the call to weights.transforms(antialias=True).\n",
      "  warnings.warn(\n"
     ]
    },
    {
     "name": "stdout",
     "output_type": "stream",
     "text": [
      "Validating overfitted model\n",
      "Validating model ResNet18\n",
      "Error while executing step Overfit!\n",
      "\u001b[33m\u001b[1mTraceback (most recent call last):\u001b[0m\n",
      "\n",
      "  File \"\u001b[32mc:\\Users\\matri\\anaconda3\\envs\\art\\lib\\\u001b[0m\u001b[32m\u001b[1mrunpy.py\u001b[0m\", line \u001b[33m196\u001b[0m, in \u001b[35m_run_module_as_main\u001b[0m\n",
      "    \u001b[35m\u001b[1mreturn\u001b[0m \u001b[1m_run_code\u001b[0m\u001b[1m(\u001b[0m\u001b[1mcode\u001b[0m\u001b[1m,\u001b[0m \u001b[1mmain_globals\u001b[0m\u001b[1m,\u001b[0m \u001b[36m\u001b[1mNone\u001b[0m\u001b[1m,\u001b[0m\n",
      "    \u001b[36m       │         │     └ \u001b[0m\u001b[36m\u001b[1m{'__name__': '__main__', '__doc__': 'Entry point for launching an IPython kernel.\\n\\nThis is separate from the ipykernel pack...\u001b[0m\n",
      "    \u001b[36m       │         └ \u001b[0m\u001b[36m\u001b[1m<code object <module> at 0x000001DF8D1F3050, file \"c:\\Users\\matri\\anaconda3\\envs\\art\\lib\\site-packages\\ipykernel_launcher.py\"...\u001b[0m\n",
      "    \u001b[36m       └ \u001b[0m\u001b[36m\u001b[1m<function _run_code at 0x000001DF8D1FB400>\u001b[0m\n",
      "\n",
      "  File \"\u001b[32mc:\\Users\\matri\\anaconda3\\envs\\art\\lib\\\u001b[0m\u001b[32m\u001b[1mrunpy.py\u001b[0m\", line \u001b[33m86\u001b[0m, in \u001b[35m_run_code\u001b[0m\n",
      "    \u001b[1mexec\u001b[0m\u001b[1m(\u001b[0m\u001b[1mcode\u001b[0m\u001b[1m,\u001b[0m \u001b[1mrun_globals\u001b[0m\u001b[1m)\u001b[0m\n",
      "    \u001b[36m     │     └ \u001b[0m\u001b[36m\u001b[1m{'__name__': '__main__', '__doc__': 'Entry point for launching an IPython kernel.\\n\\nThis is separate from the ipykernel pack...\u001b[0m\n",
      "    \u001b[36m     └ \u001b[0m\u001b[36m\u001b[1m<code object <module> at 0x000001DF8D1F3050, file \"c:\\Users\\matri\\anaconda3\\envs\\art\\lib\\site-packages\\ipykernel_launcher.py\"...\u001b[0m\n",
      "\n",
      "  File \"\u001b[32mc:\\Users\\matri\\anaconda3\\envs\\art\\lib\\site-packages\\\u001b[0m\u001b[32m\u001b[1mipykernel_launcher.py\u001b[0m\", line \u001b[33m17\u001b[0m, in \u001b[35m<module>\u001b[0m\n",
      "    \u001b[1mapp\u001b[0m\u001b[35m\u001b[1m.\u001b[0m\u001b[1mlaunch_new_instance\u001b[0m\u001b[1m(\u001b[0m\u001b[1m)\u001b[0m\n",
      "    \u001b[36m│   └ \u001b[0m\u001b[36m\u001b[1m<bound method Application.launch_instance of <class 'ipykernel.kernelapp.IPKernelApp'>>\u001b[0m\n",
      "    \u001b[36m└ \u001b[0m\u001b[36m\u001b[1m<module 'ipykernel.kernelapp' from 'c:\\\\Users\\\\matri\\\\anaconda3\\\\envs\\\\art\\\\lib\\\\site-packages\\\\ipykernel\\\\kernelapp.py'>\u001b[0m\n",
      "\n",
      "  File \"\u001b[32mc:\\Users\\matri\\anaconda3\\envs\\art\\lib\\site-packages\\traitlets\\config\\\u001b[0m\u001b[32m\u001b[1mapplication.py\u001b[0m\", line \u001b[33m1053\u001b[0m, in \u001b[35mlaunch_instance\u001b[0m\n",
      "    \u001b[1mapp\u001b[0m\u001b[35m\u001b[1m.\u001b[0m\u001b[1mstart\u001b[0m\u001b[1m(\u001b[0m\u001b[1m)\u001b[0m\n",
      "    \u001b[36m│   └ \u001b[0m\u001b[36m\u001b[1m<function IPKernelApp.start at 0x000001DF91B025F0>\u001b[0m\n",
      "    \u001b[36m└ \u001b[0m\u001b[36m\u001b[1m<ipykernel.kernelapp.IPKernelApp object at 0x000001DF8D198700>\u001b[0m\n",
      "\n",
      "  File \"\u001b[32mc:\\Users\\matri\\anaconda3\\envs\\art\\lib\\site-packages\\ipykernel\\\u001b[0m\u001b[32m\u001b[1mkernelapp.py\u001b[0m\", line \u001b[33m737\u001b[0m, in \u001b[35mstart\u001b[0m\n",
      "    \u001b[1mself\u001b[0m\u001b[35m\u001b[1m.\u001b[0m\u001b[1mio_loop\u001b[0m\u001b[35m\u001b[1m.\u001b[0m\u001b[1mstart\u001b[0m\u001b[1m(\u001b[0m\u001b[1m)\u001b[0m\n",
      "    \u001b[36m│    │       └ \u001b[0m\u001b[36m\u001b[1m<function BaseAsyncIOLoop.start at 0x000001DF91B03130>\u001b[0m\n",
      "    \u001b[36m│    └ \u001b[0m\u001b[36m\u001b[1m<tornado.platform.asyncio.AsyncIOMainLoop object at 0x000001DF91AF6530>\u001b[0m\n",
      "    \u001b[36m└ \u001b[0m\u001b[36m\u001b[1m<ipykernel.kernelapp.IPKernelApp object at 0x000001DF8D198700>\u001b[0m\n",
      "\n",
      "  File \"\u001b[32mc:\\Users\\matri\\anaconda3\\envs\\art\\lib\\site-packages\\tornado\\platform\\\u001b[0m\u001b[32m\u001b[1masyncio.py\u001b[0m\", line \u001b[33m215\u001b[0m, in \u001b[35mstart\u001b[0m\n",
      "    \u001b[1mself\u001b[0m\u001b[35m\u001b[1m.\u001b[0m\u001b[1masyncio_loop\u001b[0m\u001b[35m\u001b[1m.\u001b[0m\u001b[1mrun_forever\u001b[0m\u001b[1m(\u001b[0m\u001b[1m)\u001b[0m\n",
      "    \u001b[36m│    │            └ \u001b[0m\u001b[36m\u001b[1m<function BaseEventLoop.run_forever at 0x000001DF8F4AB520>\u001b[0m\n",
      "    \u001b[36m│    └ \u001b[0m\u001b[36m\u001b[1m<_WindowsSelectorEventLoop running=True closed=False debug=False>\u001b[0m\n",
      "    \u001b[36m└ \u001b[0m\u001b[36m\u001b[1m<tornado.platform.asyncio.AsyncIOMainLoop object at 0x000001DF91AF6530>\u001b[0m\n",
      "\n",
      "  File \"\u001b[32mc:\\Users\\matri\\anaconda3\\envs\\art\\lib\\asyncio\\\u001b[0m\u001b[32m\u001b[1mbase_events.py\u001b[0m\", line \u001b[33m603\u001b[0m, in \u001b[35mrun_forever\u001b[0m\n",
      "    \u001b[1mself\u001b[0m\u001b[35m\u001b[1m.\u001b[0m\u001b[1m_run_once\u001b[0m\u001b[1m(\u001b[0m\u001b[1m)\u001b[0m\n",
      "    \u001b[36m│    └ \u001b[0m\u001b[36m\u001b[1m<function BaseEventLoop._run_once at 0x000001DF8F4AD090>\u001b[0m\n",
      "    \u001b[36m└ \u001b[0m\u001b[36m\u001b[1m<_WindowsSelectorEventLoop running=True closed=False debug=False>\u001b[0m\n",
      "\n",
      "  File \"\u001b[32mc:\\Users\\matri\\anaconda3\\envs\\art\\lib\\asyncio\\\u001b[0m\u001b[32m\u001b[1mbase_events.py\u001b[0m\", line \u001b[33m1909\u001b[0m, in \u001b[35m_run_once\u001b[0m\n",
      "    \u001b[1mhandle\u001b[0m\u001b[35m\u001b[1m.\u001b[0m\u001b[1m_run\u001b[0m\u001b[1m(\u001b[0m\u001b[1m)\u001b[0m\n",
      "    \u001b[36m│      └ \u001b[0m\u001b[36m\u001b[1m<function Handle._run at 0x000001DF8F458550>\u001b[0m\n",
      "    \u001b[36m└ \u001b[0m\u001b[36m\u001b[1m<Handle Task.task_wakeup(<Future finis...380>, ...],))>)>\u001b[0m\n",
      "\n",
      "  File \"\u001b[32mc:\\Users\\matri\\anaconda3\\envs\\art\\lib\\asyncio\\\u001b[0m\u001b[32m\u001b[1mevents.py\u001b[0m\", line \u001b[33m80\u001b[0m, in \u001b[35m_run\u001b[0m\n",
      "    \u001b[1mself\u001b[0m\u001b[35m\u001b[1m.\u001b[0m\u001b[1m_context\u001b[0m\u001b[35m\u001b[1m.\u001b[0m\u001b[1mrun\u001b[0m\u001b[1m(\u001b[0m\u001b[1mself\u001b[0m\u001b[35m\u001b[1m.\u001b[0m\u001b[1m_callback\u001b[0m\u001b[1m,\u001b[0m \u001b[35m\u001b[1m*\u001b[0m\u001b[1mself\u001b[0m\u001b[35m\u001b[1m.\u001b[0m\u001b[1m_args\u001b[0m\u001b[1m)\u001b[0m\n",
      "    \u001b[36m│    │            │    │           │    └ \u001b[0m\u001b[36m\u001b[1m<member '_args' of 'Handle' objects>\u001b[0m\n",
      "    \u001b[36m│    │            │    │           └ \u001b[0m\u001b[36m\u001b[1m<Handle Task.task_wakeup(<Future finis...380>, ...],))>)>\u001b[0m\n",
      "    \u001b[36m│    │            │    └ \u001b[0m\u001b[36m\u001b[1m<member '_callback' of 'Handle' objects>\u001b[0m\n",
      "    \u001b[36m│    │            └ \u001b[0m\u001b[36m\u001b[1m<Handle Task.task_wakeup(<Future finis...380>, ...],))>)>\u001b[0m\n",
      "    \u001b[36m│    └ \u001b[0m\u001b[36m\u001b[1m<member '_context' of 'Handle' objects>\u001b[0m\n",
      "    \u001b[36m└ \u001b[0m\u001b[36m\u001b[1m<Handle Task.task_wakeup(<Future finis...380>, ...],))>)>\u001b[0m\n",
      "\n",
      "  File \"\u001b[32mc:\\Users\\matri\\anaconda3\\envs\\art\\lib\\site-packages\\ipykernel\\\u001b[0m\u001b[32m\u001b[1mkernelbase.py\u001b[0m\", line \u001b[33m524\u001b[0m, in \u001b[35mdispatch_queue\u001b[0m\n",
      "    \u001b[35m\u001b[1mawait\u001b[0m \u001b[1mself\u001b[0m\u001b[35m\u001b[1m.\u001b[0m\u001b[1mprocess_one\u001b[0m\u001b[1m(\u001b[0m\u001b[1m)\u001b[0m\n",
      "    \u001b[36m      │    └ \u001b[0m\u001b[36m\u001b[1m<function Kernel.process_one at 0x000001DF91512950>\u001b[0m\n",
      "    \u001b[36m      └ \u001b[0m\u001b[36m\u001b[1m<ipykernel.ipkernel.IPythonKernel object at 0x000001DF91B49420>\u001b[0m\n",
      "\n",
      "  File \"\u001b[32mc:\\Users\\matri\\anaconda3\\envs\\art\\lib\\site-packages\\ipykernel\\\u001b[0m\u001b[32m\u001b[1mkernelbase.py\u001b[0m\", line \u001b[33m513\u001b[0m, in \u001b[35mprocess_one\u001b[0m\n",
      "    \u001b[35m\u001b[1mawait\u001b[0m \u001b[1mdispatch\u001b[0m\u001b[1m(\u001b[0m\u001b[35m\u001b[1m*\u001b[0m\u001b[1margs\u001b[0m\u001b[1m)\u001b[0m\n",
      "    \u001b[36m      │         └ \u001b[0m\u001b[36m\u001b[1m([<zmq.sugar.frame.Frame object at 0x000001DFA8F6BAB0>, <zmq.sugar.frame.Frame object at 0x000001DFCA907740>, <zmq.sugar.fram...\u001b[0m\n",
      "    \u001b[36m      └ \u001b[0m\u001b[36m\u001b[1m<bound method Kernel.dispatch_shell of <ipykernel.ipkernel.IPythonKernel object at 0x000001DF91B49420>>\u001b[0m\n",
      "\n",
      "  File \"\u001b[32mc:\\Users\\matri\\anaconda3\\envs\\art\\lib\\site-packages\\ipykernel\\\u001b[0m\u001b[32m\u001b[1mkernelbase.py\u001b[0m\", line \u001b[33m418\u001b[0m, in \u001b[35mdispatch_shell\u001b[0m\n",
      "    \u001b[35m\u001b[1mawait\u001b[0m \u001b[1mresult\u001b[0m\n",
      "    \u001b[36m      └ \u001b[0m\u001b[36m\u001b[1m<coroutine object Kernel.execute_request at 0x000001DFCA902570>\u001b[0m\n",
      "\n",
      "  File \"\u001b[32mc:\\Users\\matri\\anaconda3\\envs\\art\\lib\\site-packages\\ipykernel\\\u001b[0m\u001b[32m\u001b[1mkernelbase.py\u001b[0m\", line \u001b[33m758\u001b[0m, in \u001b[35mexecute_request\u001b[0m\n",
      "    \u001b[1mreply_content\u001b[0m \u001b[35m\u001b[1m=\u001b[0m \u001b[35m\u001b[1mawait\u001b[0m \u001b[1mreply_content\u001b[0m\n",
      "    \u001b[36m                      └ \u001b[0m\u001b[36m\u001b[1m<coroutine object IPythonKernel.do_execute at 0x000001DFCA900EB0>\u001b[0m\n",
      "\n",
      "  File \"\u001b[32mc:\\Users\\matri\\anaconda3\\envs\\art\\lib\\site-packages\\ipykernel\\\u001b[0m\u001b[32m\u001b[1mipkernel.py\u001b[0m\", line \u001b[33m426\u001b[0m, in \u001b[35mdo_execute\u001b[0m\n",
      "    \u001b[1mres\u001b[0m \u001b[35m\u001b[1m=\u001b[0m \u001b[1mshell\u001b[0m\u001b[35m\u001b[1m.\u001b[0m\u001b[1mrun_cell\u001b[0m\u001b[1m(\u001b[0m\n",
      "    \u001b[36m      │     └ \u001b[0m\u001b[36m\u001b[1m<function ZMQInteractiveShell.run_cell at 0x000001DF91AEBEB0>\u001b[0m\n",
      "    \u001b[36m      └ \u001b[0m\u001b[36m\u001b[1m<ipykernel.zmqshell.ZMQInteractiveShell object at 0x000001DF91B49900>\u001b[0m\n",
      "\n",
      "  File \"\u001b[32mc:\\Users\\matri\\anaconda3\\envs\\art\\lib\\site-packages\\ipykernel\\\u001b[0m\u001b[32m\u001b[1mzmqshell.py\u001b[0m\", line \u001b[33m549\u001b[0m, in \u001b[35mrun_cell\u001b[0m\n",
      "    \u001b[35m\u001b[1mreturn\u001b[0m \u001b[1msuper\u001b[0m\u001b[1m(\u001b[0m\u001b[1m)\u001b[0m\u001b[35m\u001b[1m.\u001b[0m\u001b[1mrun_cell\u001b[0m\u001b[1m(\u001b[0m\u001b[35m\u001b[1m*\u001b[0m\u001b[1margs\u001b[0m\u001b[1m,\u001b[0m \u001b[35m\u001b[1m**\u001b[0m\u001b[1mkwargs\u001b[0m\u001b[1m)\u001b[0m\n",
      "    \u001b[36m                         │       └ \u001b[0m\u001b[36m\u001b[1m{'store_history': True, 'silent': False, 'cell_id': 'vscode-notebook-cell:/c%3A/Users/matri/Polibuda/diploma/ART-Templates/%7...\u001b[0m\n",
      "    \u001b[36m                         └ \u001b[0m\u001b[36m\u001b[1m('project.run_all()',)\u001b[0m\n",
      "\n",
      "  File \"\u001b[32mc:\\Users\\matri\\anaconda3\\envs\\art\\lib\\site-packages\\IPython\\core\\\u001b[0m\u001b[32m\u001b[1minteractiveshell.py\u001b[0m\", line \u001b[33m3024\u001b[0m, in \u001b[35mrun_cell\u001b[0m\n",
      "    \u001b[1mresult\u001b[0m \u001b[35m\u001b[1m=\u001b[0m \u001b[1mself\u001b[0m\u001b[35m\u001b[1m.\u001b[0m\u001b[1m_run_cell\u001b[0m\u001b[1m(\u001b[0m\n",
      "    \u001b[36m         │    └ \u001b[0m\u001b[36m\u001b[1m<function InteractiveShell._run_cell at 0x000001DF90436B00>\u001b[0m\n",
      "    \u001b[36m         └ \u001b[0m\u001b[36m\u001b[1m<ipykernel.zmqshell.ZMQInteractiveShell object at 0x000001DF91B49900>\u001b[0m\n",
      "\n",
      "  File \"\u001b[32mc:\\Users\\matri\\anaconda3\\envs\\art\\lib\\site-packages\\IPython\\core\\\u001b[0m\u001b[32m\u001b[1minteractiveshell.py\u001b[0m\", line \u001b[33m3079\u001b[0m, in \u001b[35m_run_cell\u001b[0m\n",
      "    \u001b[1mresult\u001b[0m \u001b[35m\u001b[1m=\u001b[0m \u001b[1mrunner\u001b[0m\u001b[1m(\u001b[0m\u001b[1mcoro\u001b[0m\u001b[1m)\u001b[0m\n",
      "    \u001b[36m         │      └ \u001b[0m\u001b[36m\u001b[1m<coroutine object InteractiveShell.run_cell_async at 0x000001DFCA902260>\u001b[0m\n",
      "    \u001b[36m         └ \u001b[0m\u001b[36m\u001b[1m<function _pseudo_sync_runner at 0x000001DF9041E440>\u001b[0m\n",
      "\n",
      "  File \"\u001b[32mc:\\Users\\matri\\anaconda3\\envs\\art\\lib\\site-packages\\IPython\\core\\\u001b[0m\u001b[32m\u001b[1masync_helpers.py\u001b[0m\", line \u001b[33m129\u001b[0m, in \u001b[35m_pseudo_sync_runner\u001b[0m\n",
      "    \u001b[1mcoro\u001b[0m\u001b[35m\u001b[1m.\u001b[0m\u001b[1msend\u001b[0m\u001b[1m(\u001b[0m\u001b[36m\u001b[1mNone\u001b[0m\u001b[1m)\u001b[0m\n",
      "    \u001b[36m│    └ \u001b[0m\u001b[36m\u001b[1m<method 'send' of 'coroutine' objects>\u001b[0m\n",
      "    \u001b[36m└ \u001b[0m\u001b[36m\u001b[1m<coroutine object InteractiveShell.run_cell_async at 0x000001DFCA902260>\u001b[0m\n",
      "\n",
      "  File \"\u001b[32mc:\\Users\\matri\\anaconda3\\envs\\art\\lib\\site-packages\\IPython\\core\\\u001b[0m\u001b[32m\u001b[1minteractiveshell.py\u001b[0m\", line \u001b[33m3284\u001b[0m, in \u001b[35mrun_cell_async\u001b[0m\n",
      "    \u001b[1mhas_raised\u001b[0m \u001b[35m\u001b[1m=\u001b[0m \u001b[35m\u001b[1mawait\u001b[0m \u001b[1mself\u001b[0m\u001b[35m\u001b[1m.\u001b[0m\u001b[1mrun_ast_nodes\u001b[0m\u001b[1m(\u001b[0m\u001b[1mcode_ast\u001b[0m\u001b[35m\u001b[1m.\u001b[0m\u001b[1mbody\u001b[0m\u001b[1m,\u001b[0m \u001b[1mcell_name\u001b[0m\u001b[1m,\u001b[0m\n",
      "    \u001b[36m                   │    │             │        │     └ \u001b[0m\u001b[36m\u001b[1m'C:\\\\Users\\\\matri\\\\AppData\\\\Local\\\\Temp\\\\ipykernel_21408\\\\2062359450.py'\u001b[0m\n",
      "    \u001b[36m                   │    │             │        └ \u001b[0m\u001b[36m\u001b[1m[<ast.Expr object at 0x000001DFA8F99FF0>]\u001b[0m\n",
      "    \u001b[36m                   │    │             └ \u001b[0m\u001b[36m\u001b[1m<ast.Module object at 0x000001DFA8F9A2F0>\u001b[0m\n",
      "    \u001b[36m                   │    └ \u001b[0m\u001b[36m\u001b[1m<function InteractiveShell.run_ast_nodes at 0x000001DF90436DD0>\u001b[0m\n",
      "    \u001b[36m                   └ \u001b[0m\u001b[36m\u001b[1m<ipykernel.zmqshell.ZMQInteractiveShell object at 0x000001DF91B49900>\u001b[0m\n",
      "\n",
      "  File \"\u001b[32mc:\\Users\\matri\\anaconda3\\envs\\art\\lib\\site-packages\\IPython\\core\\\u001b[0m\u001b[32m\u001b[1minteractiveshell.py\u001b[0m\", line \u001b[33m3466\u001b[0m, in \u001b[35mrun_ast_nodes\u001b[0m\n",
      "    \u001b[35m\u001b[1mif\u001b[0m \u001b[35m\u001b[1mawait\u001b[0m \u001b[1mself\u001b[0m\u001b[35m\u001b[1m.\u001b[0m\u001b[1mrun_code\u001b[0m\u001b[1m(\u001b[0m\u001b[1mcode\u001b[0m\u001b[1m,\u001b[0m \u001b[1mresult\u001b[0m\u001b[1m,\u001b[0m \u001b[1masync_\u001b[0m\u001b[35m\u001b[1m=\u001b[0m\u001b[1masy\u001b[0m\u001b[1m)\u001b[0m\u001b[1m:\u001b[0m\n",
      "    \u001b[36m         │    │        │     │              └ \u001b[0m\u001b[36m\u001b[1mFalse\u001b[0m\n",
      "    \u001b[36m         │    │        │     └ \u001b[0m\u001b[36m\u001b[1m<ExecutionResult object at 1df91bb6fe0, execution_count=11 error_before_exec=None error_in_exec=None info=<ExecutionInfo obje...\u001b[0m\n",
      "    \u001b[36m         │    │        └ \u001b[0m\u001b[36m\u001b[1m<code object <module> at 0x000001DFCA92B3C0, file \"C:\\Users\\matri\\AppData\\Local\\Temp\\ipykernel_21408\\2062359450.py\", line 1>\u001b[0m\n",
      "    \u001b[36m         │    └ \u001b[0m\u001b[36m\u001b[1m<function InteractiveShell.run_code at 0x000001DF90436E60>\u001b[0m\n",
      "    \u001b[36m         └ \u001b[0m\u001b[36m\u001b[1m<ipykernel.zmqshell.ZMQInteractiveShell object at 0x000001DF91B49900>\u001b[0m\n",
      "\n",
      "  File \"\u001b[32mc:\\Users\\matri\\anaconda3\\envs\\art\\lib\\site-packages\\IPython\\core\\\u001b[0m\u001b[32m\u001b[1minteractiveshell.py\u001b[0m\", line \u001b[33m3526\u001b[0m, in \u001b[35mrun_code\u001b[0m\n",
      "    \u001b[1mexec\u001b[0m\u001b[1m(\u001b[0m\u001b[1mcode_obj\u001b[0m\u001b[1m,\u001b[0m \u001b[1mself\u001b[0m\u001b[35m\u001b[1m.\u001b[0m\u001b[1muser_global_ns\u001b[0m\u001b[1m,\u001b[0m \u001b[1mself\u001b[0m\u001b[35m\u001b[1m.\u001b[0m\u001b[1muser_ns\u001b[0m\u001b[1m)\u001b[0m\n",
      "    \u001b[36m     │         │    │               │    └ \u001b[0m\u001b[36m\u001b[1m{'__name__': '__main__', '__doc__': 'Automatically created module for IPython interactive environment', '__package__': None, ...\u001b[0m\n",
      "    \u001b[36m     │         │    │               └ \u001b[0m\u001b[36m\u001b[1m<ipykernel.zmqshell.ZMQInteractiveShell object at 0x000001DF91B49900>\u001b[0m\n",
      "    \u001b[36m     │         │    └ \u001b[0m\u001b[36m\u001b[1m<property object at 0x000001DF90425080>\u001b[0m\n",
      "    \u001b[36m     │         └ \u001b[0m\u001b[36m\u001b[1m<ipykernel.zmqshell.ZMQInteractiveShell object at 0x000001DF91B49900>\u001b[0m\n",
      "    \u001b[36m     └ \u001b[0m\u001b[36m\u001b[1m<code object <module> at 0x000001DFCA92B3C0, file \"C:\\Users\\matri\\AppData\\Local\\Temp\\ipykernel_21408\\2062359450.py\", line 1>\u001b[0m\n",
      "\n",
      "  File \"\u001b[32mC:\\Users\\matri\\AppData\\Local\\Temp\\ipykernel_21408\\\u001b[0m\u001b[32m\u001b[1m2062359450.py\u001b[0m\", line \u001b[33m1\u001b[0m, in \u001b[35m<module>\u001b[0m\n",
      "    \u001b[1mproject\u001b[0m\u001b[35m\u001b[1m.\u001b[0m\u001b[1mrun_all\u001b[0m\u001b[1m(\u001b[0m\u001b[1m)\u001b[0m\n",
      "    \u001b[36m│       └ \u001b[0m\u001b[36m\u001b[1m<function ArtProject.run_all at 0x000001DFA8F83B50>\u001b[0m\n",
      "    \u001b[36m└ \u001b[0m\u001b[36m\u001b[1m<art.project.ArtProject object at 0x000001DFC0AFC640>\u001b[0m\n",
      "\n",
      "  File \"\u001b[32mC:\\Users\\matri\\Polibuda\\diploma\\art\\art\\\u001b[0m\u001b[32m\u001b[1mproject.py\u001b[0m\", line \u001b[33m201\u001b[0m, in \u001b[35mrun_all\u001b[0m\n",
      "    \u001b[1mstep\u001b[0m\u001b[1m(\u001b[0m\n",
      "    \u001b[36m└ \u001b[0m\u001b[36m\u001b[1m<unprintable Overfit object>\u001b[0m\n",
      "\n",
      "  File \"\u001b[32mC:\\Users\\matri\\Polibuda\\diploma\\art\\art\\\u001b[0m\u001b[32m\u001b[1msteps.py\u001b[0m\", line \u001b[33m249\u001b[0m, in \u001b[35m__call__\u001b[0m\n",
      "    \u001b[1msuper\u001b[0m\u001b[1m(\u001b[0m\u001b[1m)\u001b[0m\u001b[35m\u001b[1m.\u001b[0m\u001b[1m__call__\u001b[0m\u001b[1m(\u001b[0m\u001b[1mprevious_states\u001b[0m\u001b[1m,\u001b[0m \u001b[1mdatamodule\u001b[0m\u001b[1m,\u001b[0m \u001b[1mmetric_calculator\u001b[0m\u001b[1m,\u001b[0m \u001b[1mrun_id\u001b[0m\u001b[1m)\u001b[0m\n",
      "    \u001b[36m                 │                │           │                  └ \u001b[0m\u001b[36m\u001b[1m'2023-11-25_10-34-23_1f1eb008-32fa-4b8c-ab2a-eeaa8921961e'\u001b[0m\n",
      "    \u001b[36m                 │                │           └ \u001b[0m\u001b[36m\u001b[1m<art.metrics.MetricCalculator object at 0x000001DFC0AFFD90>\u001b[0m\n",
      "    \u001b[36m                 │                └ \u001b[0m\u001b[36m\u001b[1m<MyDataset.CifarDataModule object at 0x000001DF91BB5870>\u001b[0m\n",
      "    \u001b[36m                 └ \u001b[0m\u001b[36m\u001b[1mdefaultdict(<function ArtProjectState.__init__.<locals>.<lambda> at 0x000001DFA8FA2CB0>, {'': defaultdict(<function ArtProjec...\u001b[0m\n",
      "\n",
      "> File \"\u001b[32mC:\\Users\\matri\\Polibuda\\diploma\\art\\art\\\u001b[0m\u001b[32m\u001b[1msteps.py\u001b[0m\", line \u001b[33m78\u001b[0m, in \u001b[35m__call__\u001b[0m\n",
      "    \u001b[1mself\u001b[0m\u001b[35m\u001b[1m.\u001b[0m\u001b[1mdo\u001b[0m\u001b[1m(\u001b[0m\u001b[1mprevious_states\u001b[0m\u001b[1m)\u001b[0m\n",
      "    \u001b[36m│    │  └ \u001b[0m\u001b[36m\u001b[1mdefaultdict(<function ArtProjectState.__init__.<locals>.<lambda> at 0x000001DFA8FA2CB0>, {'': defaultdict(<function ArtProjec...\u001b[0m\n",
      "    \u001b[36m│    └ \u001b[0m\u001b[36m\u001b[1m<function Overfit.do at 0x000001DFA8F82E60>\u001b[0m\n",
      "    \u001b[36m└ \u001b[0m\u001b[36m\u001b[1m<unprintable Overfit object>\u001b[0m\n",
      "\n",
      "  File \"\u001b[32mC:\\Users\\matri\\Polibuda\\diploma\\art\\art\\\u001b[0m\u001b[32m\u001b[1msteps.py\u001b[0m\", line \u001b[33m497\u001b[0m, in \u001b[35mdo\u001b[0m\n",
      "    \u001b[1mself\u001b[0m\u001b[35m\u001b[1m.\u001b[0m\u001b[1mvalidate\u001b[0m\u001b[1m(\u001b[0m\u001b[1mtrainer_kwargs\u001b[0m\u001b[35m\u001b[1m=\u001b[0m\u001b[1m{\u001b[0m\u001b[36m\"datamodule\"\u001b[0m\u001b[1m:\u001b[0m \u001b[1mself\u001b[0m\u001b[35m\u001b[1m.\u001b[0m\u001b[1mdatamodule\u001b[0m\u001b[1m}\u001b[0m\u001b[1m)\u001b[0m\n",
      "    \u001b[36m│    │                                      │    └ \u001b[0m\u001b[36m\u001b[1m<MyDataset.CifarDataModule object at 0x000001DF91BB5870>\u001b[0m\n",
      "    \u001b[36m│    │                                      └ \u001b[0m\u001b[36m\u001b[1m<unprintable Overfit object>\u001b[0m\n",
      "    \u001b[36m│    └ \u001b[0m\u001b[36m\u001b[1m<function ModelStep.validate at 0x000001DFA8F82560>\u001b[0m\n",
      "    \u001b[36m└ \u001b[0m\u001b[36m\u001b[1m<unprintable Overfit object>\u001b[0m\n",
      "\n",
      "  File \"\u001b[32mC:\\Users\\matri\\Polibuda\\diploma\\art\\art\\\u001b[0m\u001b[32m\u001b[1msteps.py\u001b[0m\", line \u001b[33m303\u001b[0m, in \u001b[35mvalidate\u001b[0m\n",
      "    \u001b[1mresult\u001b[0m \u001b[35m\u001b[1m=\u001b[0m \u001b[1mself\u001b[0m\u001b[35m\u001b[1m.\u001b[0m\u001b[1mtrainer\u001b[0m\u001b[35m\u001b[1m.\u001b[0m\u001b[1mvalidate\u001b[0m\u001b[1m(\u001b[0m\u001b[1mmodel\u001b[0m\u001b[35m\u001b[1m=\u001b[0m\u001b[1mself\u001b[0m\u001b[35m\u001b[1m.\u001b[0m\u001b[1minitialize_model\u001b[0m\u001b[1m(\u001b[0m\u001b[1m)\u001b[0m\u001b[1m,\u001b[0m \u001b[35m\u001b[1m**\u001b[0m\u001b[1mtrainer_kwargs\u001b[0m\u001b[1m)\u001b[0m\n",
      "    \u001b[36m         │    │       │              │    │                     └ \u001b[0m\u001b[36m\u001b[1m{'datamodule': <MyDataset.CifarDataModule object at 0x000001DF91BB5870>}\u001b[0m\n",
      "    \u001b[36m         │    │       │              │    └ \u001b[0m\u001b[36m\u001b[1m<function ModelStep.initialize_model at 0x000001DFA8F823B0>\u001b[0m\n",
      "    \u001b[36m         │    │       │              └ \u001b[0m\u001b[36m\u001b[1m<unprintable Overfit object>\u001b[0m\n",
      "    \u001b[36m         │    │       └ \u001b[0m\u001b[36m\u001b[1m<function Trainer.validate at 0x000001DFB1CB9F30>\u001b[0m\n",
      "    \u001b[36m         │    └ \u001b[0m\u001b[36m\u001b[1m<lightning.pytorch.trainer.trainer.Trainer object at 0x000001DF91BB55D0>\u001b[0m\n",
      "    \u001b[36m         └ \u001b[0m\u001b[36m\u001b[1m<unprintable Overfit object>\u001b[0m\n",
      "\n",
      "  File \"\u001b[32mc:\\Users\\matri\\anaconda3\\envs\\art\\lib\\site-packages\\lightning\\pytorch\\trainer\\\u001b[0m\u001b[32m\u001b[1mtrainer.py\u001b[0m\", line \u001b[33m633\u001b[0m, in \u001b[35mvalidate\u001b[0m\n",
      "    \u001b[35m\u001b[1mreturn\u001b[0m \u001b[1mcall\u001b[0m\u001b[35m\u001b[1m.\u001b[0m\u001b[1m_call_and_handle_interrupt\u001b[0m\u001b[1m(\u001b[0m\n",
      "    \u001b[36m       │    └ \u001b[0m\u001b[36m\u001b[1m<function _call_and_handle_interrupt at 0x000001DFB19D3520>\u001b[0m\n",
      "    \u001b[36m       └ \u001b[0m\u001b[36m\u001b[1m<module 'lightning.pytorch.trainer.call' from 'c:\\\\Users\\\\matri\\\\anaconda3\\\\envs\\\\art\\\\lib\\\\site-packages\\\\lightning\\\\pytorch...\u001b[0m\n",
      "\n",
      "  File \"\u001b[32mc:\\Users\\matri\\anaconda3\\envs\\art\\lib\\site-packages\\lightning\\pytorch\\trainer\\\u001b[0m\u001b[32m\u001b[1mcall.py\u001b[0m\", line \u001b[33m43\u001b[0m, in \u001b[35m_call_and_handle_interrupt\u001b[0m\n",
      "    \u001b[35m\u001b[1mreturn\u001b[0m \u001b[1mtrainer_fn\u001b[0m\u001b[1m(\u001b[0m\u001b[35m\u001b[1m*\u001b[0m\u001b[1margs\u001b[0m\u001b[1m,\u001b[0m \u001b[35m\u001b[1m**\u001b[0m\u001b[1mkwargs\u001b[0m\u001b[1m)\u001b[0m\n",
      "    \u001b[36m       │           │       └ \u001b[0m\u001b[36m\u001b[1m{}\u001b[0m\n",
      "    \u001b[36m       │           └ \u001b[0m\u001b[36m\u001b[1m(None, None, None, True, <MyDataset.CifarDataModule object at 0x000001DF91BB5870>)\u001b[0m\n",
      "    \u001b[36m       └ \u001b[0m\u001b[36m\u001b[1m<bound method Trainer._validate_impl of <lightning.pytorch.trainer.trainer.Trainer object at 0x000001DF91BB55D0>>\u001b[0m\n",
      "\n",
      "  File \"\u001b[32mc:\\Users\\matri\\anaconda3\\envs\\art\\lib\\site-packages\\lightning\\pytorch\\trainer\\\u001b[0m\u001b[32m\u001b[1mtrainer.py\u001b[0m\", line \u001b[33m673\u001b[0m, in \u001b[35m_validate_impl\u001b[0m\n",
      "    \u001b[1mckpt_path\u001b[0m \u001b[35m\u001b[1m=\u001b[0m \u001b[1mself\u001b[0m\u001b[35m\u001b[1m.\u001b[0m\u001b[1m_checkpoint_connector\u001b[0m\u001b[35m\u001b[1m.\u001b[0m\u001b[1m_select_ckpt_path\u001b[0m\u001b[1m(\u001b[0m\n",
      "    \u001b[36m            │    │                     └ \u001b[0m\u001b[36m\u001b[1m<function _CheckpointConnector._select_ckpt_path at 0x000001DFB1CB88B0>\u001b[0m\n",
      "    \u001b[36m            │    └ \u001b[0m\u001b[36m\u001b[1m<lightning.pytorch.trainer.connectors.checkpoint_connector._CheckpointConnector object at 0x000001DF91BB5570>\u001b[0m\n",
      "    \u001b[36m            └ \u001b[0m\u001b[36m\u001b[1m<lightning.pytorch.trainer.trainer.Trainer object at 0x000001DF91BB55D0>\u001b[0m\n",
      "\n",
      "  File \"\u001b[32mc:\\Users\\matri\\anaconda3\\envs\\art\\lib\\site-packages\\lightning\\pytorch\\trainer\\connectors\\\u001b[0m\u001b[32m\u001b[1mcheckpoint_connector.py\u001b[0m\", line \u001b[33m108\u001b[0m, in \u001b[35m_select_ckpt_path\u001b[0m\n",
      "    \u001b[1mckpt_path\u001b[0m \u001b[35m\u001b[1m=\u001b[0m \u001b[1mself\u001b[0m\u001b[35m\u001b[1m.\u001b[0m\u001b[1m_parse_ckpt_path\u001b[0m\u001b[1m(\u001b[0m\n",
      "    \u001b[36m            │    └ \u001b[0m\u001b[36m\u001b[1m<function _CheckpointConnector._parse_ckpt_path at 0x000001DFB1CB8940>\u001b[0m\n",
      "    \u001b[36m            └ \u001b[0m\u001b[36m\u001b[1m<lightning.pytorch.trainer.connectors.checkpoint_connector._CheckpointConnector object at 0x000001DF91BB5570>\u001b[0m\n",
      "\n",
      "  File \"\u001b[32mc:\\Users\\matri\\anaconda3\\envs\\art\\lib\\site-packages\\lightning\\pytorch\\trainer\\connectors\\\u001b[0m\u001b[32m\u001b[1mcheckpoint_connector.py\u001b[0m\", line \u001b[33m175\u001b[0m, in \u001b[35m_parse_ckpt_path\u001b[0m\n",
      "    \u001b[35m\u001b[1mraise\u001b[0m \u001b[1mValueError\u001b[0m\u001b[1m(\u001b[0m\n",
      "\n",
      "\u001b[31m\u001b[1mValueError\u001b[0m:\u001b[1m `.validate(ckpt_path=\"best\")` is set but `ModelCheckpoint` is not configured to save the best model.\u001b[0m\n"
     ]
    },
    {
     "name": "stderr",
     "output_type": "stream",
     "text": [
      "c:\\Users\\matri\\anaconda3\\envs\\art\\lib\\site-packages\\lightning\\pytorch\\trainer\\call.py:53: UserWarning: Detected KeyboardInterrupt, attempting graceful shutdown...\n",
      "  rank_zero_warn(\"Detected KeyboardInterrupt, attempting graceful shutdown...\")\n",
      "c:\\Users\\matri\\anaconda3\\envs\\art\\lib\\site-packages\\lightning\\pytorch\\trainer\\connectors\\checkpoint_connector.py:149: UserWarning: `.validate(ckpt_path=None)` was called without a model. The best model of the previous `fit` call will be used. You can pass `.validate(ckpt_path='best')` to use the best model or `.validate(ckpt_path='last')` to use the last model. If you pass a value, this warning will be silenced.\n",
      "  rank_zero_warn(\n"
     ]
    },
    {
     "ename": "ValueError",
     "evalue": "`.validate(ckpt_path=\"best\")` is set but `ModelCheckpoint` is not configured to save the best model.",
     "output_type": "error",
     "traceback": [
      "\u001b[1;31m---------------------------------------------------------------------------\u001b[0m",
      "\u001b[1;31mValueError\u001b[0m                                Traceback (most recent call last)",
      "\u001b[1;32mc:\\Users\\matri\\Polibuda\\diploma\\ART-Templates\\{{cookiecutter.project_slug}}\\EDA.ipynb Cell 12\u001b[0m line \u001b[0;36m1\n\u001b[1;32m----> <a href='vscode-notebook-cell:/c%3A/Users/matri/Polibuda/diploma/ART-Templates/%7B%7Bcookiecutter.project_slug%7D%7D/EDA.ipynb#X16sZmlsZQ%3D%3D?line=0'>1</a>\u001b[0m project\u001b[39m.\u001b[39;49mrun_all()\n",
      "File \u001b[1;32m~\\Polibuda\\diploma\\art\\art\\project.py:218\u001b[0m, in \u001b[0;36mArtProject.run_all\u001b[1;34m(self, force_rerun)\u001b[0m\n\u001b[0;32m    216\u001b[0m     \u001b[39mself\u001b[39m\u001b[39m.\u001b[39mprint_summary()\n\u001b[0;32m    217\u001b[0m \u001b[39mexcept\u001b[39;00m \u001b[39mException\u001b[39;00m \u001b[39mas\u001b[39;00m e:\n\u001b[1;32m--> 218\u001b[0m     \u001b[39mraise\u001b[39;00m e\n\u001b[0;32m    219\u001b[0m \u001b[39mfinally\u001b[39;00m:\n\u001b[0;32m    220\u001b[0m     remove_logger(logger_id)\n",
      "File \u001b[1;32m~\\Polibuda\\diploma\\art\\art\\project.py:201\u001b[0m, in \u001b[0;36mArtProject.run_all\u001b[1;34m(self, force_rerun)\u001b[0m\n\u001b[0;32m    199\u001b[0m     \u001b[39mcontinue\u001b[39;00m\n\u001b[0;32m    200\u001b[0m \u001b[39mtry\u001b[39;00m:\n\u001b[1;32m--> 201\u001b[0m     step(\n\u001b[0;32m    202\u001b[0m         \u001b[39mself\u001b[39;49m\u001b[39m.\u001b[39;49mstate\u001b[39m.\u001b[39;49mstep_states,\n\u001b[0;32m    203\u001b[0m         \u001b[39mself\u001b[39;49m\u001b[39m.\u001b[39;49mdatamodule,\n\u001b[0;32m    204\u001b[0m         \u001b[39mself\u001b[39;49m\u001b[39m.\u001b[39;49mmetric_calculator,\n\u001b[0;32m    205\u001b[0m         run_id,\n\u001b[0;32m    206\u001b[0m     )\n\u001b[0;32m    207\u001b[0m     \u001b[39mself\u001b[39m\u001b[39m.\u001b[39mcheck_checks(step, checks)\n\u001b[0;32m    208\u001b[0m \u001b[39mexcept\u001b[39;00m CheckFailedException \u001b[39mas\u001b[39;00m e:\n",
      "File \u001b[1;32m~\\Polibuda\\diploma\\art\\art\\steps.py:249\u001b[0m, in \u001b[0;36mModelStep.__call__\u001b[1;34m(self, previous_states, datamodule, metric_calculator, run_id)\u001b[0m\n\u001b[0;32m    245\u001b[0m curr_device \u001b[39m=\u001b[39m (\n\u001b[0;32m    246\u001b[0m     \u001b[39m\"\u001b[39m\u001b[39mcuda\u001b[39m\u001b[39m\"\u001b[39m \u001b[39mif\u001b[39;00m \u001b[39misinstance\u001b[39m(\u001b[39mself\u001b[39m\u001b[39m.\u001b[39mtrainer\u001b[39m.\u001b[39maccelerator, CUDAAccelerator) \u001b[39melse\u001b[39;00m \u001b[39m\"\u001b[39m\u001b[39mcpu\u001b[39m\u001b[39m\"\u001b[39m\n\u001b[0;32m    247\u001b[0m )\n\u001b[0;32m    248\u001b[0m \u001b[39mself\u001b[39m\u001b[39m.\u001b[39mmetric_calculator\u001b[39m.\u001b[39mto(curr_device)\n\u001b[1;32m--> 249\u001b[0m \u001b[39msuper\u001b[39;49m()\u001b[39m.\u001b[39;49m\u001b[39m__call__\u001b[39;49m(previous_states, datamodule, metric_calculator, run_id)\n\u001b[0;32m    250\u001b[0m \u001b[39mdel\u001b[39;00m \u001b[39mself\u001b[39m\u001b[39m.\u001b[39mtrainer\n\u001b[0;32m    251\u001b[0m gc\u001b[39m.\u001b[39mcollect()\n",
      "File \u001b[1;32m~\\Polibuda\\diploma\\art\\art\\steps.py:82\u001b[0m, in \u001b[0;36mStep.__call__\u001b[1;34m(self, previous_states, datamodule, metric_calculator, run_id)\u001b[0m\n\u001b[0;32m     80\u001b[0m \u001b[39mexcept\u001b[39;00m \u001b[39mException\u001b[39;00m \u001b[39mas\u001b[39;00m e:\n\u001b[0;32m     81\u001b[0m     art_logger\u001b[39m.\u001b[39mexception(\u001b[39mf\u001b[39m\u001b[39m\"\u001b[39m\u001b[39mError while executing step \u001b[39m\u001b[39m{\u001b[39;00m\u001b[39mself\u001b[39m\u001b[39m.\u001b[39mname\u001b[39m}\u001b[39;00m\u001b[39m!\u001b[39m\u001b[39m\"\u001b[39m)\n\u001b[1;32m---> 82\u001b[0m     \u001b[39mraise\u001b[39;00m e\n\u001b[0;32m     83\u001b[0m \u001b[39mfinally\u001b[39;00m:\n\u001b[0;32m     84\u001b[0m     remove_logger(logger_id)\n",
      "File \u001b[1;32m~\\Polibuda\\diploma\\art\\art\\steps.py:78\u001b[0m, in \u001b[0;36mStep.__call__\u001b[1;34m(self, previous_states, datamodule, metric_calculator, run_id)\u001b[0m\n\u001b[0;32m     76\u001b[0m     \u001b[39mself\u001b[39m\u001b[39m.\u001b[39mdatamodule \u001b[39m=\u001b[39m datamodule\n\u001b[0;32m     77\u001b[0m     \u001b[39mself\u001b[39m\u001b[39m.\u001b[39mfill_basic_results()\n\u001b[1;32m---> 78\u001b[0m     \u001b[39mself\u001b[39;49m\u001b[39m.\u001b[39;49mdo(previous_states)\n\u001b[0;32m     79\u001b[0m     \u001b[39mself\u001b[39m\u001b[39m.\u001b[39mfinalized \u001b[39m=\u001b[39m \u001b[39mTrue\u001b[39;00m\n\u001b[0;32m     80\u001b[0m \u001b[39mexcept\u001b[39;00m \u001b[39mException\u001b[39;00m \u001b[39mas\u001b[39;00m e:\n",
      "File \u001b[1;32m~\\Polibuda\\diploma\\art\\art\\steps.py:497\u001b[0m, in \u001b[0;36mOverfit.do\u001b[1;34m(self, previous_states)\u001b[0m\n\u001b[0;32m    495\u001b[0m \u001b[39mself\u001b[39m\u001b[39m.\u001b[39mtrain(trainer_kwargs\u001b[39m=\u001b[39m{\u001b[39m\"\u001b[39m\u001b[39mtrain_dataloaders\u001b[39m\u001b[39m\"\u001b[39m: train_loader})\n\u001b[0;32m    496\u001b[0m art_logger\u001b[39m.\u001b[39minfo(\u001b[39m\"\u001b[39m\u001b[39mValidating overfitted model\u001b[39m\u001b[39m\"\u001b[39m)\n\u001b[1;32m--> 497\u001b[0m \u001b[39mself\u001b[39;49m\u001b[39m.\u001b[39;49mvalidate(trainer_kwargs\u001b[39m=\u001b[39;49m{\u001b[39m\"\u001b[39;49m\u001b[39mdatamodule\u001b[39;49m\u001b[39m\"\u001b[39;49m: \u001b[39mself\u001b[39;49m\u001b[39m.\u001b[39;49mdatamodule})\n",
      "File \u001b[1;32m~\\Polibuda\\diploma\\art\\art\\steps.py:303\u001b[0m, in \u001b[0;36mModelStep.validate\u001b[1;34m(self, trainer_kwargs)\u001b[0m\n\u001b[0;32m    295\u001b[0m \u001b[39m\u001b[39m\u001b[39m\"\"\"\u001b[39;00m\n\u001b[0;32m    296\u001b[0m \u001b[39mValidate the model using the provided trainer arguments.\u001b[39;00m\n\u001b[0;32m    297\u001b[0m \n\u001b[0;32m    298\u001b[0m \u001b[39mArgs:\u001b[39;00m\n\u001b[0;32m    299\u001b[0m \u001b[39m    trainer_kwargs (Dict): Arguments to be passed to the trainer for validating the model.\u001b[39;00m\n\u001b[0;32m    300\u001b[0m \u001b[39m\"\"\"\u001b[39;00m\n\u001b[0;32m    301\u001b[0m art_logger\u001b[39m.\u001b[39minfo(\u001b[39mf\u001b[39m\u001b[39m\"\u001b[39m\u001b[39mValidating model \u001b[39m\u001b[39m{\u001b[39;00m\u001b[39mself\u001b[39m\u001b[39m.\u001b[39mmodel_name\u001b[39m}\u001b[39;00m\u001b[39m\"\u001b[39m)\n\u001b[1;32m--> 303\u001b[0m result \u001b[39m=\u001b[39m \u001b[39mself\u001b[39m\u001b[39m.\u001b[39mtrainer\u001b[39m.\u001b[39mvalidate(model\u001b[39m=\u001b[39m\u001b[39mself\u001b[39m\u001b[39m.\u001b[39minitialize_model(), \u001b[39m*\u001b[39m\u001b[39m*\u001b[39mtrainer_kwargs)\n\u001b[0;32m    304\u001b[0m \u001b[39mself\u001b[39m\u001b[39m.\u001b[39mresults[\u001b[39m\"\u001b[39m\u001b[39mscores\u001b[39m\u001b[39m\"\u001b[39m]\u001b[39m.\u001b[39mupdate(result[\u001b[39m0\u001b[39m])\n",
      "File \u001b[1;32mc:\\Users\\matri\\anaconda3\\envs\\art\\lib\\site-packages\\lightning\\pytorch\\trainer\\trainer.py:633\u001b[0m, in \u001b[0;36mTrainer.validate\u001b[1;34m(self, model, dataloaders, ckpt_path, verbose, datamodule)\u001b[0m\n\u001b[0;32m    631\u001b[0m     \u001b[39mself\u001b[39m\u001b[39m.\u001b[39mstrategy\u001b[39m.\u001b[39m_lightning_module \u001b[39m=\u001b[39m model\n\u001b[0;32m    632\u001b[0m _verify_strategy_supports_compile(\u001b[39mself\u001b[39m\u001b[39m.\u001b[39mlightning_module, \u001b[39mself\u001b[39m\u001b[39m.\u001b[39mstrategy)\n\u001b[1;32m--> 633\u001b[0m \u001b[39mreturn\u001b[39;00m call\u001b[39m.\u001b[39;49m_call_and_handle_interrupt(\n\u001b[0;32m    634\u001b[0m     \u001b[39mself\u001b[39;49m, \u001b[39mself\u001b[39;49m\u001b[39m.\u001b[39;49m_validate_impl, model, dataloaders, ckpt_path, verbose, datamodule\n\u001b[0;32m    635\u001b[0m )\n",
      "File \u001b[1;32mc:\\Users\\matri\\anaconda3\\envs\\art\\lib\\site-packages\\lightning\\pytorch\\trainer\\call.py:43\u001b[0m, in \u001b[0;36m_call_and_handle_interrupt\u001b[1;34m(trainer, trainer_fn, *args, **kwargs)\u001b[0m\n\u001b[0;32m     41\u001b[0m     \u001b[39mif\u001b[39;00m trainer\u001b[39m.\u001b[39mstrategy\u001b[39m.\u001b[39mlauncher \u001b[39mis\u001b[39;00m \u001b[39mnot\u001b[39;00m \u001b[39mNone\u001b[39;00m:\n\u001b[0;32m     42\u001b[0m         \u001b[39mreturn\u001b[39;00m trainer\u001b[39m.\u001b[39mstrategy\u001b[39m.\u001b[39mlauncher\u001b[39m.\u001b[39mlaunch(trainer_fn, \u001b[39m*\u001b[39margs, trainer\u001b[39m=\u001b[39mtrainer, \u001b[39m*\u001b[39m\u001b[39m*\u001b[39mkwargs)\n\u001b[1;32m---> 43\u001b[0m     \u001b[39mreturn\u001b[39;00m trainer_fn(\u001b[39m*\u001b[39margs, \u001b[39m*\u001b[39m\u001b[39m*\u001b[39mkwargs)\n\u001b[0;32m     45\u001b[0m \u001b[39mexcept\u001b[39;00m _TunerExitException:\n\u001b[0;32m     46\u001b[0m     _call_teardown_hook(trainer)\n",
      "File \u001b[1;32mc:\\Users\\matri\\anaconda3\\envs\\art\\lib\\site-packages\\lightning\\pytorch\\trainer\\trainer.py:673\u001b[0m, in \u001b[0;36mTrainer._validate_impl\u001b[1;34m(self, model, dataloaders, ckpt_path, verbose, datamodule)\u001b[0m\n\u001b[0;32m    670\u001b[0m \u001b[39m# links data to the trainer\u001b[39;00m\n\u001b[0;32m    671\u001b[0m \u001b[39mself\u001b[39m\u001b[39m.\u001b[39m_data_connector\u001b[39m.\u001b[39mattach_data(model, val_dataloaders\u001b[39m=\u001b[39mdataloaders, datamodule\u001b[39m=\u001b[39mdatamodule)\n\u001b[1;32m--> 673\u001b[0m ckpt_path \u001b[39m=\u001b[39m \u001b[39mself\u001b[39;49m\u001b[39m.\u001b[39;49m_checkpoint_connector\u001b[39m.\u001b[39;49m_select_ckpt_path(\n\u001b[0;32m    674\u001b[0m     \u001b[39mself\u001b[39;49m\u001b[39m.\u001b[39;49mstate\u001b[39m.\u001b[39;49mfn, ckpt_path, model_provided\u001b[39m=\u001b[39;49mmodel_provided, model_connected\u001b[39m=\u001b[39;49m\u001b[39mself\u001b[39;49m\u001b[39m.\u001b[39;49mlightning_module \u001b[39mis\u001b[39;49;00m \u001b[39mnot\u001b[39;49;00m \u001b[39mNone\u001b[39;49;00m\n\u001b[0;32m    675\u001b[0m )\n\u001b[0;32m    676\u001b[0m results \u001b[39m=\u001b[39m \u001b[39mself\u001b[39m\u001b[39m.\u001b[39m_run(model, ckpt_path\u001b[39m=\u001b[39mckpt_path)\n\u001b[0;32m    677\u001b[0m \u001b[39m# remove the tensors from the validation results\u001b[39;00m\n",
      "File \u001b[1;32mc:\\Users\\matri\\anaconda3\\envs\\art\\lib\\site-packages\\lightning\\pytorch\\trainer\\connectors\\checkpoint_connector.py:108\u001b[0m, in \u001b[0;36m_CheckpointConnector._select_ckpt_path\u001b[1;34m(self, state_fn, ckpt_path, model_provided, model_connected)\u001b[0m\n\u001b[0;32m    106\u001b[0m         ckpt_path \u001b[39m=\u001b[39m \u001b[39mself\u001b[39m\u001b[39m.\u001b[39m_ckpt_path\n\u001b[0;32m    107\u001b[0m \u001b[39melse\u001b[39;00m:\n\u001b[1;32m--> 108\u001b[0m     ckpt_path \u001b[39m=\u001b[39m \u001b[39mself\u001b[39;49m\u001b[39m.\u001b[39;49m_parse_ckpt_path(\n\u001b[0;32m    109\u001b[0m         state_fn,\n\u001b[0;32m    110\u001b[0m         ckpt_path,\n\u001b[0;32m    111\u001b[0m         model_provided\u001b[39m=\u001b[39;49mmodel_provided,\n\u001b[0;32m    112\u001b[0m         model_connected\u001b[39m=\u001b[39;49mmodel_connected,\n\u001b[0;32m    113\u001b[0m     )\n\u001b[0;32m    114\u001b[0m \u001b[39mreturn\u001b[39;00m ckpt_path\n",
      "File \u001b[1;32mc:\\Users\\matri\\anaconda3\\envs\\art\\lib\\site-packages\\lightning\\pytorch\\trainer\\connectors\\checkpoint_connector.py:175\u001b[0m, in \u001b[0;36m_CheckpointConnector._parse_ckpt_path\u001b[1;34m(self, state_fn, ckpt_path, model_provided, model_connected)\u001b[0m\n\u001b[0;32m    170\u001b[0m     \u001b[39mif\u001b[39;00m \u001b[39mself\u001b[39m\u001b[39m.\u001b[39mtrainer\u001b[39m.\u001b[39mfast_dev_run:\n\u001b[0;32m    171\u001b[0m         \u001b[39mraise\u001b[39;00m \u001b[39mValueError\u001b[39;00m(\n\u001b[0;32m    172\u001b[0m             \u001b[39mf\u001b[39m\u001b[39m'\u001b[39m\u001b[39mYou cannot execute `.\u001b[39m\u001b[39m{\u001b[39;00mfn\u001b[39m}\u001b[39;00m\u001b[39m(ckpt_path=\u001b[39m\u001b[39m\"\u001b[39m\u001b[39mbest\u001b[39m\u001b[39m\"\u001b[39m\u001b[39m)` with `fast_dev_run=True`.\u001b[39m\u001b[39m'\u001b[39m\n\u001b[0;32m    173\u001b[0m             \u001b[39mf\u001b[39m\u001b[39m\"\u001b[39m\u001b[39m Please pass an exact checkpoint path to `.\u001b[39m\u001b[39m{\u001b[39;00mfn\u001b[39m}\u001b[39;00m\u001b[39m(ckpt_path=...)`\u001b[39m\u001b[39m\"\u001b[39m\n\u001b[0;32m    174\u001b[0m         )\n\u001b[1;32m--> 175\u001b[0m     \u001b[39mraise\u001b[39;00m \u001b[39mValueError\u001b[39;00m(\n\u001b[0;32m    176\u001b[0m         \u001b[39mf\u001b[39m\u001b[39m'\u001b[39m\u001b[39m`.\u001b[39m\u001b[39m{\u001b[39;00mfn\u001b[39m}\u001b[39;00m\u001b[39m(ckpt_path=\u001b[39m\u001b[39m\"\u001b[39m\u001b[39mbest\u001b[39m\u001b[39m\"\u001b[39m\u001b[39m)` is set but `ModelCheckpoint` is not configured to save the best model.\u001b[39m\u001b[39m'\u001b[39m\n\u001b[0;32m    177\u001b[0m     )\n\u001b[0;32m    178\u001b[0m \u001b[39m# load best weights\u001b[39;00m\n\u001b[0;32m    179\u001b[0m ckpt_path \u001b[39m=\u001b[39m \u001b[39mgetattr\u001b[39m(\u001b[39mself\u001b[39m\u001b[39m.\u001b[39mtrainer\u001b[39m.\u001b[39mcheckpoint_callback, \u001b[39m\"\u001b[39m\u001b[39mbest_model_path\u001b[39m\u001b[39m\"\u001b[39m, \u001b[39mNone\u001b[39;00m)\n",
      "\u001b[1;31mValueError\u001b[0m: `.validate(ckpt_path=\"best\")` is set but `ModelCheckpoint` is not configured to save the best model."
     ]
    }
   ],
   "source": [
    "project.run_all()"
   ]
  },
  {
   "cell_type": "code",
   "execution_count": null,
   "metadata": {},
   "outputs": [],
   "source": [
    "from art.steps import TransferLearning\n",
    "from art import NeptuneLogger\n",
    "\n",
    "logger = NeptuneLogger(project_name=\"mmaecki/transfer-learning\", api_token=\"XXX\")\n",
    "early_stopping = EarlyStopping('CrossEntropyLoss-validate', patience=6)\n",
    "project.add_step(TransferLearning(ResNet18,\n",
    "                                    freezed_trainer_kwargs={\"max_epochs\": 40,\n",
    "                                                            \"check_val_every_n_epoch\": 2,\n",
    "                                                            \"callbacks\": [early_stopping]},\n",
    "                                    unfreezed_trainer_kwargs={\"max_epochs\": 50,\n",
    "                                                            \"check_val_every_n_epoch\": 2,\n",
    "                                                            \"callbacks\": [early_stopping]},\n",
    "                                    keep_unfrozen=1,\n",
    "                                    logger=logger\n",
    "                                    ),\n",
    "                    [CheckScoreGreaterThan(metric=accuracy_metric, value=0.70)])"
   ]
  },
  {
   "cell_type": "code",
   "execution_count": null,
   "metadata": {},
   "outputs": [],
   "source": [
    "project.run_all()"
   ]
  }
 ],
 "metadata": {
  "kernelspec": {
   "display_name": "art",
   "language": "python",
   "name": "python3"
  },
  "language_info": {
   "codemirror_mode": {
    "name": "ipython",
    "version": 3
   },
   "file_extension": ".py",
   "mimetype": "text/x-python",
   "name": "python",
   "nbconvert_exporter": "python",
   "pygments_lexer": "ipython3",
   "version": "3.10.13"
  }
 },
 "nbformat": 4,
 "nbformat_minor": 2
}
