{
 "cells": [
  {
   "cell_type": "code",
   "execution_count": 1,
   "metadata": {},
   "outputs": [],
   "source": [
    "from dataset import CifarDataModule\n",
    "\n",
    "from art.project import ArtProject\n",
    "from art.checks import CheckResultExists, CheckScoreExists, CheckScoreLessThan, CheckScoreGreaterThan\n",
    "from art.steps import EvaluateBaseline, OverfitOneBatch, Overfit#, TransferLearning\n",
    "from torchmetrics import Accuracy, Precision, Recall\n",
    "import torch.nn as nn\n",
    "from lightning.pytorch.callbacks import EarlyStopping\n",
    "\n",
    "from dataset import CifarDataModule\n",
    "from checks import CheckClassImagesExist, CheckLenClassNamesEqualToNumClasses\n",
    "from steps import DataAnalysis\n",
    "import math"
   ]
  },
  {
   "cell_type": "code",
   "execution_count": 2,
   "metadata": {},
   "outputs": [
    {
     "name": "stderr",
     "output_type": "stream",
     "text": [
      "Global seed set to 23\n"
     ]
    },
    {
     "data": {
      "text/plain": [
       "23"
      ]
     },
     "execution_count": 2,
     "metadata": {},
     "output_type": "execute_result"
    }
   ],
   "source": [
    "%load_ext autoreload\n",
    "%autoreload 2\n",
    "from lightning import seed_everything\n",
    "seed_everything(23)"
   ]
  },
  {
   "cell_type": "markdown",
   "metadata": {},
   "source": [
    "# Proper data analysis"
   ]
  },
  {
   "cell_type": "code",
   "execution_count": 3,
   "metadata": {},
   "outputs": [
    {
     "name": "stdout",
     "output_type": "stream",
     "text": [
      "Summary: \n",
      "Step: Data analysis, Model: , Passed: True. Results:\n",
      "\n"
     ]
    }
   ],
   "source": [
    "project = ArtProject(\"Cifar100\", CifarDataModule(batch_size=32))\n",
    "project.add_step(DataAnalysis(), [\n",
    "    CheckResultExists(\"number_of_classes\"),\n",
    "    CheckResultExists(\"class_names\"),\n",
    "    CheckResultExists(\"number_of_examples_in_each_class\"),\n",
    "    CheckResultExists(\"img_dimensions\"),\n",
    "    CheckClassImagesExist(),\n",
    "    CheckLenClassNamesEqualToNumClasses()])\n",
    "project.run_all()\n"
   ]
  },
  {
   "cell_type": "code",
   "execution_count": 4,
   "metadata": {},
   "outputs": [],
   "source": [
    "from torchmetrics import Accuracy\n",
    "import torch.nn as nn\n",
    "from art.steps import EvaluateBaseline\n",
    "\n",
    "NUM_CLASSES = project.get_step(0).get_latest_run()[\"number_of_classes\"]\n",
    "accuracy_metric, ce_loss = Accuracy(task=\"multiclass\", num_classes = NUM_CLASSES), nn.CrossEntropyLoss()\n",
    "project.register_metrics([accuracy_metric, ce_loss])"
   ]
  },
  {
   "cell_type": "code",
   "execution_count": 5,
   "metadata": {},
   "outputs": [],
   "source": [
    "from art.metrics import SkippedMetric\n",
    "from models.baselines import MlBaseline, HeuristicBaseline, AlreadyExistingResNet20Baseline\n",
    "from art.checks import CheckScoreExists\n",
    "baselines = [HeuristicBaseline, MlBaseline, AlreadyExistingResNet20Baseline]\n",
    "for baseline in baselines:\n",
    "    project.add_step(\n",
    "        step = EvaluateBaseline(baseline), \n",
    "        checks = [CheckScoreExists(metric=accuracy_metric)],\n",
    "        skipped_metrics=[SkippedMetric(metric=ce_loss)]\n",
    "    )\n"
   ]
  },
  {
   "cell_type": "code",
   "execution_count": 6,
   "metadata": {},
   "outputs": [
    {
     "name": "stdout",
     "output_type": "stream",
     "text": [
      "Summary: \n",
      "Step: Data analysis, Model: , Passed: True. Results:\n",
      "\n",
      "Step: Evaluate Baseline, Model: HeuristicBaseline, Passed: True. Results:\n",
      "\tMulticlassAccuracy-validate: 0.012299999594688416\n",
      "Step: Evaluate Baseline, Model: MlBaseline, Passed: True. Results:\n",
      "\tMulticlassAccuracy-validate: 0.15649999678134918\n",
      "Step: Evaluate Baseline, Model: AlreadyExistingResNet20Baseline, Passed: True. Results:\n",
      "\tMulticlassAccuracy-validate: 0.6883000135421753\n"
     ]
    }
   ],
   "source": [
    "project.run_all()"
   ]
  },
  {
   "cell_type": "code",
   "execution_count": 16,
   "metadata": {},
   "outputs": [
    {
     "name": "stdout",
     "output_type": "stream",
     "text": [
      "4.605170185988091\n"
     ]
    }
   ],
   "source": [
    "from models.ResNet import ResNet18\n",
    "from art.steps import CheckLossOnInit\n",
    "from art.checks import CheckScoreCloseTo\n",
    "from torch.cuda import is_available\n",
    "project.to(\"cuda\" if is_available() else \"cpu\")\n",
    "\n",
    "EXPECTED_LOSS = -math.log(1/NUM_CLASSES)\n",
    "print(EXPECTED_LOSS)"
   ]
  },
  {
   "cell_type": "code",
   "execution_count": 17,
   "metadata": {},
   "outputs": [
    {
     "name": "stderr",
     "output_type": "stream",
     "text": [
      "GPU available: False, used: False\n",
      "TPU available: False, using: 0 TPU cores\n",
      "IPU available: False, using: 0 IPUs\n",
      "HPU available: False, using: 0 HPUs\n"
     ]
    },
    {
     "name": "stdout",
     "output_type": "stream",
     "text": [
      "Calculating loss on init\n",
      "Validating model ResNet18\n"
     ]
    },
    {
     "name": "stderr",
     "output_type": "stream",
     "text": [
      "Using cache found in C:\\Users\\matri/.cache\\torch\\hub\\facebookresearch_semi-supervised-ImageNet1K-models_master\n"
     ]
    },
    {
     "data": {
      "application/vnd.jupyter.widget-view+json": {
       "model_id": "c6e91d2fd11340b489221baf6d606871",
       "version_major": 2,
       "version_minor": 0
      },
      "text/plain": [
       "Validation: 0it [00:00, ?it/s]"
      ]
     },
     "metadata": {},
     "output_type": "display_data"
    },
    {
     "data": {
      "text/html": [
       "<pre style=\"white-space:pre;overflow-x:auto;line-height:normal;font-family:Menlo,'DejaVu Sans Mono',consolas,'Courier New',monospace\">┏━━━━━━━━━━━━━━━━━━━━━━━━━━━━━┳━━━━━━━━━━━━━━━━━━━━━━━━━━━━━┓\n",
       "┃<span style=\"font-weight: bold\">       Validate metric       </span>┃<span style=\"font-weight: bold\">        DataLoader 0         </span>┃\n",
       "┡━━━━━━━━━━━━━━━━━━━━━━━━━━━━━╇━━━━━━━━━━━━━━━━━━━━━━━━━━━━━┩\n",
       "│<span style=\"color: #008080; text-decoration-color: #008080\">  CrossEntropyLoss-validate  </span>│<span style=\"color: #800080; text-decoration-color: #800080\">      5.054237365722656      </span>│\n",
       "│<span style=\"color: #008080; text-decoration-color: #008080\"> MulticlassAccuracy-validate </span>│<span style=\"color: #800080; text-decoration-color: #800080\">    0.008419999852776527     </span>│\n",
       "└─────────────────────────────┴─────────────────────────────┘\n",
       "</pre>\n"
      ],
      "text/plain": [
       "┏━━━━━━━━━━━━━━━━━━━━━━━━━━━━━┳━━━━━━━━━━━━━━━━━━━━━━━━━━━━━┓\n",
       "┃\u001b[1m \u001b[0m\u001b[1m      Validate metric      \u001b[0m\u001b[1m \u001b[0m┃\u001b[1m \u001b[0m\u001b[1m       DataLoader 0        \u001b[0m\u001b[1m \u001b[0m┃\n",
       "┡━━━━━━━━━━━━━━━━━━━━━━━━━━━━━╇━━━━━━━━━━━━━━━━━━━━━━━━━━━━━┩\n",
       "│\u001b[36m \u001b[0m\u001b[36m CrossEntropyLoss-validate \u001b[0m\u001b[36m \u001b[0m│\u001b[35m \u001b[0m\u001b[35m     5.054237365722656     \u001b[0m\u001b[35m \u001b[0m│\n",
       "│\u001b[36m \u001b[0m\u001b[36mMulticlassAccuracy-validate\u001b[0m\u001b[36m \u001b[0m│\u001b[35m \u001b[0m\u001b[35m   0.008419999852776527    \u001b[0m\u001b[35m \u001b[0m│\n",
       "└─────────────────────────────┴─────────────────────────────┘\n"
      ]
     },
     "metadata": {},
     "output_type": "display_data"
    },
    {
     "name": "stdout",
     "output_type": "stream",
     "text": [
      "Summary: \n",
      "Step: Data analysis, Model: , Passed: True. Results:\n",
      "\n",
      "Step: Evaluate Baseline, Model: HeuristicBaseline, Passed: True. Results:\n",
      "\tMulticlassAccuracy-validate: 0.012299999594688416\n",
      "Step: Evaluate Baseline, Model: MlBaseline, Passed: True. Results:\n",
      "\tMulticlassAccuracy-validate: 0.15649999678134918\n",
      "Step: Evaluate Baseline, Model: AlreadyExistingResNet20Baseline, Passed: True. Results:\n",
      "\tMulticlassAccuracy-validate: 0.6883000135421753\n",
      "Step: Check Loss On Init, Model: ResNet18, Passed: True. Results:\n",
      "\tMulticlassAccuracy-validate: 0.008419999852776527\n",
      "\tCrossEntropyLoss-validate: 5.054237365722656\n",
      "Step: Check Loss On Init, Model: ResNet18, Passed: True. Results:\n",
      "\tMulticlassAccuracy-validate: 0.008419999852776527\n",
      "\tCrossEntropyLoss-validate: 5.054237365722656\n",
      "Step: Check Loss On Init, Model: ResNet18, Passed: True. Results:\n",
      "\tMulticlassAccuracy-validate: 0.008419999852776527\n",
      "\tCrossEntropyLoss-validate: 5.054237365722656\n"
     ]
    }
   ],
   "source": [
    "project.add_step(\n",
    "        CheckLossOnInit(ResNet18),\n",
    "        [CheckScoreCloseTo(metric=ce_loss,\n",
    "                           value=EXPECTED_LOSS, rel_tol=0.1)]\n",
    "    )\n",
    "\n",
    "project.run_all()"
   ]
  },
  {
   "cell_type": "code",
   "execution_count": null,
   "metadata": {},
   "outputs": [],
   "source": []
  }
 ],
 "metadata": {
  "kernelspec": {
   "display_name": "art",
   "language": "python",
   "name": "python3"
  },
  "language_info": {
   "codemirror_mode": {
    "name": "ipython",
    "version": 3
   },
   "file_extension": ".py",
   "mimetype": "text/x-python",
   "name": "python",
   "nbconvert_exporter": "python",
   "pygments_lexer": "ipython3",
   "version": "3.10.13"
  }
 },
 "nbformat": 4,
 "nbformat_minor": 2
}
