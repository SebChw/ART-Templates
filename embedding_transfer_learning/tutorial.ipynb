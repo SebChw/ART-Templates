{
 "cells": [
  {
   "cell_type": "code",
   "execution_count": 1,
   "id": "initial_id",
   "metadata": {
    "collapsed": true,
    "ExecuteTime": {
     "end_time": "2023-11-30T18:49:54.895817817Z",
     "start_time": "2023-11-30T18:49:50.504344402Z"
    }
   },
   "outputs": [],
   "source": [
    "import pandas as pd\n",
    "from embedding_transfer_learning.steps import DataPreperation\n",
    "from embedding_transfer_learning.common import FINAL_DATA_PARQUET"
   ]
  },
  {
   "cell_type": "code",
   "execution_count": 2,
   "outputs": [],
   "source": [
    "step = DataPreperation()"
   ],
   "metadata": {
    "collapsed": false,
    "ExecuteTime": {
     "end_time": "2023-11-30T18:49:54.914974467Z",
     "start_time": "2023-11-30T18:49:54.896820577Z"
    }
   },
   "id": "5de726cf83cf4ac7"
  },
  {
   "cell_type": "code",
   "execution_count": 3,
   "outputs": [
    {
     "name": "stdout",
     "output_type": "stream",
     "text": [
      "Reading data\n",
      "Preparing recipe content\n",
      "Preparing recipe embeddings\n"
     ]
    },
    {
     "name": "stderr",
     "output_type": "stream",
     "text": [
      "100%|██████████| 10455/10455 [03:05<00:00, 56.30it/s]\n"
     ]
    },
    {
     "name": "stdout",
     "output_type": "stream",
     "text": [
      "Preparing queries\n",
      "Merging datframes\n",
      "Index(['recipe_id', 'query', 'query_id', 'id', 'recipe_embeddings',\n",
      "       'recipe_merged_info'],\n",
      "      dtype='object')\n",
      "Saving final data\n"
     ]
    },
    {
     "name": "stderr",
     "output_type": "stream",
     "text": [
      "100%|██████████| 409/409 [01:11<00:00,  5.72it/s]\n"
     ]
    }
   ],
   "source": [
    "step({}, None, None)"
   ],
   "metadata": {
    "collapsed": false,
    "ExecuteTime": {
     "end_time": "2023-11-30T18:55:01.815007592Z",
     "start_time": "2023-11-30T18:49:54.902956994Z"
    }
   },
   "id": "8268b3ab9688ac4b"
  },
  {
   "cell_type": "code",
   "execution_count": 2,
   "outputs": [],
   "source": [
    "df = pd.read_parquet(FINAL_DATA_PARQUET)"
   ],
   "metadata": {
    "collapsed": false,
    "ExecuteTime": {
     "end_time": "2023-11-30T14:40:37.068437071Z",
     "start_time": "2023-11-30T14:40:30.775061243Z"
    }
   },
   "id": "21097087672512ed"
  },
  {
   "cell_type": "code",
   "execution_count": 3,
   "outputs": [
    {
     "data": {
      "text/plain": "   recipe_id                                    query  query_id      id  \\\n0     467357                autumn squash soup recipe         0  467357   \n1     467357  butternut squash soup with coconut milk         1  467357   \n2     467357                    squash soup with sage         2  467357   \n3     467357                  squash soup with garlic         3  467357   \n4     467357                        maple squash soup         4  467357   \n\n                                   recipe_embeddings  \\\n0  [-0.0369025319814682, -0.2855876088142395, 0.0...   \n1  [-0.0369025319814682, -0.2855876088142395, 0.0...   \n2  [-0.0369025319814682, -0.2855876088142395, 0.0...   \n3  [-0.0369025319814682, -0.2855876088142395, 0.0...   \n4  [-0.0369025319814682, -0.2855876088142395, 0.0...   \n\n                                    query_embeddings  \n0  [0.2657124102115631, -0.418634295463562, -0.22...  \n1  [-0.445932537317276, -0.29783785343170166, -0....  \n2  [0.11369498819112778, -0.4107171595096588, -0....  \n3  [0.1383584886789322, -0.49361947178840637, -0....  \n4  [-0.18514269590377808, -0.6256309747695923, -0...  ",
      "text/html": "<div>\n<style scoped>\n    .dataframe tbody tr th:only-of-type {\n        vertical-align: middle;\n    }\n\n    .dataframe tbody tr th {\n        vertical-align: top;\n    }\n\n    .dataframe thead th {\n        text-align: right;\n    }\n</style>\n<table border=\"1\" class=\"dataframe\">\n  <thead>\n    <tr style=\"text-align: right;\">\n      <th></th>\n      <th>recipe_id</th>\n      <th>query</th>\n      <th>query_id</th>\n      <th>id</th>\n      <th>recipe_embeddings</th>\n      <th>query_embeddings</th>\n    </tr>\n  </thead>\n  <tbody>\n    <tr>\n      <th>0</th>\n      <td>467357</td>\n      <td>autumn squash soup recipe</td>\n      <td>0</td>\n      <td>467357</td>\n      <td>[-0.0369025319814682, -0.2855876088142395, 0.0...</td>\n      <td>[0.2657124102115631, -0.418634295463562, -0.22...</td>\n    </tr>\n    <tr>\n      <th>1</th>\n      <td>467357</td>\n      <td>butternut squash soup with coconut milk</td>\n      <td>1</td>\n      <td>467357</td>\n      <td>[-0.0369025319814682, -0.2855876088142395, 0.0...</td>\n      <td>[-0.445932537317276, -0.29783785343170166, -0....</td>\n    </tr>\n    <tr>\n      <th>2</th>\n      <td>467357</td>\n      <td>squash soup with sage</td>\n      <td>2</td>\n      <td>467357</td>\n      <td>[-0.0369025319814682, -0.2855876088142395, 0.0...</td>\n      <td>[0.11369498819112778, -0.4107171595096588, -0....</td>\n    </tr>\n    <tr>\n      <th>3</th>\n      <td>467357</td>\n      <td>squash soup with garlic</td>\n      <td>3</td>\n      <td>467357</td>\n      <td>[-0.0369025319814682, -0.2855876088142395, 0.0...</td>\n      <td>[0.1383584886789322, -0.49361947178840637, -0....</td>\n    </tr>\n    <tr>\n      <th>4</th>\n      <td>467357</td>\n      <td>maple squash soup</td>\n      <td>4</td>\n      <td>467357</td>\n      <td>[-0.0369025319814682, -0.2855876088142395, 0.0...</td>\n      <td>[-0.18514269590377808, -0.6256309747695923, -0...</td>\n    </tr>\n  </tbody>\n</table>\n</div>"
     },
     "execution_count": 3,
     "metadata": {},
     "output_type": "execute_result"
    }
   ],
   "source": [
    "df.head()"
   ],
   "metadata": {
    "collapsed": false,
    "ExecuteTime": {
     "end_time": "2023-11-30T14:40:42.837036949Z",
     "start_time": "2023-11-30T14:40:42.812874808Z"
    }
   },
   "id": "d05c029f5121e238"
  },
  {
   "cell_type": "code",
   "execution_count": null,
   "outputs": [],
   "source": [],
   "metadata": {
    "collapsed": false
   },
   "id": "8aed48201284d40c"
  }
 ],
 "metadata": {
  "kernelspec": {
   "display_name": "Python 3",
   "language": "python",
   "name": "python3"
  },
  "language_info": {
   "codemirror_mode": {
    "name": "ipython",
    "version": 2
   },
   "file_extension": ".py",
   "mimetype": "text/x-python",
   "name": "python",
   "nbconvert_exporter": "python",
   "pygments_lexer": "ipython2",
   "version": "2.7.6"
  }
 },
 "nbformat": 4,
 "nbformat_minor": 5
}
